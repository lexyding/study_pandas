{
 "cells": [
  {
   "cell_type": "code",
   "execution_count": 1,
   "id": "de126b31",
   "metadata": {
    "ExecuteTime": {
     "end_time": "2022-04-18T10:30:44.858754Z",
     "start_time": "2022-04-18T10:30:44.563747Z"
    }
   },
   "outputs": [],
   "source": [
    "import pandas as pd\n",
    "import numpy as np"
   ]
  },
  {
   "cell_type": "code",
   "execution_count": 2,
   "id": "bca3b247",
   "metadata": {
    "ExecuteTime": {
     "end_time": "2022-04-18T10:31:01.821922Z",
     "start_time": "2022-04-18T10:31:01.817918Z"
    }
   },
   "outputs": [],
   "source": [
    "from collections import namedtuple"
   ]
  },
  {
   "cell_type": "code",
   "execution_count": 4,
   "id": "f7d582f5",
   "metadata": {
    "ExecuteTime": {
     "end_time": "2022-04-18T10:31:56.246880Z",
     "start_time": "2022-04-18T10:31:56.242882Z"
    }
   },
   "outputs": [],
   "source": [
    "Point = namedtuple(\"Point\", \"x y\")"
   ]
  },
  {
   "cell_type": "code",
   "execution_count": 13,
   "id": "b63a5713",
   "metadata": {
    "ExecuteTime": {
     "end_time": "2022-04-18T10:35:27.953202Z",
     "start_time": "2022-04-18T10:35:27.945189Z"
    }
   },
   "outputs": [
    {
     "data": {
      "text/html": [
       "<div>\n",
       "<style scoped>\n",
       "    .dataframe tbody tr th:only-of-type {\n",
       "        vertical-align: middle;\n",
       "    }\n",
       "\n",
       "    .dataframe tbody tr th {\n",
       "        vertical-align: top;\n",
       "    }\n",
       "\n",
       "    .dataframe thead th {\n",
       "        text-align: right;\n",
       "    }\n",
       "</style>\n",
       "<table border=\"1\" class=\"dataframe\">\n",
       "  <thead>\n",
       "    <tr style=\"text-align: right;\">\n",
       "      <th></th>\n",
       "      <th>x</th>\n",
       "      <th>y</th>\n",
       "    </tr>\n",
       "  </thead>\n",
       "  <tbody>\n",
       "    <tr>\n",
       "      <th>0</th>\n",
       "      <td>0</td>\n",
       "      <td>0</td>\n",
       "    </tr>\n",
       "    <tr>\n",
       "      <th>1</th>\n",
       "      <td>0</td>\n",
       "      <td>3</td>\n",
       "    </tr>\n",
       "    <tr>\n",
       "      <th>2</th>\n",
       "      <td>2</td>\n",
       "      <td>3</td>\n",
       "    </tr>\n",
       "    <tr>\n",
       "      <th>3</th>\n",
       "      <td>3</td>\n",
       "      <td>4</td>\n",
       "    </tr>\n",
       "  </tbody>\n",
       "</table>\n",
       "</div>"
      ],
      "text/plain": [
       "   x  y\n",
       "0  0  0\n",
       "1  0  3\n",
       "2  2  3\n",
       "3  3  4"
      ]
     },
     "execution_count": 13,
     "metadata": {},
     "output_type": "execute_result"
    }
   ],
   "source": [
    "pd.DataFrame([Point(0, 0), Point(0, 3), Point(2, 3), Point(3, 4)])"
   ]
  },
  {
   "cell_type": "code",
   "execution_count": 12,
   "id": "40b0da31",
   "metadata": {
    "ExecuteTime": {
     "end_time": "2022-04-18T10:35:03.716909Z",
     "start_time": "2022-04-18T10:35:03.712909Z"
    }
   },
   "outputs": [
    {
     "data": {
      "text/plain": [
       "[Point(x=0, y=1)]"
      ]
     },
     "execution_count": 12,
     "metadata": {},
     "output_type": "execute_result"
    }
   ],
   "source": [
    "[Point(0, 1)]"
   ]
  },
  {
   "cell_type": "code",
   "execution_count": 14,
   "id": "ea561c1a",
   "metadata": {
    "ExecuteTime": {
     "end_time": "2022-04-18T10:36:00.825318Z",
     "start_time": "2022-04-18T10:36:00.821318Z"
    }
   },
   "outputs": [],
   "source": [
    "point3d = namedtuple(\"point3d\", \"x y z\")"
   ]
  },
  {
   "cell_type": "code",
   "execution_count": 20,
   "id": "a438e966",
   "metadata": {
    "ExecuteTime": {
     "end_time": "2022-04-18T10:37:36.873213Z",
     "start_time": "2022-04-18T10:37:36.862230Z"
    }
   },
   "outputs": [
    {
     "data": {
      "text/html": [
       "<div>\n",
       "<style scoped>\n",
       "    .dataframe tbody tr th:only-of-type {\n",
       "        vertical-align: middle;\n",
       "    }\n",
       "\n",
       "    .dataframe tbody tr th {\n",
       "        vertical-align: top;\n",
       "    }\n",
       "\n",
       "    .dataframe thead th {\n",
       "        text-align: right;\n",
       "    }\n",
       "</style>\n",
       "<table border=\"1\" class=\"dataframe\">\n",
       "  <thead>\n",
       "    <tr style=\"text-align: right;\">\n",
       "      <th></th>\n",
       "      <th>x</th>\n",
       "      <th>y</th>\n",
       "      <th>z</th>\n",
       "    </tr>\n",
       "  </thead>\n",
       "  <tbody>\n",
       "    <tr>\n",
       "      <th>0</th>\n",
       "      <td>0</td>\n",
       "      <td>0</td>\n",
       "      <td>0.0</td>\n",
       "    </tr>\n",
       "    <tr>\n",
       "      <th>1</th>\n",
       "      <td>0</td>\n",
       "      <td>3</td>\n",
       "      <td>5.0</td>\n",
       "    </tr>\n",
       "    <tr>\n",
       "      <th>2</th>\n",
       "      <td>2</td>\n",
       "      <td>1</td>\n",
       "      <td>NaN</td>\n",
       "    </tr>\n",
       "  </tbody>\n",
       "</table>\n",
       "</div>"
      ],
      "text/plain": [
       "   x  y    z\n",
       "0  0  0  0.0\n",
       "1  0  3  5.0\n",
       "2  2  1  NaN"
      ]
     },
     "execution_count": 20,
     "metadata": {},
     "output_type": "execute_result"
    }
   ],
   "source": [
    "pd.DataFrame([point3d(0, 0, 0), point3d(0, 3, 5), point3d(2, 1, np.nan)])"
   ]
  },
  {
   "cell_type": "code",
   "execution_count": 21,
   "id": "4cabd071",
   "metadata": {
    "ExecuteTime": {
     "end_time": "2022-04-18T10:40:33.513514Z",
     "start_time": "2022-04-18T10:40:33.510514Z"
    }
   },
   "outputs": [],
   "source": [
    "from dataclasses import make_dataclass"
   ]
  },
  {
   "cell_type": "code",
   "execution_count": 22,
   "id": "de38ab53",
   "metadata": {
    "ExecuteTime": {
     "end_time": "2022-04-18T10:41:14.952572Z",
     "start_time": "2022-04-18T10:41:14.949569Z"
    }
   },
   "outputs": [],
   "source": [
    "point = make_dataclass(\"point\", [(\"x\", int), (\"y\", int)])"
   ]
  },
  {
   "cell_type": "code",
   "execution_count": 23,
   "id": "3a7f0e51",
   "metadata": {
    "ExecuteTime": {
     "end_time": "2022-04-18T10:41:54.321157Z",
     "start_time": "2022-04-18T10:41:54.309158Z"
    }
   },
   "outputs": [
    {
     "data": {
      "text/html": [
       "<div>\n",
       "<style scoped>\n",
       "    .dataframe tbody tr th:only-of-type {\n",
       "        vertical-align: middle;\n",
       "    }\n",
       "\n",
       "    .dataframe tbody tr th {\n",
       "        vertical-align: top;\n",
       "    }\n",
       "\n",
       "    .dataframe thead th {\n",
       "        text-align: right;\n",
       "    }\n",
       "</style>\n",
       "<table border=\"1\" class=\"dataframe\">\n",
       "  <thead>\n",
       "    <tr style=\"text-align: right;\">\n",
       "      <th></th>\n",
       "      <th>x</th>\n",
       "      <th>y</th>\n",
       "    </tr>\n",
       "  </thead>\n",
       "  <tbody>\n",
       "    <tr>\n",
       "      <th>0</th>\n",
       "      <td>0</td>\n",
       "      <td>0</td>\n",
       "    </tr>\n",
       "    <tr>\n",
       "      <th>1</th>\n",
       "      <td>0</td>\n",
       "      <td>3</td>\n",
       "    </tr>\n",
       "    <tr>\n",
       "      <th>2</th>\n",
       "      <td>2</td>\n",
       "      <td>3</td>\n",
       "    </tr>\n",
       "  </tbody>\n",
       "</table>\n",
       "</div>"
      ],
      "text/plain": [
       "   x  y\n",
       "0  0  0\n",
       "1  0  3\n",
       "2  2  3"
      ]
     },
     "execution_count": 23,
     "metadata": {},
     "output_type": "execute_result"
    }
   ],
   "source": [
    "pd.DataFrame([point(0, 0), point(0, 3), point(2, 3)])"
   ]
  },
  {
   "cell_type": "code",
   "execution_count": null,
   "id": "a0592ea6",
   "metadata": {},
   "outputs": [],
   "source": []
  }
 ],
 "metadata": {
  "kernelspec": {
   "display_name": "Python 3",
   "language": "python",
   "name": "python3"
  },
  "language_info": {
   "codemirror_mode": {
    "name": "ipython",
    "version": 3
   },
   "file_extension": ".py",
   "mimetype": "text/x-python",
   "name": "python",
   "nbconvert_exporter": "python",
   "pygments_lexer": "ipython3",
   "version": "3.8.8"
  },
  "toc": {
   "base_numbering": 1,
   "nav_menu": {},
   "number_sections": true,
   "sideBar": true,
   "skip_h1_title": false,
   "title_cell": "Table of Contents",
   "title_sidebar": "Contents",
   "toc_cell": false,
   "toc_position": {},
   "toc_section_display": true,
   "toc_window_display": false
  },
  "varInspector": {
   "cols": {
    "lenName": 16,
    "lenType": 16,
    "lenVar": 40
   },
   "kernels_config": {
    "python": {
     "delete_cmd_postfix": "",
     "delete_cmd_prefix": "del ",
     "library": "var_list.py",
     "varRefreshCmd": "print(var_dic_list())"
    },
    "r": {
     "delete_cmd_postfix": ") ",
     "delete_cmd_prefix": "rm(",
     "library": "var_list.r",
     "varRefreshCmd": "cat(var_dic_list()) "
    }
   },
   "types_to_exclude": [
    "module",
    "function",
    "builtin_function_or_method",
    "instance",
    "_Feature"
   ],
   "window_display": false
  }
 },
 "nbformat": 4,
 "nbformat_minor": 5
}
