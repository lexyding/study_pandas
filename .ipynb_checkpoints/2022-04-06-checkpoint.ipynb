{
 "cells": [
  {
   "cell_type": "code",
   "execution_count": 1,
   "id": "4b495153",
   "metadata": {
    "ExecuteTime": {
     "end_time": "2022-04-06T09:17:11.988608Z",
     "start_time": "2022-04-06T09:17:11.466039Z"
    }
   },
   "outputs": [],
   "source": [
    "import numpy as np\n",
    "import pandas as pd"
   ]
  },
  {
   "cell_type": "code",
   "execution_count": 2,
   "id": "5686da07",
   "metadata": {
    "ExecuteTime": {
     "end_time": "2022-04-06T09:18:28.382262Z",
     "start_time": "2022-04-06T09:18:28.365285Z"
    }
   },
   "outputs": [
    {
     "data": {
      "text/plain": [
       "0    1.0\n",
       "1    3.0\n",
       "2    5.0\n",
       "3    NaN\n",
       "4    6.0\n",
       "5    8.0\n",
       "dtype: float64"
      ]
     },
     "execution_count": 2,
     "metadata": {},
     "output_type": "execute_result"
    }
   ],
   "source": [
    "s = pd.Series([1, 3, 5, np.nan, 6, 8])\n",
    "s"
   ]
  },
  {
   "cell_type": "code",
   "execution_count": 3,
   "id": "0f7c43c5",
   "metadata": {
    "ExecuteTime": {
     "end_time": "2022-04-06T09:19:28.997525Z",
     "start_time": "2022-04-06T09:19:28.985025Z"
    }
   },
   "outputs": [
    {
     "data": {
      "text/plain": [
       "DatetimeIndex(['2013-01-01', '2013-01-02', '2013-01-03', '2013-01-04',\n",
       "               '2013-01-05', '2013-01-06'],\n",
       "              dtype='datetime64[ns]', freq='D')"
      ]
     },
     "execution_count": 3,
     "metadata": {},
     "output_type": "execute_result"
    }
   ],
   "source": [
    "dates = pd.date_range('20130101', periods=6)\n",
    "dates"
   ]
  },
  {
   "cell_type": "code",
   "execution_count": 5,
   "id": "eb5f4d69",
   "metadata": {
    "ExecuteTime": {
     "end_time": "2022-04-06T09:23:08.017618Z",
     "start_time": "2022-04-06T09:23:08.006619Z"
    }
   },
   "outputs": [
    {
     "data": {
      "text/html": [
       "<div>\n",
       "<style scoped>\n",
       "    .dataframe tbody tr th:only-of-type {\n",
       "        vertical-align: middle;\n",
       "    }\n",
       "\n",
       "    .dataframe tbody tr th {\n",
       "        vertical-align: top;\n",
       "    }\n",
       "\n",
       "    .dataframe thead th {\n",
       "        text-align: right;\n",
       "    }\n",
       "</style>\n",
       "<table border=\"1\" class=\"dataframe\">\n",
       "  <thead>\n",
       "    <tr style=\"text-align: right;\">\n",
       "      <th></th>\n",
       "      <th>A</th>\n",
       "      <th>B</th>\n",
       "      <th>C</th>\n",
       "      <th>D</th>\n",
       "    </tr>\n",
       "  </thead>\n",
       "  <tbody>\n",
       "    <tr>\n",
       "      <th>2013-01-01</th>\n",
       "      <td>-0.284604</td>\n",
       "      <td>-0.933469</td>\n",
       "      <td>0.098997</td>\n",
       "      <td>0.193849</td>\n",
       "    </tr>\n",
       "    <tr>\n",
       "      <th>2013-01-02</th>\n",
       "      <td>-0.154906</td>\n",
       "      <td>0.939757</td>\n",
       "      <td>-1.827047</td>\n",
       "      <td>-0.005126</td>\n",
       "    </tr>\n",
       "    <tr>\n",
       "      <th>2013-01-03</th>\n",
       "      <td>-0.342975</td>\n",
       "      <td>-1.452343</td>\n",
       "      <td>2.983670</td>\n",
       "      <td>-0.685732</td>\n",
       "    </tr>\n",
       "    <tr>\n",
       "      <th>2013-01-04</th>\n",
       "      <td>-0.067725</td>\n",
       "      <td>-2.670401</td>\n",
       "      <td>-0.394594</td>\n",
       "      <td>-1.392980</td>\n",
       "    </tr>\n",
       "    <tr>\n",
       "      <th>2013-01-05</th>\n",
       "      <td>-0.445094</td>\n",
       "      <td>0.763297</td>\n",
       "      <td>-0.663794</td>\n",
       "      <td>0.298800</td>\n",
       "    </tr>\n",
       "    <tr>\n",
       "      <th>2013-01-06</th>\n",
       "      <td>-1.575347</td>\n",
       "      <td>-0.145149</td>\n",
       "      <td>-1.639516</td>\n",
       "      <td>-0.112989</td>\n",
       "    </tr>\n",
       "  </tbody>\n",
       "</table>\n",
       "</div>"
      ],
      "text/plain": [
       "                   A         B         C         D\n",
       "2013-01-01 -0.284604 -0.933469  0.098997  0.193849\n",
       "2013-01-02 -0.154906  0.939757 -1.827047 -0.005126\n",
       "2013-01-03 -0.342975 -1.452343  2.983670 -0.685732\n",
       "2013-01-04 -0.067725 -2.670401 -0.394594 -1.392980\n",
       "2013-01-05 -0.445094  0.763297 -0.663794  0.298800\n",
       "2013-01-06 -1.575347 -0.145149 -1.639516 -0.112989"
      ]
     },
     "execution_count": 5,
     "metadata": {},
     "output_type": "execute_result"
    }
   ],
   "source": [
    "df = pd.DataFrame(np.random.randn(6, 4), index=dates, columns=list(\"ABCD\"))\n",
    "df"
   ]
  },
  {
   "cell_type": "code",
   "execution_count": 7,
   "id": "a24dffee",
   "metadata": {
    "ExecuteTime": {
     "end_time": "2022-04-06T09:30:26.151791Z",
     "start_time": "2022-04-06T09:30:26.133290Z"
    }
   },
   "outputs": [
    {
     "data": {
      "text/html": [
       "<div>\n",
       "<style scoped>\n",
       "    .dataframe tbody tr th:only-of-type {\n",
       "        vertical-align: middle;\n",
       "    }\n",
       "\n",
       "    .dataframe tbody tr th {\n",
       "        vertical-align: top;\n",
       "    }\n",
       "\n",
       "    .dataframe thead th {\n",
       "        text-align: right;\n",
       "    }\n",
       "</style>\n",
       "<table border=\"1\" class=\"dataframe\">\n",
       "  <thead>\n",
       "    <tr style=\"text-align: right;\">\n",
       "      <th></th>\n",
       "      <th>A</th>\n",
       "      <th>B</th>\n",
       "      <th>C</th>\n",
       "      <th>D</th>\n",
       "      <th>E</th>\n",
       "      <th>F</th>\n",
       "    </tr>\n",
       "  </thead>\n",
       "  <tbody>\n",
       "    <tr>\n",
       "      <th>0</th>\n",
       "      <td>1.0</td>\n",
       "      <td>2013-01-02</td>\n",
       "      <td>1.0</td>\n",
       "      <td>3</td>\n",
       "      <td>test</td>\n",
       "      <td>foo</td>\n",
       "    </tr>\n",
       "    <tr>\n",
       "      <th>1</th>\n",
       "      <td>1.0</td>\n",
       "      <td>2013-01-02</td>\n",
       "      <td>1.0</td>\n",
       "      <td>3</td>\n",
       "      <td>train</td>\n",
       "      <td>foo</td>\n",
       "    </tr>\n",
       "    <tr>\n",
       "      <th>2</th>\n",
       "      <td>1.0</td>\n",
       "      <td>2013-01-02</td>\n",
       "      <td>1.0</td>\n",
       "      <td>3</td>\n",
       "      <td>test</td>\n",
       "      <td>foo</td>\n",
       "    </tr>\n",
       "    <tr>\n",
       "      <th>3</th>\n",
       "      <td>1.0</td>\n",
       "      <td>2013-01-02</td>\n",
       "      <td>1.0</td>\n",
       "      <td>3</td>\n",
       "      <td>train</td>\n",
       "      <td>foo</td>\n",
       "    </tr>\n",
       "  </tbody>\n",
       "</table>\n",
       "</div>"
      ],
      "text/plain": [
       "     A          B    C  D      E    F\n",
       "0  1.0 2013-01-02  1.0  3   test  foo\n",
       "1  1.0 2013-01-02  1.0  3  train  foo\n",
       "2  1.0 2013-01-02  1.0  3   test  foo\n",
       "3  1.0 2013-01-02  1.0  3  train  foo"
      ]
     },
     "execution_count": 7,
     "metadata": {},
     "output_type": "execute_result"
    }
   ],
   "source": [
    "df2 = pd.DataFrame(\n",
    "    {\n",
    "        \"A\":1.0,\n",
    "        \"B\":pd.Timestamp('20130102'),\n",
    "        \"C\":pd.Series(1, index=list(range(4)), dtype=\"float32\"), \n",
    "        \"D\":np.array([3] * 4, dtype=\"int32\"),\n",
    "        \"E\":pd.Categorical(['test', 'train', 'test', 'train']), \n",
    "        \"F\":'foo'\n",
    "    }\n",
    ")\n",
    "df2"
   ]
  },
  {
   "cell_type": "code",
   "execution_count": 26,
   "id": "74dfc9b2",
   "metadata": {
    "ExecuteTime": {
     "end_time": "2022-04-06T09:34:19.518550Z",
     "start_time": "2022-04-06T09:34:19.513046Z"
    }
   },
   "outputs": [
    {
     "data": {
      "text/plain": [
       "array([0, 1, 0, 1], dtype=int8)"
      ]
     },
     "execution_count": 26,
     "metadata": {},
     "output_type": "execute_result"
    }
   ],
   "source": [
    "pd.Categorical(df2.iloc[:,4]).codes"
   ]
  },
  {
   "cell_type": "code",
   "execution_count": 28,
   "id": "e746c3f2",
   "metadata": {
    "ExecuteTime": {
     "end_time": "2022-04-06T09:35:28.008439Z",
     "start_time": "2022-04-06T09:35:27.998937Z"
    }
   },
   "outputs": [
    {
     "data": {
      "text/html": [
       "<div>\n",
       "<style scoped>\n",
       "    .dataframe tbody tr th:only-of-type {\n",
       "        vertical-align: middle;\n",
       "    }\n",
       "\n",
       "    .dataframe tbody tr th {\n",
       "        vertical-align: top;\n",
       "    }\n",
       "\n",
       "    .dataframe thead th {\n",
       "        text-align: right;\n",
       "    }\n",
       "</style>\n",
       "<table border=\"1\" class=\"dataframe\">\n",
       "  <thead>\n",
       "    <tr style=\"text-align: right;\">\n",
       "      <th></th>\n",
       "      <th>A</th>\n",
       "      <th>B</th>\n",
       "      <th>C</th>\n",
       "      <th>D</th>\n",
       "    </tr>\n",
       "  </thead>\n",
       "  <tbody>\n",
       "    <tr>\n",
       "      <th>2013-01-01</th>\n",
       "      <td>-0.284604</td>\n",
       "      <td>-0.933469</td>\n",
       "      <td>0.098997</td>\n",
       "      <td>0.193849</td>\n",
       "    </tr>\n",
       "    <tr>\n",
       "      <th>2013-01-02</th>\n",
       "      <td>-0.154906</td>\n",
       "      <td>0.939757</td>\n",
       "      <td>-1.827047</td>\n",
       "      <td>-0.005126</td>\n",
       "    </tr>\n",
       "    <tr>\n",
       "      <th>2013-01-03</th>\n",
       "      <td>-0.342975</td>\n",
       "      <td>-1.452343</td>\n",
       "      <td>2.983670</td>\n",
       "      <td>-0.685732</td>\n",
       "    </tr>\n",
       "    <tr>\n",
       "      <th>2013-01-04</th>\n",
       "      <td>-0.067725</td>\n",
       "      <td>-2.670401</td>\n",
       "      <td>-0.394594</td>\n",
       "      <td>-1.392980</td>\n",
       "    </tr>\n",
       "    <tr>\n",
       "      <th>2013-01-05</th>\n",
       "      <td>-0.445094</td>\n",
       "      <td>0.763297</td>\n",
       "      <td>-0.663794</td>\n",
       "      <td>0.298800</td>\n",
       "    </tr>\n",
       "  </tbody>\n",
       "</table>\n",
       "</div>"
      ],
      "text/plain": [
       "                   A         B         C         D\n",
       "2013-01-01 -0.284604 -0.933469  0.098997  0.193849\n",
       "2013-01-02 -0.154906  0.939757 -1.827047 -0.005126\n",
       "2013-01-03 -0.342975 -1.452343  2.983670 -0.685732\n",
       "2013-01-04 -0.067725 -2.670401 -0.394594 -1.392980\n",
       "2013-01-05 -0.445094  0.763297 -0.663794  0.298800"
      ]
     },
     "execution_count": 28,
     "metadata": {},
     "output_type": "execute_result"
    }
   ],
   "source": [
    "df.head()"
   ]
  },
  {
   "cell_type": "code",
   "execution_count": 29,
   "id": "3fb3dcfa",
   "metadata": {
    "ExecuteTime": {
     "end_time": "2022-04-06T09:35:35.666760Z",
     "start_time": "2022-04-06T09:35:35.657759Z"
    }
   },
   "outputs": [
    {
     "data": {
      "text/html": [
       "<div>\n",
       "<style scoped>\n",
       "    .dataframe tbody tr th:only-of-type {\n",
       "        vertical-align: middle;\n",
       "    }\n",
       "\n",
       "    .dataframe tbody tr th {\n",
       "        vertical-align: top;\n",
       "    }\n",
       "\n",
       "    .dataframe thead th {\n",
       "        text-align: right;\n",
       "    }\n",
       "</style>\n",
       "<table border=\"1\" class=\"dataframe\">\n",
       "  <thead>\n",
       "    <tr style=\"text-align: right;\">\n",
       "      <th></th>\n",
       "      <th>A</th>\n",
       "      <th>B</th>\n",
       "      <th>C</th>\n",
       "      <th>D</th>\n",
       "    </tr>\n",
       "  </thead>\n",
       "  <tbody>\n",
       "    <tr>\n",
       "      <th>2013-01-02</th>\n",
       "      <td>-0.154906</td>\n",
       "      <td>0.939757</td>\n",
       "      <td>-1.827047</td>\n",
       "      <td>-0.005126</td>\n",
       "    </tr>\n",
       "    <tr>\n",
       "      <th>2013-01-03</th>\n",
       "      <td>-0.342975</td>\n",
       "      <td>-1.452343</td>\n",
       "      <td>2.983670</td>\n",
       "      <td>-0.685732</td>\n",
       "    </tr>\n",
       "    <tr>\n",
       "      <th>2013-01-04</th>\n",
       "      <td>-0.067725</td>\n",
       "      <td>-2.670401</td>\n",
       "      <td>-0.394594</td>\n",
       "      <td>-1.392980</td>\n",
       "    </tr>\n",
       "    <tr>\n",
       "      <th>2013-01-05</th>\n",
       "      <td>-0.445094</td>\n",
       "      <td>0.763297</td>\n",
       "      <td>-0.663794</td>\n",
       "      <td>0.298800</td>\n",
       "    </tr>\n",
       "    <tr>\n",
       "      <th>2013-01-06</th>\n",
       "      <td>-1.575347</td>\n",
       "      <td>-0.145149</td>\n",
       "      <td>-1.639516</td>\n",
       "      <td>-0.112989</td>\n",
       "    </tr>\n",
       "  </tbody>\n",
       "</table>\n",
       "</div>"
      ],
      "text/plain": [
       "                   A         B         C         D\n",
       "2013-01-02 -0.154906  0.939757 -1.827047 -0.005126\n",
       "2013-01-03 -0.342975 -1.452343  2.983670 -0.685732\n",
       "2013-01-04 -0.067725 -2.670401 -0.394594 -1.392980\n",
       "2013-01-05 -0.445094  0.763297 -0.663794  0.298800\n",
       "2013-01-06 -1.575347 -0.145149 -1.639516 -0.112989"
      ]
     },
     "execution_count": 29,
     "metadata": {},
     "output_type": "execute_result"
    }
   ],
   "source": [
    "df.tail()"
   ]
  },
  {
   "cell_type": "code",
   "execution_count": 31,
   "id": "496c1f60",
   "metadata": {
    "ExecuteTime": {
     "end_time": "2022-04-06T09:35:52.464601Z",
     "start_time": "2022-04-06T09:35:52.459626Z"
    }
   },
   "outputs": [
    {
     "data": {
      "text/plain": [
       "DatetimeIndex(['2013-01-01', '2013-01-02', '2013-01-03', '2013-01-04',\n",
       "               '2013-01-05', '2013-01-06'],\n",
       "              dtype='datetime64[ns]', freq='D')"
      ]
     },
     "execution_count": 31,
     "metadata": {},
     "output_type": "execute_result"
    }
   ],
   "source": [
    "df.index"
   ]
  },
  {
   "cell_type": "code",
   "execution_count": 32,
   "id": "fb2bb86e",
   "metadata": {
    "ExecuteTime": {
     "end_time": "2022-04-06T09:36:01.391735Z",
     "start_time": "2022-04-06T09:36:01.386757Z"
    }
   },
   "outputs": [
    {
     "data": {
      "text/plain": [
       "Index(['A', 'B', 'C', 'D'], dtype='object')"
      ]
     },
     "execution_count": 32,
     "metadata": {},
     "output_type": "execute_result"
    }
   ],
   "source": [
    "df.columns"
   ]
  },
  {
   "cell_type": "code",
   "execution_count": 33,
   "id": "040a4b7f",
   "metadata": {
    "ExecuteTime": {
     "end_time": "2022-04-06T09:36:08.824407Z",
     "start_time": "2022-04-06T09:36:08.816383Z"
    },
    "scrolled": true
   },
   "outputs": [
    {
     "data": {
      "text/plain": [
       "array([[-0.28460362, -0.93346855,  0.09899714,  0.19384901],\n",
       "       [-0.15490577,  0.93975697, -1.82704678, -0.00512554],\n",
       "       [-0.34297483, -1.45234312,  2.9836696 , -0.68573248],\n",
       "       [-0.06772459, -2.67040081, -0.39459357, -1.39297952],\n",
       "       [-0.44509442,  0.76329741, -0.66379396,  0.29879953],\n",
       "       [-1.57534701, -0.14514875, -1.63951625, -0.1129893 ]])"
      ]
     },
     "execution_count": 33,
     "metadata": {},
     "output_type": "execute_result"
    }
   ],
   "source": [
    "df.to_numpy()"
   ]
  },
  {
   "cell_type": "code",
   "execution_count": 34,
   "id": "b572db18",
   "metadata": {
    "ExecuteTime": {
     "end_time": "2022-04-06T09:39:46.769020Z",
     "start_time": "2022-04-06T09:39:46.759991Z"
    }
   },
   "outputs": [
    {
     "data": {
      "text/plain": [
       "array([[1.0, Timestamp('2013-01-02 00:00:00'), 1.0, 3, 'test', 'foo'],\n",
       "       [1.0, Timestamp('2013-01-02 00:00:00'), 1.0, 3, 'train', 'foo'],\n",
       "       [1.0, Timestamp('2013-01-02 00:00:00'), 1.0, 3, 'test', 'foo'],\n",
       "       [1.0, Timestamp('2013-01-02 00:00:00'), 1.0, 3, 'train', 'foo']],\n",
       "      dtype=object)"
      ]
     },
     "execution_count": 34,
     "metadata": {},
     "output_type": "execute_result"
    }
   ],
   "source": [
    "df2.to_numpy()"
   ]
  },
  {
   "cell_type": "code",
   "execution_count": 36,
   "id": "94c1a399",
   "metadata": {
    "ExecuteTime": {
     "end_time": "2022-04-06T09:41:57.292569Z",
     "start_time": "2022-04-06T09:41:57.260041Z"
    }
   },
   "outputs": [
    {
     "data": {
      "text/html": [
       "<div>\n",
       "<style scoped>\n",
       "    .dataframe tbody tr th:only-of-type {\n",
       "        vertical-align: middle;\n",
       "    }\n",
       "\n",
       "    .dataframe tbody tr th {\n",
       "        vertical-align: top;\n",
       "    }\n",
       "\n",
       "    .dataframe thead th {\n",
       "        text-align: right;\n",
       "    }\n",
       "</style>\n",
       "<table border=\"1\" class=\"dataframe\">\n",
       "  <thead>\n",
       "    <tr style=\"text-align: right;\">\n",
       "      <th></th>\n",
       "      <th>A</th>\n",
       "      <th>B</th>\n",
       "      <th>C</th>\n",
       "      <th>D</th>\n",
       "    </tr>\n",
       "  </thead>\n",
       "  <tbody>\n",
       "    <tr>\n",
       "      <th>count</th>\n",
       "      <td>6.000000</td>\n",
       "      <td>6.000000</td>\n",
       "      <td>6.000000</td>\n",
       "      <td>6.000000</td>\n",
       "    </tr>\n",
       "    <tr>\n",
       "      <th>mean</th>\n",
       "      <td>-0.478442</td>\n",
       "      <td>-0.583051</td>\n",
       "      <td>-0.240381</td>\n",
       "      <td>-0.284030</td>\n",
       "    </tr>\n",
       "    <tr>\n",
       "      <th>std</th>\n",
       "      <td>0.553823</td>\n",
       "      <td>1.382667</td>\n",
       "      <td>1.742861</td>\n",
       "      <td>0.642843</td>\n",
       "    </tr>\n",
       "    <tr>\n",
       "      <th>min</th>\n",
       "      <td>-1.575347</td>\n",
       "      <td>-2.670401</td>\n",
       "      <td>-1.827047</td>\n",
       "      <td>-1.392980</td>\n",
       "    </tr>\n",
       "    <tr>\n",
       "      <th>25%</th>\n",
       "      <td>-0.419565</td>\n",
       "      <td>-1.322624</td>\n",
       "      <td>-1.395586</td>\n",
       "      <td>-0.542547</td>\n",
       "    </tr>\n",
       "    <tr>\n",
       "      <th>50%</th>\n",
       "      <td>-0.313789</td>\n",
       "      <td>-0.539309</td>\n",
       "      <td>-0.529194</td>\n",
       "      <td>-0.059057</td>\n",
       "    </tr>\n",
       "    <tr>\n",
       "      <th>75%</th>\n",
       "      <td>-0.187330</td>\n",
       "      <td>0.536186</td>\n",
       "      <td>-0.024401</td>\n",
       "      <td>0.144105</td>\n",
       "    </tr>\n",
       "    <tr>\n",
       "      <th>max</th>\n",
       "      <td>-0.067725</td>\n",
       "      <td>0.939757</td>\n",
       "      <td>2.983670</td>\n",
       "      <td>0.298800</td>\n",
       "    </tr>\n",
       "  </tbody>\n",
       "</table>\n",
       "</div>"
      ],
      "text/plain": [
       "              A         B         C         D\n",
       "count  6.000000  6.000000  6.000000  6.000000\n",
       "mean  -0.478442 -0.583051 -0.240381 -0.284030\n",
       "std    0.553823  1.382667  1.742861  0.642843\n",
       "min   -1.575347 -2.670401 -1.827047 -1.392980\n",
       "25%   -0.419565 -1.322624 -1.395586 -0.542547\n",
       "50%   -0.313789 -0.539309 -0.529194 -0.059057\n",
       "75%   -0.187330  0.536186 -0.024401  0.144105\n",
       "max   -0.067725  0.939757  2.983670  0.298800"
      ]
     },
     "execution_count": 36,
     "metadata": {},
     "output_type": "execute_result"
    }
   ],
   "source": [
    "df.describe()"
   ]
  },
  {
   "cell_type": "code",
   "execution_count": 37,
   "id": "c8ce50d9",
   "metadata": {
    "ExecuteTime": {
     "end_time": "2022-04-06T09:42:23.246678Z",
     "start_time": "2022-04-06T09:42:23.236145Z"
    }
   },
   "outputs": [
    {
     "data": {
      "text/html": [
       "<div>\n",
       "<style scoped>\n",
       "    .dataframe tbody tr th:only-of-type {\n",
       "        vertical-align: middle;\n",
       "    }\n",
       "\n",
       "    .dataframe tbody tr th {\n",
       "        vertical-align: top;\n",
       "    }\n",
       "\n",
       "    .dataframe thead th {\n",
       "        text-align: right;\n",
       "    }\n",
       "</style>\n",
       "<table border=\"1\" class=\"dataframe\">\n",
       "  <thead>\n",
       "    <tr style=\"text-align: right;\">\n",
       "      <th></th>\n",
       "      <th>2013-01-01</th>\n",
       "      <th>2013-01-02</th>\n",
       "      <th>2013-01-03</th>\n",
       "      <th>2013-01-04</th>\n",
       "      <th>2013-01-05</th>\n",
       "      <th>2013-01-06</th>\n",
       "    </tr>\n",
       "  </thead>\n",
       "  <tbody>\n",
       "    <tr>\n",
       "      <th>A</th>\n",
       "      <td>-0.284604</td>\n",
       "      <td>-0.154906</td>\n",
       "      <td>-0.342975</td>\n",
       "      <td>-0.067725</td>\n",
       "      <td>-0.445094</td>\n",
       "      <td>-1.575347</td>\n",
       "    </tr>\n",
       "    <tr>\n",
       "      <th>B</th>\n",
       "      <td>-0.933469</td>\n",
       "      <td>0.939757</td>\n",
       "      <td>-1.452343</td>\n",
       "      <td>-2.670401</td>\n",
       "      <td>0.763297</td>\n",
       "      <td>-0.145149</td>\n",
       "    </tr>\n",
       "    <tr>\n",
       "      <th>C</th>\n",
       "      <td>0.098997</td>\n",
       "      <td>-1.827047</td>\n",
       "      <td>2.983670</td>\n",
       "      <td>-0.394594</td>\n",
       "      <td>-0.663794</td>\n",
       "      <td>-1.639516</td>\n",
       "    </tr>\n",
       "    <tr>\n",
       "      <th>D</th>\n",
       "      <td>0.193849</td>\n",
       "      <td>-0.005126</td>\n",
       "      <td>-0.685732</td>\n",
       "      <td>-1.392980</td>\n",
       "      <td>0.298800</td>\n",
       "      <td>-0.112989</td>\n",
       "    </tr>\n",
       "  </tbody>\n",
       "</table>\n",
       "</div>"
      ],
      "text/plain": [
       "   2013-01-01  2013-01-02  2013-01-03  2013-01-04  2013-01-05  2013-01-06\n",
       "A   -0.284604   -0.154906   -0.342975   -0.067725   -0.445094   -1.575347\n",
       "B   -0.933469    0.939757   -1.452343   -2.670401    0.763297   -0.145149\n",
       "C    0.098997   -1.827047    2.983670   -0.394594   -0.663794   -1.639516\n",
       "D    0.193849   -0.005126   -0.685732   -1.392980    0.298800   -0.112989"
      ]
     },
     "execution_count": 37,
     "metadata": {},
     "output_type": "execute_result"
    }
   ],
   "source": [
    "df.T"
   ]
  },
  {
   "cell_type": "code",
   "execution_count": 38,
   "id": "66d70d1a",
   "metadata": {
    "ExecuteTime": {
     "end_time": "2022-04-06T09:43:00.163478Z",
     "start_time": "2022-04-06T09:43:00.151472Z"
    }
   },
   "outputs": [
    {
     "data": {
      "text/html": [
       "<div>\n",
       "<style scoped>\n",
       "    .dataframe tbody tr th:only-of-type {\n",
       "        vertical-align: middle;\n",
       "    }\n",
       "\n",
       "    .dataframe tbody tr th {\n",
       "        vertical-align: top;\n",
       "    }\n",
       "\n",
       "    .dataframe thead th {\n",
       "        text-align: right;\n",
       "    }\n",
       "</style>\n",
       "<table border=\"1\" class=\"dataframe\">\n",
       "  <thead>\n",
       "    <tr style=\"text-align: right;\">\n",
       "      <th></th>\n",
       "      <th>D</th>\n",
       "      <th>C</th>\n",
       "      <th>B</th>\n",
       "      <th>A</th>\n",
       "    </tr>\n",
       "  </thead>\n",
       "  <tbody>\n",
       "    <tr>\n",
       "      <th>2013-01-01</th>\n",
       "      <td>0.193849</td>\n",
       "      <td>0.098997</td>\n",
       "      <td>-0.933469</td>\n",
       "      <td>-0.284604</td>\n",
       "    </tr>\n",
       "    <tr>\n",
       "      <th>2013-01-02</th>\n",
       "      <td>-0.005126</td>\n",
       "      <td>-1.827047</td>\n",
       "      <td>0.939757</td>\n",
       "      <td>-0.154906</td>\n",
       "    </tr>\n",
       "    <tr>\n",
       "      <th>2013-01-03</th>\n",
       "      <td>-0.685732</td>\n",
       "      <td>2.983670</td>\n",
       "      <td>-1.452343</td>\n",
       "      <td>-0.342975</td>\n",
       "    </tr>\n",
       "    <tr>\n",
       "      <th>2013-01-04</th>\n",
       "      <td>-1.392980</td>\n",
       "      <td>-0.394594</td>\n",
       "      <td>-2.670401</td>\n",
       "      <td>-0.067725</td>\n",
       "    </tr>\n",
       "    <tr>\n",
       "      <th>2013-01-05</th>\n",
       "      <td>0.298800</td>\n",
       "      <td>-0.663794</td>\n",
       "      <td>0.763297</td>\n",
       "      <td>-0.445094</td>\n",
       "    </tr>\n",
       "    <tr>\n",
       "      <th>2013-01-06</th>\n",
       "      <td>-0.112989</td>\n",
       "      <td>-1.639516</td>\n",
       "      <td>-0.145149</td>\n",
       "      <td>-1.575347</td>\n",
       "    </tr>\n",
       "  </tbody>\n",
       "</table>\n",
       "</div>"
      ],
      "text/plain": [
       "                   D         C         B         A\n",
       "2013-01-01  0.193849  0.098997 -0.933469 -0.284604\n",
       "2013-01-02 -0.005126 -1.827047  0.939757 -0.154906\n",
       "2013-01-03 -0.685732  2.983670 -1.452343 -0.342975\n",
       "2013-01-04 -1.392980 -0.394594 -2.670401 -0.067725\n",
       "2013-01-05  0.298800 -0.663794  0.763297 -0.445094\n",
       "2013-01-06 -0.112989 -1.639516 -0.145149 -1.575347"
      ]
     },
     "execution_count": 38,
     "metadata": {},
     "output_type": "execute_result"
    }
   ],
   "source": [
    "df.sort_index(axis=1, ascending=False)"
   ]
  },
  {
   "cell_type": "code",
   "execution_count": 41,
   "id": "fd6d74f2",
   "metadata": {
    "ExecuteTime": {
     "end_time": "2022-04-06T09:43:35.888722Z",
     "start_time": "2022-04-06T09:43:35.880220Z"
    }
   },
   "outputs": [
    {
     "data": {
      "text/html": [
       "<div>\n",
       "<style scoped>\n",
       "    .dataframe tbody tr th:only-of-type {\n",
       "        vertical-align: middle;\n",
       "    }\n",
       "\n",
       "    .dataframe tbody tr th {\n",
       "        vertical-align: top;\n",
       "    }\n",
       "\n",
       "    .dataframe thead th {\n",
       "        text-align: right;\n",
       "    }\n",
       "</style>\n",
       "<table border=\"1\" class=\"dataframe\">\n",
       "  <thead>\n",
       "    <tr style=\"text-align: right;\">\n",
       "      <th></th>\n",
       "      <th>A</th>\n",
       "      <th>B</th>\n",
       "      <th>C</th>\n",
       "      <th>D</th>\n",
       "    </tr>\n",
       "  </thead>\n",
       "  <tbody>\n",
       "    <tr>\n",
       "      <th>2013-01-04</th>\n",
       "      <td>-0.067725</td>\n",
       "      <td>-2.670401</td>\n",
       "      <td>-0.394594</td>\n",
       "      <td>-1.392980</td>\n",
       "    </tr>\n",
       "    <tr>\n",
       "      <th>2013-01-03</th>\n",
       "      <td>-0.342975</td>\n",
       "      <td>-1.452343</td>\n",
       "      <td>2.983670</td>\n",
       "      <td>-0.685732</td>\n",
       "    </tr>\n",
       "    <tr>\n",
       "      <th>2013-01-01</th>\n",
       "      <td>-0.284604</td>\n",
       "      <td>-0.933469</td>\n",
       "      <td>0.098997</td>\n",
       "      <td>0.193849</td>\n",
       "    </tr>\n",
       "    <tr>\n",
       "      <th>2013-01-06</th>\n",
       "      <td>-1.575347</td>\n",
       "      <td>-0.145149</td>\n",
       "      <td>-1.639516</td>\n",
       "      <td>-0.112989</td>\n",
       "    </tr>\n",
       "    <tr>\n",
       "      <th>2013-01-05</th>\n",
       "      <td>-0.445094</td>\n",
       "      <td>0.763297</td>\n",
       "      <td>-0.663794</td>\n",
       "      <td>0.298800</td>\n",
       "    </tr>\n",
       "    <tr>\n",
       "      <th>2013-01-02</th>\n",
       "      <td>-0.154906</td>\n",
       "      <td>0.939757</td>\n",
       "      <td>-1.827047</td>\n",
       "      <td>-0.005126</td>\n",
       "    </tr>\n",
       "  </tbody>\n",
       "</table>\n",
       "</div>"
      ],
      "text/plain": [
       "                   A         B         C         D\n",
       "2013-01-04 -0.067725 -2.670401 -0.394594 -1.392980\n",
       "2013-01-03 -0.342975 -1.452343  2.983670 -0.685732\n",
       "2013-01-01 -0.284604 -0.933469  0.098997  0.193849\n",
       "2013-01-06 -1.575347 -0.145149 -1.639516 -0.112989\n",
       "2013-01-05 -0.445094  0.763297 -0.663794  0.298800\n",
       "2013-01-02 -0.154906  0.939757 -1.827047 -0.005126"
      ]
     },
     "execution_count": 41,
     "metadata": {},
     "output_type": "execute_result"
    }
   ],
   "source": [
    "df.sort_values(by=\"B\")"
   ]
  },
  {
   "cell_type": "code",
   "execution_count": 42,
   "id": "d809abf1",
   "metadata": {
    "ExecuteTime": {
     "end_time": "2022-04-06T09:44:08.161715Z",
     "start_time": "2022-04-06T09:44:08.155714Z"
    }
   },
   "outputs": [
    {
     "data": {
      "text/plain": [
       "2013-01-01   -0.284604\n",
       "2013-01-02   -0.154906\n",
       "2013-01-03   -0.342975\n",
       "2013-01-04   -0.067725\n",
       "2013-01-05   -0.445094\n",
       "2013-01-06   -1.575347\n",
       "Freq: D, Name: A, dtype: float64"
      ]
     },
     "execution_count": 42,
     "metadata": {},
     "output_type": "execute_result"
    }
   ],
   "source": [
    "df['A']"
   ]
  },
  {
   "cell_type": "code",
   "execution_count": 43,
   "id": "460a26bc",
   "metadata": {
    "ExecuteTime": {
     "end_time": "2022-04-06T09:44:26.468606Z",
     "start_time": "2022-04-06T09:44:26.459578Z"
    }
   },
   "outputs": [
    {
     "data": {
      "text/html": [
       "<div>\n",
       "<style scoped>\n",
       "    .dataframe tbody tr th:only-of-type {\n",
       "        vertical-align: middle;\n",
       "    }\n",
       "\n",
       "    .dataframe tbody tr th {\n",
       "        vertical-align: top;\n",
       "    }\n",
       "\n",
       "    .dataframe thead th {\n",
       "        text-align: right;\n",
       "    }\n",
       "</style>\n",
       "<table border=\"1\" class=\"dataframe\">\n",
       "  <thead>\n",
       "    <tr style=\"text-align: right;\">\n",
       "      <th></th>\n",
       "      <th>A</th>\n",
       "      <th>B</th>\n",
       "      <th>C</th>\n",
       "      <th>D</th>\n",
       "    </tr>\n",
       "  </thead>\n",
       "  <tbody>\n",
       "    <tr>\n",
       "      <th>2013-01-01</th>\n",
       "      <td>-0.284604</td>\n",
       "      <td>-0.933469</td>\n",
       "      <td>0.098997</td>\n",
       "      <td>0.193849</td>\n",
       "    </tr>\n",
       "    <tr>\n",
       "      <th>2013-01-02</th>\n",
       "      <td>-0.154906</td>\n",
       "      <td>0.939757</td>\n",
       "      <td>-1.827047</td>\n",
       "      <td>-0.005126</td>\n",
       "    </tr>\n",
       "    <tr>\n",
       "      <th>2013-01-03</th>\n",
       "      <td>-0.342975</td>\n",
       "      <td>-1.452343</td>\n",
       "      <td>2.983670</td>\n",
       "      <td>-0.685732</td>\n",
       "    </tr>\n",
       "  </tbody>\n",
       "</table>\n",
       "</div>"
      ],
      "text/plain": [
       "                   A         B         C         D\n",
       "2013-01-01 -0.284604 -0.933469  0.098997  0.193849\n",
       "2013-01-02 -0.154906  0.939757 -1.827047 -0.005126\n",
       "2013-01-03 -0.342975 -1.452343  2.983670 -0.685732"
      ]
     },
     "execution_count": 43,
     "metadata": {},
     "output_type": "execute_result"
    }
   ],
   "source": [
    "df[0:3]"
   ]
  },
  {
   "cell_type": "code",
   "execution_count": 44,
   "id": "e7f39653",
   "metadata": {
    "ExecuteTime": {
     "end_time": "2022-04-06T09:45:20.346833Z",
     "start_time": "2022-04-06T09:45:20.329330Z"
    }
   },
   "outputs": [
    {
     "data": {
      "text/html": [
       "<div>\n",
       "<style scoped>\n",
       "    .dataframe tbody tr th:only-of-type {\n",
       "        vertical-align: middle;\n",
       "    }\n",
       "\n",
       "    .dataframe tbody tr th {\n",
       "        vertical-align: top;\n",
       "    }\n",
       "\n",
       "    .dataframe thead th {\n",
       "        text-align: right;\n",
       "    }\n",
       "</style>\n",
       "<table border=\"1\" class=\"dataframe\">\n",
       "  <thead>\n",
       "    <tr style=\"text-align: right;\">\n",
       "      <th></th>\n",
       "      <th>A</th>\n",
       "      <th>B</th>\n",
       "      <th>C</th>\n",
       "      <th>D</th>\n",
       "    </tr>\n",
       "  </thead>\n",
       "  <tbody>\n",
       "    <tr>\n",
       "      <th>2013-01-01</th>\n",
       "      <td>-0.284604</td>\n",
       "      <td>-0.933469</td>\n",
       "      <td>0.098997</td>\n",
       "      <td>0.193849</td>\n",
       "    </tr>\n",
       "    <tr>\n",
       "      <th>2013-01-02</th>\n",
       "      <td>-0.154906</td>\n",
       "      <td>0.939757</td>\n",
       "      <td>-1.827047</td>\n",
       "      <td>-0.005126</td>\n",
       "    </tr>\n",
       "    <tr>\n",
       "      <th>2013-01-03</th>\n",
       "      <td>-0.342975</td>\n",
       "      <td>-1.452343</td>\n",
       "      <td>2.983670</td>\n",
       "      <td>-0.685732</td>\n",
       "    </tr>\n",
       "    <tr>\n",
       "      <th>2013-01-04</th>\n",
       "      <td>-0.067725</td>\n",
       "      <td>-2.670401</td>\n",
       "      <td>-0.394594</td>\n",
       "      <td>-1.392980</td>\n",
       "    </tr>\n",
       "  </tbody>\n",
       "</table>\n",
       "</div>"
      ],
      "text/plain": [
       "                   A         B         C         D\n",
       "2013-01-01 -0.284604 -0.933469  0.098997  0.193849\n",
       "2013-01-02 -0.154906  0.939757 -1.827047 -0.005126\n",
       "2013-01-03 -0.342975 -1.452343  2.983670 -0.685732\n",
       "2013-01-04 -0.067725 -2.670401 -0.394594 -1.392980"
      ]
     },
     "execution_count": 44,
     "metadata": {},
     "output_type": "execute_result"
    }
   ],
   "source": [
    "df['20130101':'20130104']"
   ]
  },
  {
   "cell_type": "code",
   "execution_count": 49,
   "id": "f70fb824",
   "metadata": {
    "ExecuteTime": {
     "end_time": "2022-04-06T09:59:14.912020Z",
     "start_time": "2022-04-06T09:59:14.906507Z"
    }
   },
   "outputs": [
    {
     "data": {
      "text/plain": [
       "A   -0.284604\n",
       "B   -0.933469\n",
       "C    0.098997\n",
       "D    0.193849\n",
       "Name: 2013-01-01 00:00:00, dtype: float64"
      ]
     },
     "execution_count": 49,
     "metadata": {},
     "output_type": "execute_result"
    }
   ],
   "source": [
    "df.iloc[0,:]"
   ]
  },
  {
   "cell_type": "code",
   "execution_count": 50,
   "id": "c4c10896",
   "metadata": {
    "ExecuteTime": {
     "end_time": "2022-04-06T10:00:13.635197Z",
     "start_time": "2022-04-06T10:00:13.627676Z"
    }
   },
   "outputs": [
    {
     "data": {
      "text/html": [
       "<div>\n",
       "<style scoped>\n",
       "    .dataframe tbody tr th:only-of-type {\n",
       "        vertical-align: middle;\n",
       "    }\n",
       "\n",
       "    .dataframe tbody tr th {\n",
       "        vertical-align: top;\n",
       "    }\n",
       "\n",
       "    .dataframe thead th {\n",
       "        text-align: right;\n",
       "    }\n",
       "</style>\n",
       "<table border=\"1\" class=\"dataframe\">\n",
       "  <thead>\n",
       "    <tr style=\"text-align: right;\">\n",
       "      <th></th>\n",
       "      <th>A</th>\n",
       "      <th>B</th>\n",
       "    </tr>\n",
       "  </thead>\n",
       "  <tbody>\n",
       "    <tr>\n",
       "      <th>2013-01-01</th>\n",
       "      <td>-0.284604</td>\n",
       "      <td>-0.933469</td>\n",
       "    </tr>\n",
       "    <tr>\n",
       "      <th>2013-01-02</th>\n",
       "      <td>-0.154906</td>\n",
       "      <td>0.939757</td>\n",
       "    </tr>\n",
       "    <tr>\n",
       "      <th>2013-01-03</th>\n",
       "      <td>-0.342975</td>\n",
       "      <td>-1.452343</td>\n",
       "    </tr>\n",
       "    <tr>\n",
       "      <th>2013-01-04</th>\n",
       "      <td>-0.067725</td>\n",
       "      <td>-2.670401</td>\n",
       "    </tr>\n",
       "    <tr>\n",
       "      <th>2013-01-05</th>\n",
       "      <td>-0.445094</td>\n",
       "      <td>0.763297</td>\n",
       "    </tr>\n",
       "    <tr>\n",
       "      <th>2013-01-06</th>\n",
       "      <td>-1.575347</td>\n",
       "      <td>-0.145149</td>\n",
       "    </tr>\n",
       "  </tbody>\n",
       "</table>\n",
       "</div>"
      ],
      "text/plain": [
       "                   A         B\n",
       "2013-01-01 -0.284604 -0.933469\n",
       "2013-01-02 -0.154906  0.939757\n",
       "2013-01-03 -0.342975 -1.452343\n",
       "2013-01-04 -0.067725 -2.670401\n",
       "2013-01-05 -0.445094  0.763297\n",
       "2013-01-06 -1.575347 -0.145149"
      ]
     },
     "execution_count": 50,
     "metadata": {},
     "output_type": "execute_result"
    }
   ],
   "source": [
    "df.loc[:,[\"A\",\"B\"]]"
   ]
  },
  {
   "cell_type": "code",
   "execution_count": 53,
   "id": "19d00e99",
   "metadata": {
    "ExecuteTime": {
     "end_time": "2022-04-06T10:01:20.330443Z",
     "start_time": "2022-04-06T10:01:20.319449Z"
    }
   },
   "outputs": [
    {
     "data": {
      "text/html": [
       "<div>\n",
       "<style scoped>\n",
       "    .dataframe tbody tr th:only-of-type {\n",
       "        vertical-align: middle;\n",
       "    }\n",
       "\n",
       "    .dataframe tbody tr th {\n",
       "        vertical-align: top;\n",
       "    }\n",
       "\n",
       "    .dataframe thead th {\n",
       "        text-align: right;\n",
       "    }\n",
       "</style>\n",
       "<table border=\"1\" class=\"dataframe\">\n",
       "  <thead>\n",
       "    <tr style=\"text-align: right;\">\n",
       "      <th></th>\n",
       "      <th>A</th>\n",
       "      <th>B</th>\n",
       "    </tr>\n",
       "  </thead>\n",
       "  <tbody>\n",
       "    <tr>\n",
       "      <th>2013-01-02</th>\n",
       "      <td>-0.154906</td>\n",
       "      <td>0.939757</td>\n",
       "    </tr>\n",
       "    <tr>\n",
       "      <th>2013-01-03</th>\n",
       "      <td>-0.342975</td>\n",
       "      <td>-1.452343</td>\n",
       "    </tr>\n",
       "    <tr>\n",
       "      <th>2013-01-04</th>\n",
       "      <td>-0.067725</td>\n",
       "      <td>-2.670401</td>\n",
       "    </tr>\n",
       "  </tbody>\n",
       "</table>\n",
       "</div>"
      ],
      "text/plain": [
       "                   A         B\n",
       "2013-01-02 -0.154906  0.939757\n",
       "2013-01-03 -0.342975 -1.452343\n",
       "2013-01-04 -0.067725 -2.670401"
      ]
     },
     "execution_count": 53,
     "metadata": {},
     "output_type": "execute_result"
    }
   ],
   "source": [
    "df.loc[\"20130102\":\"20130104\", [\"A\", \"B\"]]"
   ]
  },
  {
   "cell_type": "code",
   "execution_count": 54,
   "id": "9d9e79b9",
   "metadata": {
    "ExecuteTime": {
     "end_time": "2022-04-06T10:02:34.362752Z",
     "start_time": "2022-04-06T10:02:34.353252Z"
    }
   },
   "outputs": [
    {
     "data": {
      "text/plain": [
       "-0.2846036237878227"
      ]
     },
     "execution_count": 54,
     "metadata": {},
     "output_type": "execute_result"
    }
   ],
   "source": [
    "df.loc[dates[0], 'A']"
   ]
  },
  {
   "cell_type": "code",
   "execution_count": 57,
   "id": "cc4ea9c6",
   "metadata": {
    "ExecuteTime": {
     "end_time": "2022-04-06T10:04:31.925624Z",
     "start_time": "2022-04-06T10:04:31.920141Z"
    }
   },
   "outputs": [
    {
     "data": {
      "text/plain": [
       "A   -0.067725\n",
       "B   -2.670401\n",
       "C   -0.394594\n",
       "D   -1.392980\n",
       "Name: 2013-01-04 00:00:00, dtype: float64"
      ]
     },
     "execution_count": 57,
     "metadata": {},
     "output_type": "execute_result"
    }
   ],
   "source": [
    "df.iloc[3]"
   ]
  },
  {
   "cell_type": "code",
   "execution_count": 58,
   "id": "3038e186",
   "metadata": {
    "ExecuteTime": {
     "end_time": "2022-04-06T10:05:11.204893Z",
     "start_time": "2022-04-06T10:05:11.196393Z"
    }
   },
   "outputs": [
    {
     "data": {
      "text/html": [
       "<div>\n",
       "<style scoped>\n",
       "    .dataframe tbody tr th:only-of-type {\n",
       "        vertical-align: middle;\n",
       "    }\n",
       "\n",
       "    .dataframe tbody tr th {\n",
       "        vertical-align: top;\n",
       "    }\n",
       "\n",
       "    .dataframe thead th {\n",
       "        text-align: right;\n",
       "    }\n",
       "</style>\n",
       "<table border=\"1\" class=\"dataframe\">\n",
       "  <thead>\n",
       "    <tr style=\"text-align: right;\">\n",
       "      <th></th>\n",
       "      <th>A</th>\n",
       "      <th>B</th>\n",
       "    </tr>\n",
       "  </thead>\n",
       "  <tbody>\n",
       "    <tr>\n",
       "      <th>2013-01-04</th>\n",
       "      <td>-0.067725</td>\n",
       "      <td>-2.670401</td>\n",
       "    </tr>\n",
       "    <tr>\n",
       "      <th>2013-01-05</th>\n",
       "      <td>-0.445094</td>\n",
       "      <td>0.763297</td>\n",
       "    </tr>\n",
       "  </tbody>\n",
       "</table>\n",
       "</div>"
      ],
      "text/plain": [
       "                   A         B\n",
       "2013-01-04 -0.067725 -2.670401\n",
       "2013-01-05 -0.445094  0.763297"
      ]
     },
     "execution_count": 58,
     "metadata": {},
     "output_type": "execute_result"
    }
   ],
   "source": [
    "df.iloc[3:5, 0:2]"
   ]
  },
  {
   "cell_type": "code",
   "execution_count": 59,
   "id": "f0afd037",
   "metadata": {
    "ExecuteTime": {
     "end_time": "2022-04-06T10:06:34.156492Z",
     "start_time": "2022-04-06T10:06:34.146468Z"
    }
   },
   "outputs": [
    {
     "data": {
      "text/html": [
       "<div>\n",
       "<style scoped>\n",
       "    .dataframe tbody tr th:only-of-type {\n",
       "        vertical-align: middle;\n",
       "    }\n",
       "\n",
       "    .dataframe tbody tr th {\n",
       "        vertical-align: top;\n",
       "    }\n",
       "\n",
       "    .dataframe thead th {\n",
       "        text-align: right;\n",
       "    }\n",
       "</style>\n",
       "<table border=\"1\" class=\"dataframe\">\n",
       "  <thead>\n",
       "    <tr style=\"text-align: right;\">\n",
       "      <th></th>\n",
       "      <th>A</th>\n",
       "      <th>C</th>\n",
       "    </tr>\n",
       "  </thead>\n",
       "  <tbody>\n",
       "    <tr>\n",
       "      <th>2013-01-02</th>\n",
       "      <td>-0.154906</td>\n",
       "      <td>-1.827047</td>\n",
       "    </tr>\n",
       "    <tr>\n",
       "      <th>2013-01-03</th>\n",
       "      <td>-0.342975</td>\n",
       "      <td>2.983670</td>\n",
       "    </tr>\n",
       "    <tr>\n",
       "      <th>2013-01-05</th>\n",
       "      <td>-0.445094</td>\n",
       "      <td>-0.663794</td>\n",
       "    </tr>\n",
       "  </tbody>\n",
       "</table>\n",
       "</div>"
      ],
      "text/plain": [
       "                   A         C\n",
       "2013-01-02 -0.154906 -1.827047\n",
       "2013-01-03 -0.342975  2.983670\n",
       "2013-01-05 -0.445094 -0.663794"
      ]
     },
     "execution_count": 59,
     "metadata": {},
     "output_type": "execute_result"
    }
   ],
   "source": [
    "df.iloc[[1, 2, 4], [0, 2]]"
   ]
  },
  {
   "cell_type": "code",
   "execution_count": 60,
   "id": "43bdb1ba",
   "metadata": {
    "ExecuteTime": {
     "end_time": "2022-04-06T10:07:31.099031Z",
     "start_time": "2022-04-06T10:07:31.090528Z"
    }
   },
   "outputs": [
    {
     "data": {
      "text/html": [
       "<div>\n",
       "<style scoped>\n",
       "    .dataframe tbody tr th:only-of-type {\n",
       "        vertical-align: middle;\n",
       "    }\n",
       "\n",
       "    .dataframe tbody tr th {\n",
       "        vertical-align: top;\n",
       "    }\n",
       "\n",
       "    .dataframe thead th {\n",
       "        text-align: right;\n",
       "    }\n",
       "</style>\n",
       "<table border=\"1\" class=\"dataframe\">\n",
       "  <thead>\n",
       "    <tr style=\"text-align: right;\">\n",
       "      <th></th>\n",
       "      <th>A</th>\n",
       "      <th>B</th>\n",
       "      <th>C</th>\n",
       "      <th>D</th>\n",
       "    </tr>\n",
       "  </thead>\n",
       "  <tbody>\n",
       "    <tr>\n",
       "      <th>2013-01-02</th>\n",
       "      <td>-0.154906</td>\n",
       "      <td>0.939757</td>\n",
       "      <td>-1.827047</td>\n",
       "      <td>-0.005126</td>\n",
       "    </tr>\n",
       "    <tr>\n",
       "      <th>2013-01-03</th>\n",
       "      <td>-0.342975</td>\n",
       "      <td>-1.452343</td>\n",
       "      <td>2.983670</td>\n",
       "      <td>-0.685732</td>\n",
       "    </tr>\n",
       "  </tbody>\n",
       "</table>\n",
       "</div>"
      ],
      "text/plain": [
       "                   A         B         C         D\n",
       "2013-01-02 -0.154906  0.939757 -1.827047 -0.005126\n",
       "2013-01-03 -0.342975 -1.452343  2.983670 -0.685732"
      ]
     },
     "execution_count": 60,
     "metadata": {},
     "output_type": "execute_result"
    }
   ],
   "source": [
    "df.iloc[1:3, :]"
   ]
  },
  {
   "cell_type": "code",
   "execution_count": 61,
   "id": "c756d805",
   "metadata": {
    "ExecuteTime": {
     "end_time": "2022-04-06T10:09:22.832039Z",
     "start_time": "2022-04-06T10:09:22.824041Z"
    }
   },
   "outputs": [
    {
     "data": {
      "text/html": [
       "<div>\n",
       "<style scoped>\n",
       "    .dataframe tbody tr th:only-of-type {\n",
       "        vertical-align: middle;\n",
       "    }\n",
       "\n",
       "    .dataframe tbody tr th {\n",
       "        vertical-align: top;\n",
       "    }\n",
       "\n",
       "    .dataframe thead th {\n",
       "        text-align: right;\n",
       "    }\n",
       "</style>\n",
       "<table border=\"1\" class=\"dataframe\">\n",
       "  <thead>\n",
       "    <tr style=\"text-align: right;\">\n",
       "      <th></th>\n",
       "      <th>B</th>\n",
       "      <th>C</th>\n",
       "    </tr>\n",
       "  </thead>\n",
       "  <tbody>\n",
       "    <tr>\n",
       "      <th>2013-01-01</th>\n",
       "      <td>-0.933469</td>\n",
       "      <td>0.098997</td>\n",
       "    </tr>\n",
       "    <tr>\n",
       "      <th>2013-01-02</th>\n",
       "      <td>0.939757</td>\n",
       "      <td>-1.827047</td>\n",
       "    </tr>\n",
       "    <tr>\n",
       "      <th>2013-01-03</th>\n",
       "      <td>-1.452343</td>\n",
       "      <td>2.983670</td>\n",
       "    </tr>\n",
       "    <tr>\n",
       "      <th>2013-01-04</th>\n",
       "      <td>-2.670401</td>\n",
       "      <td>-0.394594</td>\n",
       "    </tr>\n",
       "    <tr>\n",
       "      <th>2013-01-05</th>\n",
       "      <td>0.763297</td>\n",
       "      <td>-0.663794</td>\n",
       "    </tr>\n",
       "    <tr>\n",
       "      <th>2013-01-06</th>\n",
       "      <td>-0.145149</td>\n",
       "      <td>-1.639516</td>\n",
       "    </tr>\n",
       "  </tbody>\n",
       "</table>\n",
       "</div>"
      ],
      "text/plain": [
       "                   B         C\n",
       "2013-01-01 -0.933469  0.098997\n",
       "2013-01-02  0.939757 -1.827047\n",
       "2013-01-03 -1.452343  2.983670\n",
       "2013-01-04 -2.670401 -0.394594\n",
       "2013-01-05  0.763297 -0.663794\n",
       "2013-01-06 -0.145149 -1.639516"
      ]
     },
     "execution_count": 61,
     "metadata": {},
     "output_type": "execute_result"
    }
   ],
   "source": [
    "df.iloc[:, 1:3]"
   ]
  },
  {
   "cell_type": "code",
   "execution_count": 62,
   "id": "a94b310f",
   "metadata": {
    "ExecuteTime": {
     "end_time": "2022-04-06T10:10:37.477665Z",
     "start_time": "2022-04-06T10:10:37.472179Z"
    }
   },
   "outputs": [
    {
     "data": {
      "text/plain": [
       "0.9397569705340396"
      ]
     },
     "execution_count": 62,
     "metadata": {},
     "output_type": "execute_result"
    }
   ],
   "source": [
    "df.iloc[1, 1]"
   ]
  },
  {
   "cell_type": "code",
   "execution_count": 67,
   "id": "af00489c",
   "metadata": {
    "ExecuteTime": {
     "end_time": "2022-04-06T10:30:23.097570Z",
     "start_time": "2022-04-06T10:30:23.086067Z"
    }
   },
   "outputs": [
    {
     "data": {
      "text/html": [
       "<div>\n",
       "<style scoped>\n",
       "    .dataframe tbody tr th:only-of-type {\n",
       "        vertical-align: middle;\n",
       "    }\n",
       "\n",
       "    .dataframe tbody tr th {\n",
       "        vertical-align: top;\n",
       "    }\n",
       "\n",
       "    .dataframe thead th {\n",
       "        text-align: right;\n",
       "    }\n",
       "</style>\n",
       "<table border=\"1\" class=\"dataframe\">\n",
       "  <thead>\n",
       "    <tr style=\"text-align: right;\">\n",
       "      <th></th>\n",
       "      <th>A</th>\n",
       "      <th>B</th>\n",
       "      <th>C</th>\n",
       "      <th>D</th>\n",
       "    </tr>\n",
       "  </thead>\n",
       "  <tbody>\n",
       "    <tr>\n",
       "      <th>2013-01-02</th>\n",
       "      <td>-0.154906</td>\n",
       "      <td>0.939757</td>\n",
       "      <td>-1.827047</td>\n",
       "      <td>-0.005126</td>\n",
       "    </tr>\n",
       "    <tr>\n",
       "      <th>2013-01-05</th>\n",
       "      <td>-0.445094</td>\n",
       "      <td>0.763297</td>\n",
       "      <td>-0.663794</td>\n",
       "      <td>0.298800</td>\n",
       "    </tr>\n",
       "  </tbody>\n",
       "</table>\n",
       "</div>"
      ],
      "text/plain": [
       "                   A         B         C         D\n",
       "2013-01-02 -0.154906  0.939757 -1.827047 -0.005126\n",
       "2013-01-05 -0.445094  0.763297 -0.663794  0.298800"
      ]
     },
     "execution_count": 67,
     "metadata": {},
     "output_type": "execute_result"
    }
   ],
   "source": [
    "df[df[\"B\"] > 0]"
   ]
  },
  {
   "cell_type": "code",
   "execution_count": 68,
   "id": "99e2c214",
   "metadata": {
    "ExecuteTime": {
     "end_time": "2022-04-06T10:30:37.186135Z",
     "start_time": "2022-04-06T10:30:37.174135Z"
    }
   },
   "outputs": [
    {
     "data": {
      "text/html": [
       "<div>\n",
       "<style scoped>\n",
       "    .dataframe tbody tr th:only-of-type {\n",
       "        vertical-align: middle;\n",
       "    }\n",
       "\n",
       "    .dataframe tbody tr th {\n",
       "        vertical-align: top;\n",
       "    }\n",
       "\n",
       "    .dataframe thead th {\n",
       "        text-align: right;\n",
       "    }\n",
       "</style>\n",
       "<table border=\"1\" class=\"dataframe\">\n",
       "  <thead>\n",
       "    <tr style=\"text-align: right;\">\n",
       "      <th></th>\n",
       "      <th>A</th>\n",
       "      <th>B</th>\n",
       "      <th>C</th>\n",
       "      <th>D</th>\n",
       "    </tr>\n",
       "  </thead>\n",
       "  <tbody>\n",
       "    <tr>\n",
       "      <th>2013-01-01</th>\n",
       "      <td>NaN</td>\n",
       "      <td>NaN</td>\n",
       "      <td>0.098997</td>\n",
       "      <td>0.193849</td>\n",
       "    </tr>\n",
       "    <tr>\n",
       "      <th>2013-01-02</th>\n",
       "      <td>NaN</td>\n",
       "      <td>0.939757</td>\n",
       "      <td>NaN</td>\n",
       "      <td>NaN</td>\n",
       "    </tr>\n",
       "    <tr>\n",
       "      <th>2013-01-03</th>\n",
       "      <td>NaN</td>\n",
       "      <td>NaN</td>\n",
       "      <td>2.983670</td>\n",
       "      <td>NaN</td>\n",
       "    </tr>\n",
       "    <tr>\n",
       "      <th>2013-01-04</th>\n",
       "      <td>NaN</td>\n",
       "      <td>NaN</td>\n",
       "      <td>NaN</td>\n",
       "      <td>NaN</td>\n",
       "    </tr>\n",
       "    <tr>\n",
       "      <th>2013-01-05</th>\n",
       "      <td>NaN</td>\n",
       "      <td>0.763297</td>\n",
       "      <td>NaN</td>\n",
       "      <td>0.298800</td>\n",
       "    </tr>\n",
       "    <tr>\n",
       "      <th>2013-01-06</th>\n",
       "      <td>NaN</td>\n",
       "      <td>NaN</td>\n",
       "      <td>NaN</td>\n",
       "      <td>NaN</td>\n",
       "    </tr>\n",
       "  </tbody>\n",
       "</table>\n",
       "</div>"
      ],
      "text/plain": [
       "             A         B         C         D\n",
       "2013-01-01 NaN       NaN  0.098997  0.193849\n",
       "2013-01-02 NaN  0.939757       NaN       NaN\n",
       "2013-01-03 NaN       NaN  2.983670       NaN\n",
       "2013-01-04 NaN       NaN       NaN       NaN\n",
       "2013-01-05 NaN  0.763297       NaN  0.298800\n",
       "2013-01-06 NaN       NaN       NaN       NaN"
      ]
     },
     "execution_count": 68,
     "metadata": {},
     "output_type": "execute_result"
    }
   ],
   "source": [
    "df[df > 0]"
   ]
  },
  {
   "cell_type": "code",
   "execution_count": 69,
   "id": "cee6dd9b",
   "metadata": {
    "ExecuteTime": {
     "end_time": "2022-04-06T10:31:47.894175Z",
     "start_time": "2022-04-06T10:31:47.880158Z"
    }
   },
   "outputs": [
    {
     "data": {
      "text/html": [
       "<div>\n",
       "<style scoped>\n",
       "    .dataframe tbody tr th:only-of-type {\n",
       "        vertical-align: middle;\n",
       "    }\n",
       "\n",
       "    .dataframe tbody tr th {\n",
       "        vertical-align: top;\n",
       "    }\n",
       "\n",
       "    .dataframe thead th {\n",
       "        text-align: right;\n",
       "    }\n",
       "</style>\n",
       "<table border=\"1\" class=\"dataframe\">\n",
       "  <thead>\n",
       "    <tr style=\"text-align: right;\">\n",
       "      <th></th>\n",
       "      <th>A</th>\n",
       "      <th>B</th>\n",
       "      <th>C</th>\n",
       "      <th>D</th>\n",
       "      <th>E</th>\n",
       "    </tr>\n",
       "  </thead>\n",
       "  <tbody>\n",
       "    <tr>\n",
       "      <th>2013-01-01</th>\n",
       "      <td>-0.284604</td>\n",
       "      <td>-0.933469</td>\n",
       "      <td>0.098997</td>\n",
       "      <td>0.193849</td>\n",
       "      <td>one</td>\n",
       "    </tr>\n",
       "    <tr>\n",
       "      <th>2013-01-02</th>\n",
       "      <td>-0.154906</td>\n",
       "      <td>0.939757</td>\n",
       "      <td>-1.827047</td>\n",
       "      <td>-0.005126</td>\n",
       "      <td>one</td>\n",
       "    </tr>\n",
       "    <tr>\n",
       "      <th>2013-01-03</th>\n",
       "      <td>-0.342975</td>\n",
       "      <td>-1.452343</td>\n",
       "      <td>2.983670</td>\n",
       "      <td>-0.685732</td>\n",
       "      <td>two</td>\n",
       "    </tr>\n",
       "    <tr>\n",
       "      <th>2013-01-04</th>\n",
       "      <td>-0.067725</td>\n",
       "      <td>-2.670401</td>\n",
       "      <td>-0.394594</td>\n",
       "      <td>-1.392980</td>\n",
       "      <td>three</td>\n",
       "    </tr>\n",
       "    <tr>\n",
       "      <th>2013-01-05</th>\n",
       "      <td>-0.445094</td>\n",
       "      <td>0.763297</td>\n",
       "      <td>-0.663794</td>\n",
       "      <td>0.298800</td>\n",
       "      <td>four</td>\n",
       "    </tr>\n",
       "    <tr>\n",
       "      <th>2013-01-06</th>\n",
       "      <td>-1.575347</td>\n",
       "      <td>-0.145149</td>\n",
       "      <td>-1.639516</td>\n",
       "      <td>-0.112989</td>\n",
       "      <td>three</td>\n",
       "    </tr>\n",
       "  </tbody>\n",
       "</table>\n",
       "</div>"
      ],
      "text/plain": [
       "                   A         B         C         D      E\n",
       "2013-01-01 -0.284604 -0.933469  0.098997  0.193849    one\n",
       "2013-01-02 -0.154906  0.939757 -1.827047 -0.005126    one\n",
       "2013-01-03 -0.342975 -1.452343  2.983670 -0.685732    two\n",
       "2013-01-04 -0.067725 -2.670401 -0.394594 -1.392980  three\n",
       "2013-01-05 -0.445094  0.763297 -0.663794  0.298800   four\n",
       "2013-01-06 -1.575347 -0.145149 -1.639516 -0.112989  three"
      ]
     },
     "execution_count": 69,
     "metadata": {},
     "output_type": "execute_result"
    }
   ],
   "source": [
    "df2 = df.copy()\n",
    "df2[\"E\"] = [\"one\", \"one\", \"two\", \"three\", \"four\", \"three\"]\n",
    "df2"
   ]
  },
  {
   "cell_type": "code",
   "execution_count": 70,
   "id": "38a9d5cb",
   "metadata": {
    "ExecuteTime": {
     "end_time": "2022-04-06T10:34:23.677352Z",
     "start_time": "2022-04-06T10:34:23.665354Z"
    }
   },
   "outputs": [
    {
     "data": {
      "text/html": [
       "<div>\n",
       "<style scoped>\n",
       "    .dataframe tbody tr th:only-of-type {\n",
       "        vertical-align: middle;\n",
       "    }\n",
       "\n",
       "    .dataframe tbody tr th {\n",
       "        vertical-align: top;\n",
       "    }\n",
       "\n",
       "    .dataframe thead th {\n",
       "        text-align: right;\n",
       "    }\n",
       "</style>\n",
       "<table border=\"1\" class=\"dataframe\">\n",
       "  <thead>\n",
       "    <tr style=\"text-align: right;\">\n",
       "      <th></th>\n",
       "      <th>A</th>\n",
       "      <th>B</th>\n",
       "      <th>C</th>\n",
       "      <th>D</th>\n",
       "      <th>E</th>\n",
       "    </tr>\n",
       "  </thead>\n",
       "  <tbody>\n",
       "    <tr>\n",
       "      <th>2013-01-03</th>\n",
       "      <td>-0.342975</td>\n",
       "      <td>-1.452343</td>\n",
       "      <td>2.983670</td>\n",
       "      <td>-0.685732</td>\n",
       "      <td>two</td>\n",
       "    </tr>\n",
       "    <tr>\n",
       "      <th>2013-01-05</th>\n",
       "      <td>-0.445094</td>\n",
       "      <td>0.763297</td>\n",
       "      <td>-0.663794</td>\n",
       "      <td>0.298800</td>\n",
       "      <td>four</td>\n",
       "    </tr>\n",
       "  </tbody>\n",
       "</table>\n",
       "</div>"
      ],
      "text/plain": [
       "                   A         B         C         D     E\n",
       "2013-01-03 -0.342975 -1.452343  2.983670 -0.685732   two\n",
       "2013-01-05 -0.445094  0.763297 -0.663794  0.298800  four"
      ]
     },
     "execution_count": 70,
     "metadata": {},
     "output_type": "execute_result"
    }
   ],
   "source": [
    "df2[df2[\"E\"].isin([\"two\", \"four\"])]"
   ]
  },
  {
   "cell_type": "code",
   "execution_count": 71,
   "id": "bfe54ddb",
   "metadata": {
    "ExecuteTime": {
     "end_time": "2022-04-06T10:50:12.797208Z",
     "start_time": "2022-04-06T10:50:12.792207Z"
    }
   },
   "outputs": [],
   "source": [
    "s1 = pd.Series([1, 2, 3, 4, 5, 6], index=pd.date_range(\"20130102\", periods=6))"
   ]
  },
  {
   "cell_type": "code",
   "execution_count": 72,
   "id": "e4b73b34",
   "metadata": {
    "ExecuteTime": {
     "end_time": "2022-04-06T10:50:15.844958Z",
     "start_time": "2022-04-06T10:50:15.839452Z"
    }
   },
   "outputs": [
    {
     "data": {
      "text/plain": [
       "2013-01-02    1\n",
       "2013-01-03    2\n",
       "2013-01-04    3\n",
       "2013-01-05    4\n",
       "2013-01-06    5\n",
       "2013-01-07    6\n",
       "Freq: D, dtype: int64"
      ]
     },
     "execution_count": 72,
     "metadata": {},
     "output_type": "execute_result"
    }
   ],
   "source": [
    "s1"
   ]
  },
  {
   "cell_type": "code",
   "execution_count": 73,
   "id": "67d3eaaa",
   "metadata": {
    "ExecuteTime": {
     "end_time": "2022-04-06T10:50:45.967198Z",
     "start_time": "2022-04-06T10:50:45.953197Z"
    }
   },
   "outputs": [
    {
     "data": {
      "text/html": [
       "<div>\n",
       "<style scoped>\n",
       "    .dataframe tbody tr th:only-of-type {\n",
       "        vertical-align: middle;\n",
       "    }\n",
       "\n",
       "    .dataframe tbody tr th {\n",
       "        vertical-align: top;\n",
       "    }\n",
       "\n",
       "    .dataframe thead th {\n",
       "        text-align: right;\n",
       "    }\n",
       "</style>\n",
       "<table border=\"1\" class=\"dataframe\">\n",
       "  <thead>\n",
       "    <tr style=\"text-align: right;\">\n",
       "      <th></th>\n",
       "      <th>A</th>\n",
       "      <th>B</th>\n",
       "      <th>C</th>\n",
       "      <th>D</th>\n",
       "      <th>F</th>\n",
       "    </tr>\n",
       "  </thead>\n",
       "  <tbody>\n",
       "    <tr>\n",
       "      <th>2013-01-01</th>\n",
       "      <td>-0.284604</td>\n",
       "      <td>-0.933469</td>\n",
       "      <td>0.098997</td>\n",
       "      <td>0.193849</td>\n",
       "      <td>NaN</td>\n",
       "    </tr>\n",
       "    <tr>\n",
       "      <th>2013-01-02</th>\n",
       "      <td>-0.154906</td>\n",
       "      <td>0.939757</td>\n",
       "      <td>-1.827047</td>\n",
       "      <td>-0.005126</td>\n",
       "      <td>1.0</td>\n",
       "    </tr>\n",
       "    <tr>\n",
       "      <th>2013-01-03</th>\n",
       "      <td>-0.342975</td>\n",
       "      <td>-1.452343</td>\n",
       "      <td>2.983670</td>\n",
       "      <td>-0.685732</td>\n",
       "      <td>2.0</td>\n",
       "    </tr>\n",
       "    <tr>\n",
       "      <th>2013-01-04</th>\n",
       "      <td>-0.067725</td>\n",
       "      <td>-2.670401</td>\n",
       "      <td>-0.394594</td>\n",
       "      <td>-1.392980</td>\n",
       "      <td>3.0</td>\n",
       "    </tr>\n",
       "    <tr>\n",
       "      <th>2013-01-05</th>\n",
       "      <td>-0.445094</td>\n",
       "      <td>0.763297</td>\n",
       "      <td>-0.663794</td>\n",
       "      <td>0.298800</td>\n",
       "      <td>4.0</td>\n",
       "    </tr>\n",
       "    <tr>\n",
       "      <th>2013-01-06</th>\n",
       "      <td>-1.575347</td>\n",
       "      <td>-0.145149</td>\n",
       "      <td>-1.639516</td>\n",
       "      <td>-0.112989</td>\n",
       "      <td>5.0</td>\n",
       "    </tr>\n",
       "  </tbody>\n",
       "</table>\n",
       "</div>"
      ],
      "text/plain": [
       "                   A         B         C         D    F\n",
       "2013-01-01 -0.284604 -0.933469  0.098997  0.193849  NaN\n",
       "2013-01-02 -0.154906  0.939757 -1.827047 -0.005126  1.0\n",
       "2013-01-03 -0.342975 -1.452343  2.983670 -0.685732  2.0\n",
       "2013-01-04 -0.067725 -2.670401 -0.394594 -1.392980  3.0\n",
       "2013-01-05 -0.445094  0.763297 -0.663794  0.298800  4.0\n",
       "2013-01-06 -1.575347 -0.145149 -1.639516 -0.112989  5.0"
      ]
     },
     "execution_count": 73,
     "metadata": {},
     "output_type": "execute_result"
    }
   ],
   "source": [
    "df [\"F\"] = s1\n",
    "df"
   ]
  },
  {
   "cell_type": "code",
   "execution_count": null,
   "id": "9fcbd97a",
   "metadata": {},
   "outputs": [],
   "source": []
  }
 ],
 "metadata": {
  "kernelspec": {
   "display_name": "Python 3",
   "language": "python",
   "name": "python3"
  },
  "language_info": {
   "codemirror_mode": {
    "name": "ipython",
    "version": 3
   },
   "file_extension": ".py",
   "mimetype": "text/x-python",
   "name": "python",
   "nbconvert_exporter": "python",
   "pygments_lexer": "ipython3",
   "version": "3.8.8"
  },
  "toc": {
   "base_numbering": 1,
   "nav_menu": {},
   "number_sections": true,
   "sideBar": true,
   "skip_h1_title": false,
   "title_cell": "Table of Contents",
   "title_sidebar": "Contents",
   "toc_cell": false,
   "toc_position": {},
   "toc_section_display": true,
   "toc_window_display": false
  },
  "varInspector": {
   "cols": {
    "lenName": 16,
    "lenType": 16,
    "lenVar": 40
   },
   "kernels_config": {
    "python": {
     "delete_cmd_postfix": "",
     "delete_cmd_prefix": "del ",
     "library": "var_list.py",
     "varRefreshCmd": "print(var_dic_list())"
    },
    "r": {
     "delete_cmd_postfix": ") ",
     "delete_cmd_prefix": "rm(",
     "library": "var_list.r",
     "varRefreshCmd": "cat(var_dic_list()) "
    }
   },
   "types_to_exclude": [
    "module",
    "function",
    "builtin_function_or_method",
    "instance",
    "_Feature"
   ],
   "window_display": false
  }
 },
 "nbformat": 4,
 "nbformat_minor": 5
}
