{
 "cells": [
  {
   "cell_type": "code",
   "execution_count": 1,
   "id": "d0461726",
   "metadata": {
    "ExecuteTime": {
     "end_time": "2022-04-13T10:12:04.757438Z",
     "start_time": "2022-04-13T10:12:04.330445Z"
    }
   },
   "outputs": [],
   "source": [
    "import numpy as np\n",
    "import pandas as pd"
   ]
  },
  {
   "cell_type": "code",
   "execution_count": 2,
   "id": "92a7da88",
   "metadata": {
    "ExecuteTime": {
     "end_time": "2022-04-13T08:01:47.880989Z",
     "start_time": "2022-04-13T08:01:47.869471Z"
    }
   },
   "outputs": [],
   "source": [
    "tuples = list(\n",
    "        zip(\n",
    "            *[\n",
    "                [\"bar\", \"bar\", \"baz\", \"baz\", \"foo\", \"foo\", \"qux\", \"qux\"], \n",
    "                [\"one\", \"two\", \"one\", \"two\", \"one\", \"two\", \"one\", \"two\"], \n",
    "            ]))\n",
    "\n",
    "index = pd.MultiIndex.from_tuples(tuples, names=[\"first\", \"second\"])"
   ]
  },
  {
   "cell_type": "code",
   "execution_count": 4,
   "id": "03fbf2b6",
   "metadata": {
    "ExecuteTime": {
     "end_time": "2022-04-13T08:02:07.691407Z",
     "start_time": "2022-04-13T08:02:07.685412Z"
    }
   },
   "outputs": [
    {
     "data": {
      "text/plain": [
       "MultiIndex([('bar', 'one'),\n",
       "            ('bar', 'two'),\n",
       "            ('baz', 'one'),\n",
       "            ('baz', 'two'),\n",
       "            ('foo', 'one'),\n",
       "            ('foo', 'two'),\n",
       "            ('qux', 'one'),\n",
       "            ('qux', 'two')],\n",
       "           names=['first', 'second'])"
      ]
     },
     "execution_count": 4,
     "metadata": {},
     "output_type": "execute_result"
    }
   ],
   "source": [
    "index"
   ]
  },
  {
   "cell_type": "code",
   "execution_count": 7,
   "id": "65b69e03",
   "metadata": {
    "ExecuteTime": {
     "end_time": "2022-04-13T08:03:06.403494Z",
     "start_time": "2022-04-13T08:03:06.380996Z"
    }
   },
   "outputs": [
    {
     "data": {
      "text/html": [
       "<div>\n",
       "<style scoped>\n",
       "    .dataframe tbody tr th:only-of-type {\n",
       "        vertical-align: middle;\n",
       "    }\n",
       "\n",
       "    .dataframe tbody tr th {\n",
       "        vertical-align: top;\n",
       "    }\n",
       "\n",
       "    .dataframe thead th {\n",
       "        text-align: right;\n",
       "    }\n",
       "</style>\n",
       "<table border=\"1\" class=\"dataframe\">\n",
       "  <thead>\n",
       "    <tr style=\"text-align: right;\">\n",
       "      <th></th>\n",
       "      <th></th>\n",
       "      <th>A</th>\n",
       "      <th>B</th>\n",
       "    </tr>\n",
       "    <tr>\n",
       "      <th>first</th>\n",
       "      <th>second</th>\n",
       "      <th></th>\n",
       "      <th></th>\n",
       "    </tr>\n",
       "  </thead>\n",
       "  <tbody>\n",
       "    <tr>\n",
       "      <th rowspan=\"2\" valign=\"top\">bar</th>\n",
       "      <th>one</th>\n",
       "      <td>-0.423180</td>\n",
       "      <td>0.128522</td>\n",
       "    </tr>\n",
       "    <tr>\n",
       "      <th>two</th>\n",
       "      <td>0.476546</td>\n",
       "      <td>0.987772</td>\n",
       "    </tr>\n",
       "    <tr>\n",
       "      <th rowspan=\"2\" valign=\"top\">baz</th>\n",
       "      <th>one</th>\n",
       "      <td>-0.233538</td>\n",
       "      <td>-1.613717</td>\n",
       "    </tr>\n",
       "    <tr>\n",
       "      <th>two</th>\n",
       "      <td>-0.818391</td>\n",
       "      <td>-0.766759</td>\n",
       "    </tr>\n",
       "    <tr>\n",
       "      <th rowspan=\"2\" valign=\"top\">foo</th>\n",
       "      <th>one</th>\n",
       "      <td>0.494105</td>\n",
       "      <td>-0.216617</td>\n",
       "    </tr>\n",
       "    <tr>\n",
       "      <th>two</th>\n",
       "      <td>0.676298</td>\n",
       "      <td>-2.412386</td>\n",
       "    </tr>\n",
       "    <tr>\n",
       "      <th rowspan=\"2\" valign=\"top\">qux</th>\n",
       "      <th>one</th>\n",
       "      <td>-2.563963</td>\n",
       "      <td>0.548738</td>\n",
       "    </tr>\n",
       "    <tr>\n",
       "      <th>two</th>\n",
       "      <td>0.449537</td>\n",
       "      <td>-2.176408</td>\n",
       "    </tr>\n",
       "  </tbody>\n",
       "</table>\n",
       "</div>"
      ],
      "text/plain": [
       "                     A         B\n",
       "first second                    \n",
       "bar   one    -0.423180  0.128522\n",
       "      two     0.476546  0.987772\n",
       "baz   one    -0.233538 -1.613717\n",
       "      two    -0.818391 -0.766759\n",
       "foo   one     0.494105 -0.216617\n",
       "      two     0.676298 -2.412386\n",
       "qux   one    -2.563963  0.548738\n",
       "      two     0.449537 -2.176408"
      ]
     },
     "execution_count": 7,
     "metadata": {},
     "output_type": "execute_result"
    }
   ],
   "source": [
    "df = pd.DataFrame(np.random.randn(8, 2), index=index, columns=[\"A\", \"B\"])\n",
    "df"
   ]
  },
  {
   "cell_type": "code",
   "execution_count": 9,
   "id": "6e65d427",
   "metadata": {
    "ExecuteTime": {
     "end_time": "2022-04-13T08:04:10.181697Z",
     "start_time": "2022-04-13T08:04:10.172686Z"
    }
   },
   "outputs": [
    {
     "data": {
      "text/html": [
       "<div>\n",
       "<style scoped>\n",
       "    .dataframe tbody tr th:only-of-type {\n",
       "        vertical-align: middle;\n",
       "    }\n",
       "\n",
       "    .dataframe tbody tr th {\n",
       "        vertical-align: top;\n",
       "    }\n",
       "\n",
       "    .dataframe thead th {\n",
       "        text-align: right;\n",
       "    }\n",
       "</style>\n",
       "<table border=\"1\" class=\"dataframe\">\n",
       "  <thead>\n",
       "    <tr style=\"text-align: right;\">\n",
       "      <th></th>\n",
       "      <th></th>\n",
       "      <th>A</th>\n",
       "      <th>B</th>\n",
       "    </tr>\n",
       "    <tr>\n",
       "      <th>first</th>\n",
       "      <th>second</th>\n",
       "      <th></th>\n",
       "      <th></th>\n",
       "    </tr>\n",
       "  </thead>\n",
       "  <tbody>\n",
       "    <tr>\n",
       "      <th rowspan=\"2\" valign=\"top\">bar</th>\n",
       "      <th>one</th>\n",
       "      <td>-0.423180</td>\n",
       "      <td>0.128522</td>\n",
       "    </tr>\n",
       "    <tr>\n",
       "      <th>two</th>\n",
       "      <td>0.476546</td>\n",
       "      <td>0.987772</td>\n",
       "    </tr>\n",
       "    <tr>\n",
       "      <th rowspan=\"2\" valign=\"top\">baz</th>\n",
       "      <th>one</th>\n",
       "      <td>-0.233538</td>\n",
       "      <td>-1.613717</td>\n",
       "    </tr>\n",
       "    <tr>\n",
       "      <th>two</th>\n",
       "      <td>-0.818391</td>\n",
       "      <td>-0.766759</td>\n",
       "    </tr>\n",
       "  </tbody>\n",
       "</table>\n",
       "</div>"
      ],
      "text/plain": [
       "                     A         B\n",
       "first second                    \n",
       "bar   one    -0.423180  0.128522\n",
       "      two     0.476546  0.987772\n",
       "baz   one    -0.233538 -1.613717\n",
       "      two    -0.818391 -0.766759"
      ]
     },
     "execution_count": 9,
     "metadata": {},
     "output_type": "execute_result"
    }
   ],
   "source": [
    "df2 = df[:4]\n",
    "df2"
   ]
  },
  {
   "cell_type": "code",
   "execution_count": 11,
   "id": "6874a0f1",
   "metadata": {
    "ExecuteTime": {
     "end_time": "2022-04-13T08:04:41.282724Z",
     "start_time": "2022-04-13T08:04:41.275222Z"
    }
   },
   "outputs": [
    {
     "data": {
      "text/plain": [
       "first  second   \n",
       "bar    one     A   -0.423180\n",
       "               B    0.128522\n",
       "       two     A    0.476546\n",
       "               B    0.987772\n",
       "baz    one     A   -0.233538\n",
       "               B   -1.613717\n",
       "       two     A   -0.818391\n",
       "               B   -0.766759\n",
       "dtype: float64"
      ]
     },
     "execution_count": 11,
     "metadata": {},
     "output_type": "execute_result"
    }
   ],
   "source": [
    "stacked = df2.stack()\n",
    "stacked"
   ]
  },
  {
   "cell_type": "code",
   "execution_count": 18,
   "id": "6941a498",
   "metadata": {
    "ExecuteTime": {
     "end_time": "2022-04-13T08:07:19.886753Z",
     "start_time": "2022-04-13T08:07:19.870776Z"
    }
   },
   "outputs": [
    {
     "data": {
      "text/html": [
       "<div>\n",
       "<style scoped>\n",
       "    .dataframe tbody tr th:only-of-type {\n",
       "        vertical-align: middle;\n",
       "    }\n",
       "\n",
       "    .dataframe tbody tr th {\n",
       "        vertical-align: top;\n",
       "    }\n",
       "\n",
       "    .dataframe thead th {\n",
       "        text-align: right;\n",
       "    }\n",
       "</style>\n",
       "<table border=\"1\" class=\"dataframe\">\n",
       "  <thead>\n",
       "    <tr style=\"text-align: right;\">\n",
       "      <th></th>\n",
       "      <th>first</th>\n",
       "      <th>bar</th>\n",
       "      <th>baz</th>\n",
       "    </tr>\n",
       "    <tr>\n",
       "      <th>second</th>\n",
       "      <th></th>\n",
       "      <th></th>\n",
       "      <th></th>\n",
       "    </tr>\n",
       "  </thead>\n",
       "  <tbody>\n",
       "    <tr>\n",
       "      <th rowspan=\"2\" valign=\"top\">one</th>\n",
       "      <th>A</th>\n",
       "      <td>-0.423180</td>\n",
       "      <td>-0.233538</td>\n",
       "    </tr>\n",
       "    <tr>\n",
       "      <th>B</th>\n",
       "      <td>0.128522</td>\n",
       "      <td>-1.613717</td>\n",
       "    </tr>\n",
       "    <tr>\n",
       "      <th rowspan=\"2\" valign=\"top\">two</th>\n",
       "      <th>A</th>\n",
       "      <td>0.476546</td>\n",
       "      <td>-0.818391</td>\n",
       "    </tr>\n",
       "    <tr>\n",
       "      <th>B</th>\n",
       "      <td>0.987772</td>\n",
       "      <td>-0.766759</td>\n",
       "    </tr>\n",
       "  </tbody>\n",
       "</table>\n",
       "</div>"
      ],
      "text/plain": [
       "first          bar       baz\n",
       "second                      \n",
       "one    A -0.423180 -0.233538\n",
       "       B  0.128522 -1.613717\n",
       "two    A  0.476546 -0.818391\n",
       "       B  0.987772 -0.766759"
      ]
     },
     "execution_count": 18,
     "metadata": {},
     "output_type": "execute_result"
    }
   ],
   "source": [
    "stacked.unstack(0)"
   ]
  },
  {
   "cell_type": "code",
   "execution_count": 19,
   "id": "854b46b4",
   "metadata": {
    "ExecuteTime": {
     "end_time": "2022-04-13T08:10:41.136755Z",
     "start_time": "2022-04-13T08:10:41.122250Z"
    }
   },
   "outputs": [
    {
     "data": {
      "text/html": [
       "<div>\n",
       "<style scoped>\n",
       "    .dataframe tbody tr th:only-of-type {\n",
       "        vertical-align: middle;\n",
       "    }\n",
       "\n",
       "    .dataframe tbody tr th {\n",
       "        vertical-align: top;\n",
       "    }\n",
       "\n",
       "    .dataframe thead th {\n",
       "        text-align: right;\n",
       "    }\n",
       "</style>\n",
       "<table border=\"1\" class=\"dataframe\">\n",
       "  <thead>\n",
       "    <tr style=\"text-align: right;\">\n",
       "      <th></th>\n",
       "      <th>A</th>\n",
       "      <th>B</th>\n",
       "      <th>C</th>\n",
       "      <th>D</th>\n",
       "      <th>E</th>\n",
       "    </tr>\n",
       "  </thead>\n",
       "  <tbody>\n",
       "    <tr>\n",
       "      <th>0</th>\n",
       "      <td>one</td>\n",
       "      <td>A</td>\n",
       "      <td>foo</td>\n",
       "      <td>-0.345533</td>\n",
       "      <td>0.882960</td>\n",
       "    </tr>\n",
       "    <tr>\n",
       "      <th>1</th>\n",
       "      <td>one</td>\n",
       "      <td>B</td>\n",
       "      <td>foo</td>\n",
       "      <td>0.610805</td>\n",
       "      <td>-0.158270</td>\n",
       "    </tr>\n",
       "    <tr>\n",
       "      <th>2</th>\n",
       "      <td>two</td>\n",
       "      <td>C</td>\n",
       "      <td>foo</td>\n",
       "      <td>0.834988</td>\n",
       "      <td>1.679720</td>\n",
       "    </tr>\n",
       "    <tr>\n",
       "      <th>3</th>\n",
       "      <td>three</td>\n",
       "      <td>A</td>\n",
       "      <td>bar</td>\n",
       "      <td>0.783287</td>\n",
       "      <td>-0.637413</td>\n",
       "    </tr>\n",
       "    <tr>\n",
       "      <th>4</th>\n",
       "      <td>one</td>\n",
       "      <td>B</td>\n",
       "      <td>bar</td>\n",
       "      <td>1.612932</td>\n",
       "      <td>-0.889584</td>\n",
       "    </tr>\n",
       "    <tr>\n",
       "      <th>5</th>\n",
       "      <td>one</td>\n",
       "      <td>C</td>\n",
       "      <td>bar</td>\n",
       "      <td>1.187076</td>\n",
       "      <td>0.863334</td>\n",
       "    </tr>\n",
       "    <tr>\n",
       "      <th>6</th>\n",
       "      <td>two</td>\n",
       "      <td>A</td>\n",
       "      <td>foo</td>\n",
       "      <td>1.937373</td>\n",
       "      <td>-0.432360</td>\n",
       "    </tr>\n",
       "    <tr>\n",
       "      <th>7</th>\n",
       "      <td>three</td>\n",
       "      <td>B</td>\n",
       "      <td>foo</td>\n",
       "      <td>-0.045829</td>\n",
       "      <td>0.868280</td>\n",
       "    </tr>\n",
       "    <tr>\n",
       "      <th>8</th>\n",
       "      <td>one</td>\n",
       "      <td>C</td>\n",
       "      <td>foo</td>\n",
       "      <td>-1.937570</td>\n",
       "      <td>-1.240921</td>\n",
       "    </tr>\n",
       "    <tr>\n",
       "      <th>9</th>\n",
       "      <td>one</td>\n",
       "      <td>A</td>\n",
       "      <td>bar</td>\n",
       "      <td>-0.632178</td>\n",
       "      <td>-1.151710</td>\n",
       "    </tr>\n",
       "    <tr>\n",
       "      <th>10</th>\n",
       "      <td>two</td>\n",
       "      <td>B</td>\n",
       "      <td>bar</td>\n",
       "      <td>0.544892</td>\n",
       "      <td>0.440678</td>\n",
       "    </tr>\n",
       "    <tr>\n",
       "      <th>11</th>\n",
       "      <td>three</td>\n",
       "      <td>C</td>\n",
       "      <td>bar</td>\n",
       "      <td>1.368225</td>\n",
       "      <td>0.707411</td>\n",
       "    </tr>\n",
       "  </tbody>\n",
       "</table>\n",
       "</div>"
      ],
      "text/plain": [
       "        A  B    C         D         E\n",
       "0     one  A  foo -0.345533  0.882960\n",
       "1     one  B  foo  0.610805 -0.158270\n",
       "2     two  C  foo  0.834988  1.679720\n",
       "3   three  A  bar  0.783287 -0.637413\n",
       "4     one  B  bar  1.612932 -0.889584\n",
       "5     one  C  bar  1.187076  0.863334\n",
       "6     two  A  foo  1.937373 -0.432360\n",
       "7   three  B  foo -0.045829  0.868280\n",
       "8     one  C  foo -1.937570 -1.240921\n",
       "9     one  A  bar -0.632178 -1.151710\n",
       "10    two  B  bar  0.544892  0.440678\n",
       "11  three  C  bar  1.368225  0.707411"
      ]
     },
     "execution_count": 19,
     "metadata": {},
     "output_type": "execute_result"
    }
   ],
   "source": [
    "df = pd.DataFrame(\n",
    "    {\n",
    "        \"A\":[\"one\", \"one\", \"two\", \"three\"] * 3, \n",
    "        \"B\":[\"A\", \"B\", \"C\"] * 4, \n",
    "        \"C\":[\"foo\", \"foo\", \"foo\", \"bar\", \"bar\", \"bar\"] * 2, \n",
    "        \"D\":np.random.randn(12), \n",
    "        \"E\":np.random.randn(12),\n",
    "    })\n",
    "\n",
    "df"
   ]
  },
  {
   "cell_type": "code",
   "execution_count": 22,
   "id": "d684950e",
   "metadata": {
    "ExecuteTime": {
     "end_time": "2022-04-13T08:13:58.401845Z",
     "start_time": "2022-04-13T08:13:58.380868Z"
    }
   },
   "outputs": [
    {
     "data": {
      "text/html": [
       "<div>\n",
       "<style scoped>\n",
       "    .dataframe tbody tr th:only-of-type {\n",
       "        vertical-align: middle;\n",
       "    }\n",
       "\n",
       "    .dataframe tbody tr th {\n",
       "        vertical-align: top;\n",
       "    }\n",
       "\n",
       "    .dataframe thead th {\n",
       "        text-align: right;\n",
       "    }\n",
       "</style>\n",
       "<table border=\"1\" class=\"dataframe\">\n",
       "  <thead>\n",
       "    <tr style=\"text-align: right;\">\n",
       "      <th></th>\n",
       "      <th>C</th>\n",
       "      <th>bar</th>\n",
       "      <th>foo</th>\n",
       "    </tr>\n",
       "    <tr>\n",
       "      <th>A</th>\n",
       "      <th>B</th>\n",
       "      <th></th>\n",
       "      <th></th>\n",
       "    </tr>\n",
       "  </thead>\n",
       "  <tbody>\n",
       "    <tr>\n",
       "      <th rowspan=\"3\" valign=\"top\">one</th>\n",
       "      <th>A</th>\n",
       "      <td>-0.632178</td>\n",
       "      <td>-0.345533</td>\n",
       "    </tr>\n",
       "    <tr>\n",
       "      <th>B</th>\n",
       "      <td>1.612932</td>\n",
       "      <td>0.610805</td>\n",
       "    </tr>\n",
       "    <tr>\n",
       "      <th>C</th>\n",
       "      <td>1.187076</td>\n",
       "      <td>-1.937570</td>\n",
       "    </tr>\n",
       "    <tr>\n",
       "      <th rowspan=\"3\" valign=\"top\">three</th>\n",
       "      <th>A</th>\n",
       "      <td>0.783287</td>\n",
       "      <td>NaN</td>\n",
       "    </tr>\n",
       "    <tr>\n",
       "      <th>B</th>\n",
       "      <td>NaN</td>\n",
       "      <td>-0.045829</td>\n",
       "    </tr>\n",
       "    <tr>\n",
       "      <th>C</th>\n",
       "      <td>1.368225</td>\n",
       "      <td>NaN</td>\n",
       "    </tr>\n",
       "    <tr>\n",
       "      <th rowspan=\"3\" valign=\"top\">two</th>\n",
       "      <th>A</th>\n",
       "      <td>NaN</td>\n",
       "      <td>1.937373</td>\n",
       "    </tr>\n",
       "    <tr>\n",
       "      <th>B</th>\n",
       "      <td>0.544892</td>\n",
       "      <td>NaN</td>\n",
       "    </tr>\n",
       "    <tr>\n",
       "      <th>C</th>\n",
       "      <td>NaN</td>\n",
       "      <td>0.834988</td>\n",
       "    </tr>\n",
       "  </tbody>\n",
       "</table>\n",
       "</div>"
      ],
      "text/plain": [
       "C             bar       foo\n",
       "A     B                    \n",
       "one   A -0.632178 -0.345533\n",
       "      B  1.612932  0.610805\n",
       "      C  1.187076 -1.937570\n",
       "three A  0.783287       NaN\n",
       "      B       NaN -0.045829\n",
       "      C  1.368225       NaN\n",
       "two   A       NaN  1.937373\n",
       "      B  0.544892       NaN\n",
       "      C       NaN  0.834988"
      ]
     },
     "execution_count": 22,
     "metadata": {},
     "output_type": "execute_result"
    }
   ],
   "source": [
    "pd.pivot_table(df, values=\"D\", index=[\"A\", \"B\"], columns=[\"C\"])"
   ]
  },
  {
   "cell_type": "code",
   "execution_count": 33,
   "id": "80ff8150",
   "metadata": {
    "ExecuteTime": {
     "end_time": "2022-04-13T08:39:03.249907Z",
     "start_time": "2022-04-13T08:39:03.242376Z"
    }
   },
   "outputs": [
    {
     "data": {
      "text/plain": [
       "DatetimeIndex(['2012-01-01 00:00:00', '2012-01-01 00:00:01',\n",
       "               '2012-01-01 00:00:02', '2012-01-01 00:00:03',\n",
       "               '2012-01-01 00:00:04', '2012-01-01 00:00:05',\n",
       "               '2012-01-01 00:00:06', '2012-01-01 00:00:07',\n",
       "               '2012-01-01 00:00:08', '2012-01-01 00:00:09',\n",
       "               ...\n",
       "               '2012-01-01 00:49:50', '2012-01-01 00:49:51',\n",
       "               '2012-01-01 00:49:52', '2012-01-01 00:49:53',\n",
       "               '2012-01-01 00:49:54', '2012-01-01 00:49:55',\n",
       "               '2012-01-01 00:49:56', '2012-01-01 00:49:57',\n",
       "               '2012-01-01 00:49:58', '2012-01-01 00:49:59'],\n",
       "              dtype='datetime64[ns]', length=3000, freq='S')"
      ]
     },
     "execution_count": 33,
     "metadata": {},
     "output_type": "execute_result"
    }
   ],
   "source": [
    "rng = pd.date_range(\"1/1/2012\", periods=3000, freq=\"S\")\n",
    "rng"
   ]
  },
  {
   "cell_type": "code",
   "execution_count": 34,
   "id": "e3a6e94b",
   "metadata": {
    "ExecuteTime": {
     "end_time": "2022-04-13T08:39:06.086390Z",
     "start_time": "2022-04-13T08:39:06.078891Z"
    }
   },
   "outputs": [
    {
     "data": {
      "text/plain": [
       "2012-01-01 00:00:00    464\n",
       "2012-01-01 00:00:01    212\n",
       "2012-01-01 00:00:02    279\n",
       "2012-01-01 00:00:03    153\n",
       "2012-01-01 00:00:04     45\n",
       "                      ... \n",
       "2012-01-01 00:49:55    395\n",
       "2012-01-01 00:49:56    100\n",
       "2012-01-01 00:49:57    381\n",
       "2012-01-01 00:49:58     56\n",
       "2012-01-01 00:49:59    277\n",
       "Freq: S, Length: 3000, dtype: int32"
      ]
     },
     "execution_count": 34,
     "metadata": {},
     "output_type": "execute_result"
    }
   ],
   "source": [
    "ts = pd.Series(np.random.randint(0, 500, len(rng)), index=rng)\n",
    "ts"
   ]
  },
  {
   "cell_type": "code",
   "execution_count": 35,
   "id": "e8662ebd",
   "metadata": {
    "ExecuteTime": {
     "end_time": "2022-04-13T08:39:06.541733Z",
     "start_time": "2022-04-13T08:39:06.528728Z"
    }
   },
   "outputs": [
    {
     "data": {
      "text/plain": [
       "2012-01-01 00:00:00    76853\n",
       "2012-01-01 00:05:00    70677\n",
       "2012-01-01 00:10:00    75093\n",
       "2012-01-01 00:15:00    74239\n",
       "2012-01-01 00:20:00    71845\n",
       "2012-01-01 00:25:00    77873\n",
       "2012-01-01 00:30:00    76063\n",
       "2012-01-01 00:35:00    73690\n",
       "2012-01-01 00:40:00    71979\n",
       "2012-01-01 00:45:00    73104\n",
       "Freq: 5T, dtype: int32"
      ]
     },
     "execution_count": 35,
     "metadata": {},
     "output_type": "execute_result"
    }
   ],
   "source": [
    "ts.resample(\"5Min\").sum()"
   ]
  },
  {
   "cell_type": "code",
   "execution_count": 36,
   "id": "166ff264",
   "metadata": {
    "ExecuteTime": {
     "end_time": "2022-04-13T08:45:47.211528Z",
     "start_time": "2022-04-13T08:45:47.204990Z"
    }
   },
   "outputs": [
    {
     "data": {
      "text/plain": [
       "DatetimeIndex(['2012-03-06', '2012-03-07', '2012-03-08', '2012-03-09',\n",
       "               '2012-03-10'],\n",
       "              dtype='datetime64[ns]', freq='D')"
      ]
     },
     "execution_count": 36,
     "metadata": {},
     "output_type": "execute_result"
    }
   ],
   "source": [
    "rng = pd.date_range(\"3/6/2012 00:00\", periods=5, freq=\"D\")\n",
    "rng"
   ]
  },
  {
   "cell_type": "code",
   "execution_count": 37,
   "id": "1692a9a5",
   "metadata": {
    "ExecuteTime": {
     "end_time": "2022-04-13T08:47:48.204954Z",
     "start_time": "2022-04-13T08:47:48.197450Z"
    }
   },
   "outputs": [
    {
     "data": {
      "text/plain": [
       "2012-03-06   -2.192989\n",
       "2012-03-07   -1.102261\n",
       "2012-03-08    0.752577\n",
       "2012-03-09    0.220993\n",
       "2012-03-10   -0.232500\n",
       "Freq: D, dtype: float64"
      ]
     },
     "execution_count": 37,
     "metadata": {},
     "output_type": "execute_result"
    }
   ],
   "source": [
    "ts = pd.Series(np.random.randn(len(rng)), rng)\n",
    "ts"
   ]
  },
  {
   "cell_type": "code",
   "execution_count": 38,
   "id": "b5382099",
   "metadata": {
    "ExecuteTime": {
     "end_time": "2022-04-13T08:48:42.781808Z",
     "start_time": "2022-04-13T08:48:42.773304Z"
    }
   },
   "outputs": [
    {
     "data": {
      "text/plain": [
       "2012-03-06 00:00:00+00:00   -2.192989\n",
       "2012-03-07 00:00:00+00:00   -1.102261\n",
       "2012-03-08 00:00:00+00:00    0.752577\n",
       "2012-03-09 00:00:00+00:00    0.220993\n",
       "2012-03-10 00:00:00+00:00   -0.232500\n",
       "Freq: D, dtype: float64"
      ]
     },
     "execution_count": 38,
     "metadata": {},
     "output_type": "execute_result"
    }
   ],
   "source": [
    "ts_utc = ts.tz_localize(\"UTC\")\n",
    "ts_utc"
   ]
  },
  {
   "cell_type": "code",
   "execution_count": 41,
   "id": "e0131c57",
   "metadata": {
    "ExecuteTime": {
     "end_time": "2022-04-13T08:49:57.690131Z",
     "start_time": "2022-04-13T08:49:57.679653Z"
    }
   },
   "outputs": [
    {
     "data": {
      "text/plain": [
       "2012-03-05 19:00:00-05:00   -2.192989\n",
       "2012-03-06 19:00:00-05:00   -1.102261\n",
       "2012-03-07 19:00:00-05:00    0.752577\n",
       "2012-03-08 19:00:00-05:00    0.220993\n",
       "2012-03-09 19:00:00-05:00   -0.232500\n",
       "Freq: D, dtype: float64"
      ]
     },
     "execution_count": 41,
     "metadata": {},
     "output_type": "execute_result"
    }
   ],
   "source": [
    "ts_utc.tz_convert(\"US/Eastern\")"
   ]
  },
  {
   "cell_type": "code",
   "execution_count": 53,
   "id": "576b9020",
   "metadata": {
    "ExecuteTime": {
     "end_time": "2022-04-13T08:53:01.692076Z",
     "start_time": "2022-04-13T08:53:01.686089Z"
    }
   },
   "outputs": [
    {
     "data": {
      "text/plain": [
       "DatetimeIndex(['2012-01-31', '2012-02-29', '2012-03-31', '2012-04-30',\n",
       "               '2012-05-31'],\n",
       "              dtype='datetime64[ns]', freq='M')"
      ]
     },
     "execution_count": 53,
     "metadata": {},
     "output_type": "execute_result"
    }
   ],
   "source": [
    "rng = pd.date_range(\"1/1/2012\", periods=5, freq=\"m\")\n",
    "rng"
   ]
  },
  {
   "cell_type": "code",
   "execution_count": 54,
   "id": "a7f5ae21",
   "metadata": {
    "ExecuteTime": {
     "end_time": "2022-04-13T08:53:01.952160Z",
     "start_time": "2022-04-13T08:53:01.946157Z"
    }
   },
   "outputs": [
    {
     "data": {
      "text/plain": [
       "2012-01-31    0.751873\n",
       "2012-02-29   -0.916665\n",
       "2012-03-31    1.881274\n",
       "2012-04-30    0.249782\n",
       "2012-05-31    1.997578\n",
       "Freq: M, dtype: float64"
      ]
     },
     "execution_count": 54,
     "metadata": {},
     "output_type": "execute_result"
    }
   ],
   "source": [
    "ts = pd.Series(np.random.randn(len(rng)), rng)\n",
    "ts"
   ]
  },
  {
   "cell_type": "code",
   "execution_count": 55,
   "id": "12d9ef44",
   "metadata": {
    "ExecuteTime": {
     "end_time": "2022-04-13T08:53:02.209152Z",
     "start_time": "2022-04-13T08:53:02.200652Z"
    }
   },
   "outputs": [
    {
     "data": {
      "text/plain": [
       "2012-01    0.751873\n",
       "2012-02   -0.916665\n",
       "2012-03    1.881274\n",
       "2012-04    0.249782\n",
       "2012-05    1.997578\n",
       "Freq: M, dtype: float64"
      ]
     },
     "execution_count": 55,
     "metadata": {},
     "output_type": "execute_result"
    }
   ],
   "source": [
    "ps = ts.to_period()\n",
    "ps"
   ]
  },
  {
   "cell_type": "code",
   "execution_count": 57,
   "id": "2f9c90c9",
   "metadata": {
    "ExecuteTime": {
     "end_time": "2022-04-13T08:53:47.208759Z",
     "start_time": "2022-04-13T08:53:47.202286Z"
    }
   },
   "outputs": [
    {
     "data": {
      "text/plain": [
       "2012-01-01    0.751873\n",
       "2012-02-01   -0.916665\n",
       "2012-03-01    1.881274\n",
       "2012-04-01    0.249782\n",
       "2012-05-01    1.997578\n",
       "Freq: MS, dtype: float64"
      ]
     },
     "execution_count": 57,
     "metadata": {},
     "output_type": "execute_result"
    }
   ],
   "source": [
    "ps.to_timestamp()"
   ]
  },
  {
   "cell_type": "code",
   "execution_count": 58,
   "id": "3ad273f5",
   "metadata": {
    "ExecuteTime": {
     "end_time": "2022-04-13T08:55:35.343497Z",
     "start_time": "2022-04-13T08:55:35.334994Z"
    }
   },
   "outputs": [
    {
     "data": {
      "text/plain": [
       "PeriodIndex(['1990Q1', '1990Q2', '1990Q3', '1990Q4', '1991Q1', '1991Q2',\n",
       "             '1991Q3', '1991Q4', '1992Q1', '1992Q2', '1992Q3', '1992Q4',\n",
       "             '1993Q1', '1993Q2', '1993Q3', '1993Q4', '1994Q1', '1994Q2',\n",
       "             '1994Q3', '1994Q4', '1995Q1', '1995Q2', '1995Q3', '1995Q4',\n",
       "             '1996Q1', '1996Q2', '1996Q3', '1996Q4', '1997Q1', '1997Q2',\n",
       "             '1997Q3', '1997Q4', '1998Q1', '1998Q2', '1998Q3', '1998Q4',\n",
       "             '1999Q1', '1999Q2', '1999Q3', '1999Q4', '2000Q1', '2000Q2',\n",
       "             '2000Q3', '2000Q4'],\n",
       "            dtype='period[Q-NOV]', freq='Q-NOV')"
      ]
     },
     "execution_count": 58,
     "metadata": {},
     "output_type": "execute_result"
    }
   ],
   "source": [
    "prng = pd.period_range(\"1990Q1\", \"2000Q4\", freq=\"Q-NOV\")\n",
    "prng"
   ]
  },
  {
   "cell_type": "code",
   "execution_count": 59,
   "id": "01f55d29",
   "metadata": {
    "ExecuteTime": {
     "end_time": "2022-04-13T08:59:11.869535Z",
     "start_time": "2022-04-13T08:59:11.863034Z"
    }
   },
   "outputs": [
    {
     "data": {
      "text/plain": [
       "1990Q1   -0.481294\n",
       "1990Q2    1.370599\n",
       "1990Q3   -0.825853\n",
       "1990Q4    0.368218\n",
       "1991Q1    0.607073\n",
       "1991Q2    0.590936\n",
       "1991Q3   -0.752207\n",
       "1991Q4   -1.047774\n",
       "1992Q1   -0.233283\n",
       "1992Q2   -0.078756\n",
       "1992Q3    0.855250\n",
       "1992Q4   -0.501370\n",
       "1993Q1    1.276933\n",
       "1993Q2    0.565063\n",
       "1993Q3    0.596293\n",
       "1993Q4   -0.217777\n",
       "1994Q1    0.193297\n",
       "1994Q2    0.723184\n",
       "1994Q3    0.586532\n",
       "1994Q4   -1.010894\n",
       "1995Q1    1.383310\n",
       "1995Q2   -1.326757\n",
       "1995Q3    0.299336\n",
       "1995Q4    0.972671\n",
       "1996Q1    0.237288\n",
       "1996Q2   -0.854098\n",
       "1996Q3   -0.634873\n",
       "1996Q4    0.752862\n",
       "1997Q1    0.856730\n",
       "1997Q2    0.237006\n",
       "1997Q3   -0.096163\n",
       "1997Q4   -0.757962\n",
       "1998Q1   -0.995173\n",
       "1998Q2    0.927104\n",
       "1998Q3    0.263216\n",
       "1998Q4    1.438274\n",
       "1999Q1    0.163528\n",
       "1999Q2   -1.003063\n",
       "1999Q3   -0.709452\n",
       "1999Q4   -1.476274\n",
       "2000Q1    0.169187\n",
       "2000Q2    1.561083\n",
       "2000Q3   -1.334865\n",
       "2000Q4    0.251168\n",
       "Freq: Q-NOV, dtype: float64"
      ]
     },
     "execution_count": 59,
     "metadata": {},
     "output_type": "execute_result"
    }
   ],
   "source": [
    "ts = pd.Series(np.random.randn(len(prng)), prng)\n",
    "ts"
   ]
  },
  {
   "cell_type": "code",
   "execution_count": 64,
   "id": "e9900a97",
   "metadata": {
    "ExecuteTime": {
     "end_time": "2022-04-13T09:03:22.954512Z",
     "start_time": "2022-04-13T09:03:22.950485Z"
    }
   },
   "outputs": [],
   "source": [
    "ts.index = (prng.asfreq(\"M\", \"e\") + 1).asfreq(\"H\", \"s\") + 9"
   ]
  },
  {
   "cell_type": "code",
   "execution_count": 65,
   "id": "7865dd92",
   "metadata": {
    "ExecuteTime": {
     "end_time": "2022-04-13T09:03:24.459539Z",
     "start_time": "2022-04-13T09:03:24.454015Z"
    }
   },
   "outputs": [
    {
     "data": {
      "text/plain": [
       "1990-03-01 09:00   -0.481294\n",
       "1990-06-01 09:00    1.370599\n",
       "1990-09-01 09:00   -0.825853\n",
       "1990-12-01 09:00    0.368218\n",
       "1991-03-01 09:00    0.607073\n",
       "1991-06-01 09:00    0.590936\n",
       "1991-09-01 09:00   -0.752207\n",
       "1991-12-01 09:00   -1.047774\n",
       "1992-03-01 09:00   -0.233283\n",
       "1992-06-01 09:00   -0.078756\n",
       "1992-09-01 09:00    0.855250\n",
       "1992-12-01 09:00   -0.501370\n",
       "1993-03-01 09:00    1.276933\n",
       "1993-06-01 09:00    0.565063\n",
       "1993-09-01 09:00    0.596293\n",
       "1993-12-01 09:00   -0.217777\n",
       "1994-03-01 09:00    0.193297\n",
       "1994-06-01 09:00    0.723184\n",
       "1994-09-01 09:00    0.586532\n",
       "1994-12-01 09:00   -1.010894\n",
       "1995-03-01 09:00    1.383310\n",
       "1995-06-01 09:00   -1.326757\n",
       "1995-09-01 09:00    0.299336\n",
       "1995-12-01 09:00    0.972671\n",
       "1996-03-01 09:00    0.237288\n",
       "1996-06-01 09:00   -0.854098\n",
       "1996-09-01 09:00   -0.634873\n",
       "1996-12-01 09:00    0.752862\n",
       "1997-03-01 09:00    0.856730\n",
       "1997-06-01 09:00    0.237006\n",
       "1997-09-01 09:00   -0.096163\n",
       "1997-12-01 09:00   -0.757962\n",
       "1998-03-01 09:00   -0.995173\n",
       "1998-06-01 09:00    0.927104\n",
       "1998-09-01 09:00    0.263216\n",
       "1998-12-01 09:00    1.438274\n",
       "1999-03-01 09:00    0.163528\n",
       "1999-06-01 09:00   -1.003063\n",
       "1999-09-01 09:00   -0.709452\n",
       "1999-12-01 09:00   -1.476274\n",
       "2000-03-01 09:00    0.169187\n",
       "2000-06-01 09:00    1.561083\n",
       "2000-09-01 09:00   -1.334865\n",
       "2000-12-01 09:00    0.251168\n",
       "Freq: H, dtype: float64"
      ]
     },
     "execution_count": 65,
     "metadata": {},
     "output_type": "execute_result"
    }
   ],
   "source": [
    "ts"
   ]
  },
  {
   "cell_type": "code",
   "execution_count": 81,
   "id": "be121917",
   "metadata": {
    "ExecuteTime": {
     "end_time": "2022-04-13T09:37:43.058390Z",
     "start_time": "2022-04-13T09:37:43.049884Z"
    }
   },
   "outputs": [
    {
     "data": {
      "text/html": [
       "<div>\n",
       "<style scoped>\n",
       "    .dataframe tbody tr th:only-of-type {\n",
       "        vertical-align: middle;\n",
       "    }\n",
       "\n",
       "    .dataframe tbody tr th {\n",
       "        vertical-align: top;\n",
       "    }\n",
       "\n",
       "    .dataframe thead th {\n",
       "        text-align: right;\n",
       "    }\n",
       "</style>\n",
       "<table border=\"1\" class=\"dataframe\">\n",
       "  <thead>\n",
       "    <tr style=\"text-align: right;\">\n",
       "      <th></th>\n",
       "      <th>id</th>\n",
       "      <th>raw_grade</th>\n",
       "    </tr>\n",
       "  </thead>\n",
       "  <tbody>\n",
       "    <tr>\n",
       "      <th>0</th>\n",
       "      <td>1</td>\n",
       "      <td>a</td>\n",
       "    </tr>\n",
       "    <tr>\n",
       "      <th>1</th>\n",
       "      <td>2</td>\n",
       "      <td>b</td>\n",
       "    </tr>\n",
       "    <tr>\n",
       "      <th>2</th>\n",
       "      <td>3</td>\n",
       "      <td>b</td>\n",
       "    </tr>\n",
       "    <tr>\n",
       "      <th>3</th>\n",
       "      <td>4</td>\n",
       "      <td>a</td>\n",
       "    </tr>\n",
       "    <tr>\n",
       "      <th>4</th>\n",
       "      <td>5</td>\n",
       "      <td>a</td>\n",
       "    </tr>\n",
       "    <tr>\n",
       "      <th>5</th>\n",
       "      <td>6</td>\n",
       "      <td>e</td>\n",
       "    </tr>\n",
       "  </tbody>\n",
       "</table>\n",
       "</div>"
      ],
      "text/plain": [
       "   id raw_grade\n",
       "0   1         a\n",
       "1   2         b\n",
       "2   3         b\n",
       "3   4         a\n",
       "4   5         a\n",
       "5   6         e"
      ]
     },
     "execution_count": 81,
     "metadata": {},
     "output_type": "execute_result"
    }
   ],
   "source": [
    "df = pd.DataFrame(\n",
    "    {\"id\":[1, 2, 3, 4, 5, 6], \"raw_grade\":[\"a\", \"b\", \"b\", \"a\", \"a\", \"e\"]}\n",
    ")\n",
    "df"
   ]
  },
  {
   "cell_type": "code",
   "execution_count": 82,
   "id": "3ae1db8d",
   "metadata": {
    "ExecuteTime": {
     "end_time": "2022-04-13T09:37:44.105766Z",
     "start_time": "2022-04-13T09:37:44.100766Z"
    }
   },
   "outputs": [],
   "source": [
    "df[\"grade\"] = df[\"raw_grade\"].astype(\"category\")"
   ]
  },
  {
   "cell_type": "code",
   "execution_count": 83,
   "id": "93925fa8",
   "metadata": {
    "ExecuteTime": {
     "end_time": "2022-04-13T09:37:44.531449Z",
     "start_time": "2022-04-13T09:37:44.522944Z"
    }
   },
   "outputs": [
    {
     "data": {
      "text/plain": [
       "0    a\n",
       "1    b\n",
       "2    b\n",
       "3    a\n",
       "4    a\n",
       "5    e\n",
       "Name: grade, dtype: category\n",
       "Categories (3, object): ['a', 'b', 'e']"
      ]
     },
     "execution_count": 83,
     "metadata": {},
     "output_type": "execute_result"
    }
   ],
   "source": [
    "df[\"grade\"]"
   ]
  },
  {
   "cell_type": "code",
   "execution_count": 84,
   "id": "7bc5a739",
   "metadata": {
    "ExecuteTime": {
     "end_time": "2022-04-13T09:37:45.216137Z",
     "start_time": "2022-04-13T09:37:45.212602Z"
    }
   },
   "outputs": [],
   "source": [
    "df[\"grade\"].cat.categories = [\"very good\", \"good\", \"very bad\"]"
   ]
  },
  {
   "cell_type": "code",
   "execution_count": 85,
   "id": "ebfd2825",
   "metadata": {
    "ExecuteTime": {
     "end_time": "2022-04-13T09:37:45.860755Z",
     "start_time": "2022-04-13T09:37:45.855231Z"
    }
   },
   "outputs": [
    {
     "data": {
      "text/plain": [
       "0    very good\n",
       "1         good\n",
       "2         good\n",
       "3    very good\n",
       "4    very good\n",
       "5     very bad\n",
       "Name: grade, dtype: category\n",
       "Categories (3, object): ['very good', 'good', 'very bad']"
      ]
     },
     "execution_count": 85,
     "metadata": {},
     "output_type": "execute_result"
    }
   ],
   "source": [
    "df[\"grade\"]"
   ]
  },
  {
   "cell_type": "code",
   "execution_count": 86,
   "id": "05dc2cca",
   "metadata": {
    "ExecuteTime": {
     "end_time": "2022-04-13T09:37:46.572921Z",
     "start_time": "2022-04-13T09:37:46.564422Z"
    }
   },
   "outputs": [
    {
     "data": {
      "text/html": [
       "<div>\n",
       "<style scoped>\n",
       "    .dataframe tbody tr th:only-of-type {\n",
       "        vertical-align: middle;\n",
       "    }\n",
       "\n",
       "    .dataframe tbody tr th {\n",
       "        vertical-align: top;\n",
       "    }\n",
       "\n",
       "    .dataframe thead th {\n",
       "        text-align: right;\n",
       "    }\n",
       "</style>\n",
       "<table border=\"1\" class=\"dataframe\">\n",
       "  <thead>\n",
       "    <tr style=\"text-align: right;\">\n",
       "      <th></th>\n",
       "      <th>id</th>\n",
       "      <th>raw_grade</th>\n",
       "      <th>grade</th>\n",
       "    </tr>\n",
       "  </thead>\n",
       "  <tbody>\n",
       "    <tr>\n",
       "      <th>0</th>\n",
       "      <td>1</td>\n",
       "      <td>a</td>\n",
       "      <td>very good</td>\n",
       "    </tr>\n",
       "    <tr>\n",
       "      <th>1</th>\n",
       "      <td>2</td>\n",
       "      <td>b</td>\n",
       "      <td>good</td>\n",
       "    </tr>\n",
       "    <tr>\n",
       "      <th>2</th>\n",
       "      <td>3</td>\n",
       "      <td>b</td>\n",
       "      <td>good</td>\n",
       "    </tr>\n",
       "    <tr>\n",
       "      <th>3</th>\n",
       "      <td>4</td>\n",
       "      <td>a</td>\n",
       "      <td>very good</td>\n",
       "    </tr>\n",
       "    <tr>\n",
       "      <th>4</th>\n",
       "      <td>5</td>\n",
       "      <td>a</td>\n",
       "      <td>very good</td>\n",
       "    </tr>\n",
       "    <tr>\n",
       "      <th>5</th>\n",
       "      <td>6</td>\n",
       "      <td>e</td>\n",
       "      <td>very bad</td>\n",
       "    </tr>\n",
       "  </tbody>\n",
       "</table>\n",
       "</div>"
      ],
      "text/plain": [
       "   id raw_grade      grade\n",
       "0   1         a  very good\n",
       "1   2         b       good\n",
       "2   3         b       good\n",
       "3   4         a  very good\n",
       "4   5         a  very good\n",
       "5   6         e   very bad"
      ]
     },
     "execution_count": 86,
     "metadata": {},
     "output_type": "execute_result"
    }
   ],
   "source": [
    "df"
   ]
  },
  {
   "cell_type": "code",
   "execution_count": 88,
   "id": "2692ae72",
   "metadata": {
    "ExecuteTime": {
     "end_time": "2022-04-13T09:38:44.075674Z",
     "start_time": "2022-04-13T09:38:44.069174Z"
    }
   },
   "outputs": [
    {
     "data": {
      "text/plain": [
       "0         NaN\n",
       "1        good\n",
       "2        good\n",
       "3         NaN\n",
       "4         NaN\n",
       "5    very bad\n",
       "Name: grade, dtype: category\n",
       "Categories (5, object): ['very bad', 'bad', 'medium', 'good', 'very godd']"
      ]
     },
     "execution_count": 88,
     "metadata": {},
     "output_type": "execute_result"
    }
   ],
   "source": [
    "df[\"grade\"] = df[\"grade\"].cat.set_categories(\n",
    "        [\"very bad\", \"bad\", \"medium\", \"good\", \"very godd\"]\n",
    ")\n",
    "df[\"grade\"]"
   ]
  },
  {
   "cell_type": "code",
   "execution_count": 90,
   "id": "2c8ea5d5",
   "metadata": {
    "ExecuteTime": {
     "end_time": "2022-04-13T09:39:23.385869Z",
     "start_time": "2022-04-13T09:39:23.374868Z"
    }
   },
   "outputs": [
    {
     "data": {
      "text/html": [
       "<div>\n",
       "<style scoped>\n",
       "    .dataframe tbody tr th:only-of-type {\n",
       "        vertical-align: middle;\n",
       "    }\n",
       "\n",
       "    .dataframe tbody tr th {\n",
       "        vertical-align: top;\n",
       "    }\n",
       "\n",
       "    .dataframe thead th {\n",
       "        text-align: right;\n",
       "    }\n",
       "</style>\n",
       "<table border=\"1\" class=\"dataframe\">\n",
       "  <thead>\n",
       "    <tr style=\"text-align: right;\">\n",
       "      <th></th>\n",
       "      <th>id</th>\n",
       "      <th>raw_grade</th>\n",
       "      <th>grade</th>\n",
       "    </tr>\n",
       "  </thead>\n",
       "  <tbody>\n",
       "    <tr>\n",
       "      <th>5</th>\n",
       "      <td>6</td>\n",
       "      <td>e</td>\n",
       "      <td>very bad</td>\n",
       "    </tr>\n",
       "    <tr>\n",
       "      <th>1</th>\n",
       "      <td>2</td>\n",
       "      <td>b</td>\n",
       "      <td>good</td>\n",
       "    </tr>\n",
       "    <tr>\n",
       "      <th>2</th>\n",
       "      <td>3</td>\n",
       "      <td>b</td>\n",
       "      <td>good</td>\n",
       "    </tr>\n",
       "    <tr>\n",
       "      <th>0</th>\n",
       "      <td>1</td>\n",
       "      <td>a</td>\n",
       "      <td>NaN</td>\n",
       "    </tr>\n",
       "    <tr>\n",
       "      <th>3</th>\n",
       "      <td>4</td>\n",
       "      <td>a</td>\n",
       "      <td>NaN</td>\n",
       "    </tr>\n",
       "    <tr>\n",
       "      <th>4</th>\n",
       "      <td>5</td>\n",
       "      <td>a</td>\n",
       "      <td>NaN</td>\n",
       "    </tr>\n",
       "  </tbody>\n",
       "</table>\n",
       "</div>"
      ],
      "text/plain": [
       "   id raw_grade     grade\n",
       "5   6         e  very bad\n",
       "1   2         b      good\n",
       "2   3         b      good\n",
       "0   1         a       NaN\n",
       "3   4         a       NaN\n",
       "4   5         a       NaN"
      ]
     },
     "execution_count": 90,
     "metadata": {},
     "output_type": "execute_result"
    }
   ],
   "source": [
    "df.sort_values(by = \"grade\")"
   ]
  },
  {
   "cell_type": "code",
   "execution_count": 91,
   "id": "d3f3643e",
   "metadata": {
    "ExecuteTime": {
     "end_time": "2022-04-13T09:39:58.198213Z",
     "start_time": "2022-04-13T09:39:58.191212Z"
    }
   },
   "outputs": [
    {
     "data": {
      "text/plain": [
       "grade\n",
       "very bad     1\n",
       "bad          0\n",
       "medium       0\n",
       "good         2\n",
       "very godd    0\n",
       "dtype: int64"
      ]
     },
     "execution_count": 91,
     "metadata": {},
     "output_type": "execute_result"
    }
   ],
   "source": [
    "df.groupby(\"grade\").size()"
   ]
  },
  {
   "cell_type": "code",
   "execution_count": 94,
   "id": "36c22a1e",
   "metadata": {
    "ExecuteTime": {
     "end_time": "2022-04-13T09:43:18.714216Z",
     "start_time": "2022-04-13T09:43:18.706745Z"
    }
   },
   "outputs": [],
   "source": [
    "ts = pd.Series(np.random.randn(1000), index=pd.date_range(\"1/1/2000\", periods=1000))\n",
    "ts = ts.cumsum()\n",
    "df = pd.DataFrame(\n",
    "    np.random.randn(1000, 4), index=ts.index, columns=[\"A\", \"B\", \"C\", \"D\"])"
   ]
  },
  {
   "cell_type": "code",
   "execution_count": 95,
   "id": "dd061f91",
   "metadata": {
    "ExecuteTime": {
     "end_time": "2022-04-13T09:43:19.040741Z",
     "start_time": "2022-04-13T09:43:19.027712Z"
    }
   },
   "outputs": [
    {
     "data": {
      "text/html": [
       "<div>\n",
       "<style scoped>\n",
       "    .dataframe tbody tr th:only-of-type {\n",
       "        vertical-align: middle;\n",
       "    }\n",
       "\n",
       "    .dataframe tbody tr th {\n",
       "        vertical-align: top;\n",
       "    }\n",
       "\n",
       "    .dataframe thead th {\n",
       "        text-align: right;\n",
       "    }\n",
       "</style>\n",
       "<table border=\"1\" class=\"dataframe\">\n",
       "  <thead>\n",
       "    <tr style=\"text-align: right;\">\n",
       "      <th></th>\n",
       "      <th>A</th>\n",
       "      <th>B</th>\n",
       "      <th>C</th>\n",
       "      <th>D</th>\n",
       "    </tr>\n",
       "  </thead>\n",
       "  <tbody>\n",
       "    <tr>\n",
       "      <th>2000-01-01</th>\n",
       "      <td>1.505938</td>\n",
       "      <td>1.297101</td>\n",
       "      <td>-1.799368</td>\n",
       "      <td>-0.787923</td>\n",
       "    </tr>\n",
       "    <tr>\n",
       "      <th>2000-01-02</th>\n",
       "      <td>1.403883</td>\n",
       "      <td>1.047527</td>\n",
       "      <td>0.556933</td>\n",
       "      <td>0.988298</td>\n",
       "    </tr>\n",
       "    <tr>\n",
       "      <th>2000-01-03</th>\n",
       "      <td>1.536611</td>\n",
       "      <td>-1.204021</td>\n",
       "      <td>0.046499</td>\n",
       "      <td>0.478297</td>\n",
       "    </tr>\n",
       "    <tr>\n",
       "      <th>2000-01-04</th>\n",
       "      <td>-0.055356</td>\n",
       "      <td>0.064605</td>\n",
       "      <td>0.483896</td>\n",
       "      <td>1.124936</td>\n",
       "    </tr>\n",
       "    <tr>\n",
       "      <th>2000-01-05</th>\n",
       "      <td>1.827185</td>\n",
       "      <td>-0.017855</td>\n",
       "      <td>-0.557296</td>\n",
       "      <td>-1.288858</td>\n",
       "    </tr>\n",
       "    <tr>\n",
       "      <th>...</th>\n",
       "      <td>...</td>\n",
       "      <td>...</td>\n",
       "      <td>...</td>\n",
       "      <td>...</td>\n",
       "    </tr>\n",
       "    <tr>\n",
       "      <th>2002-09-22</th>\n",
       "      <td>2.527250</td>\n",
       "      <td>0.524636</td>\n",
       "      <td>-2.012743</td>\n",
       "      <td>0.048905</td>\n",
       "    </tr>\n",
       "    <tr>\n",
       "      <th>2002-09-23</th>\n",
       "      <td>0.842552</td>\n",
       "      <td>-2.117459</td>\n",
       "      <td>0.794136</td>\n",
       "      <td>1.097257</td>\n",
       "    </tr>\n",
       "    <tr>\n",
       "      <th>2002-09-24</th>\n",
       "      <td>0.649829</td>\n",
       "      <td>1.097682</td>\n",
       "      <td>0.400777</td>\n",
       "      <td>-0.579290</td>\n",
       "    </tr>\n",
       "    <tr>\n",
       "      <th>2002-09-25</th>\n",
       "      <td>0.071439</td>\n",
       "      <td>0.783035</td>\n",
       "      <td>-0.024798</td>\n",
       "      <td>1.080846</td>\n",
       "    </tr>\n",
       "    <tr>\n",
       "      <th>2002-09-26</th>\n",
       "      <td>-0.164678</td>\n",
       "      <td>0.893313</td>\n",
       "      <td>-0.448039</td>\n",
       "      <td>0.835042</td>\n",
       "    </tr>\n",
       "  </tbody>\n",
       "</table>\n",
       "<p>1000 rows × 4 columns</p>\n",
       "</div>"
      ],
      "text/plain": [
       "                   A         B         C         D\n",
       "2000-01-01  1.505938  1.297101 -1.799368 -0.787923\n",
       "2000-01-02  1.403883  1.047527  0.556933  0.988298\n",
       "2000-01-03  1.536611 -1.204021  0.046499  0.478297\n",
       "2000-01-04 -0.055356  0.064605  0.483896  1.124936\n",
       "2000-01-05  1.827185 -0.017855 -0.557296 -1.288858\n",
       "...              ...       ...       ...       ...\n",
       "2002-09-22  2.527250  0.524636 -2.012743  0.048905\n",
       "2002-09-23  0.842552 -2.117459  0.794136  1.097257\n",
       "2002-09-24  0.649829  1.097682  0.400777 -0.579290\n",
       "2002-09-25  0.071439  0.783035 -0.024798  1.080846\n",
       "2002-09-26 -0.164678  0.893313 -0.448039  0.835042\n",
       "\n",
       "[1000 rows x 4 columns]"
      ]
     },
     "execution_count": 95,
     "metadata": {},
     "output_type": "execute_result"
    }
   ],
   "source": [
    "df"
   ]
  },
  {
   "cell_type": "code",
   "execution_count": 96,
   "id": "4e0c9207",
   "metadata": {
    "ExecuteTime": {
     "end_time": "2022-04-13T09:43:38.835108Z",
     "start_time": "2022-04-13T09:43:38.819621Z"
    }
   },
   "outputs": [
    {
     "data": {
      "text/html": [
       "<div>\n",
       "<style scoped>\n",
       "    .dataframe tbody tr th:only-of-type {\n",
       "        vertical-align: middle;\n",
       "    }\n",
       "\n",
       "    .dataframe tbody tr th {\n",
       "        vertical-align: top;\n",
       "    }\n",
       "\n",
       "    .dataframe thead th {\n",
       "        text-align: right;\n",
       "    }\n",
       "</style>\n",
       "<table border=\"1\" class=\"dataframe\">\n",
       "  <thead>\n",
       "    <tr style=\"text-align: right;\">\n",
       "      <th></th>\n",
       "      <th>A</th>\n",
       "      <th>B</th>\n",
       "      <th>C</th>\n",
       "      <th>D</th>\n",
       "    </tr>\n",
       "  </thead>\n",
       "  <tbody>\n",
       "    <tr>\n",
       "      <th>2000-01-01</th>\n",
       "      <td>1.505938</td>\n",
       "      <td>1.297101</td>\n",
       "      <td>-1.799368</td>\n",
       "      <td>-0.787923</td>\n",
       "    </tr>\n",
       "    <tr>\n",
       "      <th>2000-01-02</th>\n",
       "      <td>2.909821</td>\n",
       "      <td>2.344628</td>\n",
       "      <td>-1.242435</td>\n",
       "      <td>0.200375</td>\n",
       "    </tr>\n",
       "    <tr>\n",
       "      <th>2000-01-03</th>\n",
       "      <td>4.446432</td>\n",
       "      <td>1.140608</td>\n",
       "      <td>-1.195935</td>\n",
       "      <td>0.678672</td>\n",
       "    </tr>\n",
       "    <tr>\n",
       "      <th>2000-01-04</th>\n",
       "      <td>4.391076</td>\n",
       "      <td>1.205213</td>\n",
       "      <td>-0.712040</td>\n",
       "      <td>1.803608</td>\n",
       "    </tr>\n",
       "    <tr>\n",
       "      <th>2000-01-05</th>\n",
       "      <td>6.218261</td>\n",
       "      <td>1.187357</td>\n",
       "      <td>-1.269336</td>\n",
       "      <td>0.514750</td>\n",
       "    </tr>\n",
       "    <tr>\n",
       "      <th>...</th>\n",
       "      <td>...</td>\n",
       "      <td>...</td>\n",
       "      <td>...</td>\n",
       "      <td>...</td>\n",
       "    </tr>\n",
       "    <tr>\n",
       "      <th>2002-09-22</th>\n",
       "      <td>-18.132549</td>\n",
       "      <td>-55.012413</td>\n",
       "      <td>-52.945863</td>\n",
       "      <td>-20.105767</td>\n",
       "    </tr>\n",
       "    <tr>\n",
       "      <th>2002-09-23</th>\n",
       "      <td>-17.289997</td>\n",
       "      <td>-57.129872</td>\n",
       "      <td>-52.151727</td>\n",
       "      <td>-19.008509</td>\n",
       "    </tr>\n",
       "    <tr>\n",
       "      <th>2002-09-24</th>\n",
       "      <td>-16.640168</td>\n",
       "      <td>-56.032190</td>\n",
       "      <td>-51.750950</td>\n",
       "      <td>-19.587799</td>\n",
       "    </tr>\n",
       "    <tr>\n",
       "      <th>2002-09-25</th>\n",
       "      <td>-16.568729</td>\n",
       "      <td>-55.249155</td>\n",
       "      <td>-51.775747</td>\n",
       "      <td>-18.506953</td>\n",
       "    </tr>\n",
       "    <tr>\n",
       "      <th>2002-09-26</th>\n",
       "      <td>-16.733407</td>\n",
       "      <td>-54.355842</td>\n",
       "      <td>-52.223786</td>\n",
       "      <td>-17.671912</td>\n",
       "    </tr>\n",
       "  </tbody>\n",
       "</table>\n",
       "<p>1000 rows × 4 columns</p>\n",
       "</div>"
      ],
      "text/plain": [
       "                    A          B          C          D\n",
       "2000-01-01   1.505938   1.297101  -1.799368  -0.787923\n",
       "2000-01-02   2.909821   2.344628  -1.242435   0.200375\n",
       "2000-01-03   4.446432   1.140608  -1.195935   0.678672\n",
       "2000-01-04   4.391076   1.205213  -0.712040   1.803608\n",
       "2000-01-05   6.218261   1.187357  -1.269336   0.514750\n",
       "...               ...        ...        ...        ...\n",
       "2002-09-22 -18.132549 -55.012413 -52.945863 -20.105767\n",
       "2002-09-23 -17.289997 -57.129872 -52.151727 -19.008509\n",
       "2002-09-24 -16.640168 -56.032190 -51.750950 -19.587799\n",
       "2002-09-25 -16.568729 -55.249155 -51.775747 -18.506953\n",
       "2002-09-26 -16.733407 -54.355842 -52.223786 -17.671912\n",
       "\n",
       "[1000 rows x 4 columns]"
      ]
     },
     "execution_count": 96,
     "metadata": {},
     "output_type": "execute_result"
    }
   ],
   "source": [
    "df = df.cumsum()\n",
    "df"
   ]
  },
  {
   "cell_type": "code",
   "execution_count": 97,
   "id": "dea0c342",
   "metadata": {
    "ExecuteTime": {
     "end_time": "2022-04-13T09:44:32.695081Z",
     "start_time": "2022-04-13T09:44:32.655081Z"
    }
   },
   "outputs": [
    {
     "data": {
      "text/html": [
       "<div>\n",
       "<style scoped>\n",
       "    .dataframe tbody tr th:only-of-type {\n",
       "        vertical-align: middle;\n",
       "    }\n",
       "\n",
       "    .dataframe tbody tr th {\n",
       "        vertical-align: top;\n",
       "    }\n",
       "\n",
       "    .dataframe thead th {\n",
       "        text-align: right;\n",
       "    }\n",
       "</style>\n",
       "<table border=\"1\" class=\"dataframe\">\n",
       "  <thead>\n",
       "    <tr style=\"text-align: right;\">\n",
       "      <th></th>\n",
       "      <th>Unnamed: 0</th>\n",
       "      <th>A</th>\n",
       "      <th>B</th>\n",
       "      <th>C</th>\n",
       "      <th>D</th>\n",
       "    </tr>\n",
       "  </thead>\n",
       "  <tbody>\n",
       "    <tr>\n",
       "      <th>0</th>\n",
       "      <td>2000-01-01</td>\n",
       "      <td>1.505938</td>\n",
       "      <td>1.297101</td>\n",
       "      <td>-1.799368</td>\n",
       "      <td>-0.787923</td>\n",
       "    </tr>\n",
       "    <tr>\n",
       "      <th>1</th>\n",
       "      <td>2000-01-02</td>\n",
       "      <td>2.909821</td>\n",
       "      <td>2.344628</td>\n",
       "      <td>-1.242435</td>\n",
       "      <td>0.200375</td>\n",
       "    </tr>\n",
       "    <tr>\n",
       "      <th>2</th>\n",
       "      <td>2000-01-03</td>\n",
       "      <td>4.446432</td>\n",
       "      <td>1.140608</td>\n",
       "      <td>-1.195935</td>\n",
       "      <td>0.678672</td>\n",
       "    </tr>\n",
       "    <tr>\n",
       "      <th>3</th>\n",
       "      <td>2000-01-04</td>\n",
       "      <td>4.391076</td>\n",
       "      <td>1.205213</td>\n",
       "      <td>-0.712040</td>\n",
       "      <td>1.803608</td>\n",
       "    </tr>\n",
       "    <tr>\n",
       "      <th>4</th>\n",
       "      <td>2000-01-05</td>\n",
       "      <td>6.218261</td>\n",
       "      <td>1.187357</td>\n",
       "      <td>-1.269336</td>\n",
       "      <td>0.514750</td>\n",
       "    </tr>\n",
       "    <tr>\n",
       "      <th>...</th>\n",
       "      <td>...</td>\n",
       "      <td>...</td>\n",
       "      <td>...</td>\n",
       "      <td>...</td>\n",
       "      <td>...</td>\n",
       "    </tr>\n",
       "    <tr>\n",
       "      <th>995</th>\n",
       "      <td>2002-09-22</td>\n",
       "      <td>-18.132549</td>\n",
       "      <td>-55.012413</td>\n",
       "      <td>-52.945863</td>\n",
       "      <td>-20.105767</td>\n",
       "    </tr>\n",
       "    <tr>\n",
       "      <th>996</th>\n",
       "      <td>2002-09-23</td>\n",
       "      <td>-17.289997</td>\n",
       "      <td>-57.129872</td>\n",
       "      <td>-52.151727</td>\n",
       "      <td>-19.008509</td>\n",
       "    </tr>\n",
       "    <tr>\n",
       "      <th>997</th>\n",
       "      <td>2002-09-24</td>\n",
       "      <td>-16.640168</td>\n",
       "      <td>-56.032190</td>\n",
       "      <td>-51.750950</td>\n",
       "      <td>-19.587799</td>\n",
       "    </tr>\n",
       "    <tr>\n",
       "      <th>998</th>\n",
       "      <td>2002-09-25</td>\n",
       "      <td>-16.568729</td>\n",
       "      <td>-55.249155</td>\n",
       "      <td>-51.775747</td>\n",
       "      <td>-18.506953</td>\n",
       "    </tr>\n",
       "    <tr>\n",
       "      <th>999</th>\n",
       "      <td>2002-09-26</td>\n",
       "      <td>-16.733407</td>\n",
       "      <td>-54.355842</td>\n",
       "      <td>-52.223786</td>\n",
       "      <td>-17.671912</td>\n",
       "    </tr>\n",
       "  </tbody>\n",
       "</table>\n",
       "<p>1000 rows × 5 columns</p>\n",
       "</div>"
      ],
      "text/plain": [
       "     Unnamed: 0          A          B          C          D\n",
       "0    2000-01-01   1.505938   1.297101  -1.799368  -0.787923\n",
       "1    2000-01-02   2.909821   2.344628  -1.242435   0.200375\n",
       "2    2000-01-03   4.446432   1.140608  -1.195935   0.678672\n",
       "3    2000-01-04   4.391076   1.205213  -0.712040   1.803608\n",
       "4    2000-01-05   6.218261   1.187357  -1.269336   0.514750\n",
       "..          ...        ...        ...        ...        ...\n",
       "995  2002-09-22 -18.132549 -55.012413 -52.945863 -20.105767\n",
       "996  2002-09-23 -17.289997 -57.129872 -52.151727 -19.008509\n",
       "997  2002-09-24 -16.640168 -56.032190 -51.750950 -19.587799\n",
       "998  2002-09-25 -16.568729 -55.249155 -51.775747 -18.506953\n",
       "999  2002-09-26 -16.733407 -54.355842 -52.223786 -17.671912\n",
       "\n",
       "[1000 rows x 5 columns]"
      ]
     },
     "execution_count": 97,
     "metadata": {},
     "output_type": "execute_result"
    }
   ],
   "source": [
    "df.to_csv(\"foo.csv\")\n",
    "pd.read_csv(\"foo.csv\")"
   ]
  },
  {
   "cell_type": "code",
   "execution_count": 98,
   "id": "ed85a337",
   "metadata": {
    "ExecuteTime": {
     "end_time": "2022-04-13T09:45:43.521054Z",
     "start_time": "2022-04-13T09:45:42.773871Z"
    }
   },
   "outputs": [
    {
     "data": {
      "text/html": [
       "<div>\n",
       "<style scoped>\n",
       "    .dataframe tbody tr th:only-of-type {\n",
       "        vertical-align: middle;\n",
       "    }\n",
       "\n",
       "    .dataframe tbody tr th {\n",
       "        vertical-align: top;\n",
       "    }\n",
       "\n",
       "    .dataframe thead th {\n",
       "        text-align: right;\n",
       "    }\n",
       "</style>\n",
       "<table border=\"1\" class=\"dataframe\">\n",
       "  <thead>\n",
       "    <tr style=\"text-align: right;\">\n",
       "      <th></th>\n",
       "      <th>A</th>\n",
       "      <th>B</th>\n",
       "      <th>C</th>\n",
       "      <th>D</th>\n",
       "    </tr>\n",
       "  </thead>\n",
       "  <tbody>\n",
       "    <tr>\n",
       "      <th>2000-01-01</th>\n",
       "      <td>1.505938</td>\n",
       "      <td>1.297101</td>\n",
       "      <td>-1.799368</td>\n",
       "      <td>-0.787923</td>\n",
       "    </tr>\n",
       "    <tr>\n",
       "      <th>2000-01-02</th>\n",
       "      <td>2.909821</td>\n",
       "      <td>2.344628</td>\n",
       "      <td>-1.242435</td>\n",
       "      <td>0.200375</td>\n",
       "    </tr>\n",
       "    <tr>\n",
       "      <th>2000-01-03</th>\n",
       "      <td>4.446432</td>\n",
       "      <td>1.140608</td>\n",
       "      <td>-1.195935</td>\n",
       "      <td>0.678672</td>\n",
       "    </tr>\n",
       "    <tr>\n",
       "      <th>2000-01-04</th>\n",
       "      <td>4.391076</td>\n",
       "      <td>1.205213</td>\n",
       "      <td>-0.712040</td>\n",
       "      <td>1.803608</td>\n",
       "    </tr>\n",
       "    <tr>\n",
       "      <th>2000-01-05</th>\n",
       "      <td>6.218261</td>\n",
       "      <td>1.187357</td>\n",
       "      <td>-1.269336</td>\n",
       "      <td>0.514750</td>\n",
       "    </tr>\n",
       "    <tr>\n",
       "      <th>...</th>\n",
       "      <td>...</td>\n",
       "      <td>...</td>\n",
       "      <td>...</td>\n",
       "      <td>...</td>\n",
       "    </tr>\n",
       "    <tr>\n",
       "      <th>2002-09-22</th>\n",
       "      <td>-18.132549</td>\n",
       "      <td>-55.012413</td>\n",
       "      <td>-52.945863</td>\n",
       "      <td>-20.105767</td>\n",
       "    </tr>\n",
       "    <tr>\n",
       "      <th>2002-09-23</th>\n",
       "      <td>-17.289997</td>\n",
       "      <td>-57.129872</td>\n",
       "      <td>-52.151727</td>\n",
       "      <td>-19.008509</td>\n",
       "    </tr>\n",
       "    <tr>\n",
       "      <th>2002-09-24</th>\n",
       "      <td>-16.640168</td>\n",
       "      <td>-56.032190</td>\n",
       "      <td>-51.750950</td>\n",
       "      <td>-19.587799</td>\n",
       "    </tr>\n",
       "    <tr>\n",
       "      <th>2002-09-25</th>\n",
       "      <td>-16.568729</td>\n",
       "      <td>-55.249155</td>\n",
       "      <td>-51.775747</td>\n",
       "      <td>-18.506953</td>\n",
       "    </tr>\n",
       "    <tr>\n",
       "      <th>2002-09-26</th>\n",
       "      <td>-16.733407</td>\n",
       "      <td>-54.355842</td>\n",
       "      <td>-52.223786</td>\n",
       "      <td>-17.671912</td>\n",
       "    </tr>\n",
       "  </tbody>\n",
       "</table>\n",
       "<p>1000 rows × 4 columns</p>\n",
       "</div>"
      ],
      "text/plain": [
       "                    A          B          C          D\n",
       "2000-01-01   1.505938   1.297101  -1.799368  -0.787923\n",
       "2000-01-02   2.909821   2.344628  -1.242435   0.200375\n",
       "2000-01-03   4.446432   1.140608  -1.195935   0.678672\n",
       "2000-01-04   4.391076   1.205213  -0.712040   1.803608\n",
       "2000-01-05   6.218261   1.187357  -1.269336   0.514750\n",
       "...               ...        ...        ...        ...\n",
       "2002-09-22 -18.132549 -55.012413 -52.945863 -20.105767\n",
       "2002-09-23 -17.289997 -57.129872 -52.151727 -19.008509\n",
       "2002-09-24 -16.640168 -56.032190 -51.750950 -19.587799\n",
       "2002-09-25 -16.568729 -55.249155 -51.775747 -18.506953\n",
       "2002-09-26 -16.733407 -54.355842 -52.223786 -17.671912\n",
       "\n",
       "[1000 rows x 4 columns]"
      ]
     },
     "execution_count": 98,
     "metadata": {},
     "output_type": "execute_result"
    }
   ],
   "source": [
    "df.to_hdf(\"foo.h5\", \"df\")\n",
    "pd.read_hdf(\"foo.h5\", \"df\")"
   ]
  },
  {
   "cell_type": "code",
   "execution_count": 99,
   "id": "2ee19b1d",
   "metadata": {
    "ExecuteTime": {
     "end_time": "2022-04-13T09:46:32.424828Z",
     "start_time": "2022-04-13T09:46:32.239165Z"
    }
   },
   "outputs": [],
   "source": [
    "df.to_excel(\"foo.xlsx\", sheet_name=\"sheet1\")"
   ]
  },
  {
   "cell_type": "code",
   "execution_count": 100,
   "id": "3a1495c5",
   "metadata": {
    "ExecuteTime": {
     "end_time": "2022-04-13T09:47:29.485826Z",
     "start_time": "2022-04-13T09:47:28.919256Z"
    }
   },
   "outputs": [
    {
     "data": {
      "text/html": [
       "<div>\n",
       "<style scoped>\n",
       "    .dataframe tbody tr th:only-of-type {\n",
       "        vertical-align: middle;\n",
       "    }\n",
       "\n",
       "    .dataframe tbody tr th {\n",
       "        vertical-align: top;\n",
       "    }\n",
       "\n",
       "    .dataframe thead th {\n",
       "        text-align: right;\n",
       "    }\n",
       "</style>\n",
       "<table border=\"1\" class=\"dataframe\">\n",
       "  <thead>\n",
       "    <tr style=\"text-align: right;\">\n",
       "      <th></th>\n",
       "      <th>Unnamed: 0</th>\n",
       "      <th>A</th>\n",
       "      <th>B</th>\n",
       "      <th>C</th>\n",
       "      <th>D</th>\n",
       "    </tr>\n",
       "  </thead>\n",
       "  <tbody>\n",
       "    <tr>\n",
       "      <th>0</th>\n",
       "      <td>2000-01-01</td>\n",
       "      <td>1.505938</td>\n",
       "      <td>1.297101</td>\n",
       "      <td>-1.799368</td>\n",
       "      <td>-0.787923</td>\n",
       "    </tr>\n",
       "    <tr>\n",
       "      <th>1</th>\n",
       "      <td>2000-01-02</td>\n",
       "      <td>2.909821</td>\n",
       "      <td>2.344628</td>\n",
       "      <td>-1.242435</td>\n",
       "      <td>0.200375</td>\n",
       "    </tr>\n",
       "    <tr>\n",
       "      <th>2</th>\n",
       "      <td>2000-01-03</td>\n",
       "      <td>4.446432</td>\n",
       "      <td>1.140608</td>\n",
       "      <td>-1.195935</td>\n",
       "      <td>0.678672</td>\n",
       "    </tr>\n",
       "    <tr>\n",
       "      <th>3</th>\n",
       "      <td>2000-01-04</td>\n",
       "      <td>4.391076</td>\n",
       "      <td>1.205213</td>\n",
       "      <td>-0.712040</td>\n",
       "      <td>1.803608</td>\n",
       "    </tr>\n",
       "    <tr>\n",
       "      <th>4</th>\n",
       "      <td>2000-01-05</td>\n",
       "      <td>6.218261</td>\n",
       "      <td>1.187357</td>\n",
       "      <td>-1.269336</td>\n",
       "      <td>0.514750</td>\n",
       "    </tr>\n",
       "    <tr>\n",
       "      <th>...</th>\n",
       "      <td>...</td>\n",
       "      <td>...</td>\n",
       "      <td>...</td>\n",
       "      <td>...</td>\n",
       "      <td>...</td>\n",
       "    </tr>\n",
       "    <tr>\n",
       "      <th>995</th>\n",
       "      <td>2002-09-22</td>\n",
       "      <td>-18.132549</td>\n",
       "      <td>-55.012413</td>\n",
       "      <td>-52.945863</td>\n",
       "      <td>-20.105767</td>\n",
       "    </tr>\n",
       "    <tr>\n",
       "      <th>996</th>\n",
       "      <td>2002-09-23</td>\n",
       "      <td>-17.289997</td>\n",
       "      <td>-57.129872</td>\n",
       "      <td>-52.151727</td>\n",
       "      <td>-19.008509</td>\n",
       "    </tr>\n",
       "    <tr>\n",
       "      <th>997</th>\n",
       "      <td>2002-09-24</td>\n",
       "      <td>-16.640168</td>\n",
       "      <td>-56.032190</td>\n",
       "      <td>-51.750950</td>\n",
       "      <td>-19.587799</td>\n",
       "    </tr>\n",
       "    <tr>\n",
       "      <th>998</th>\n",
       "      <td>2002-09-25</td>\n",
       "      <td>-16.568729</td>\n",
       "      <td>-55.249155</td>\n",
       "      <td>-51.775747</td>\n",
       "      <td>-18.506953</td>\n",
       "    </tr>\n",
       "    <tr>\n",
       "      <th>999</th>\n",
       "      <td>2002-09-26</td>\n",
       "      <td>-16.733407</td>\n",
       "      <td>-54.355842</td>\n",
       "      <td>-52.223786</td>\n",
       "      <td>-17.671912</td>\n",
       "    </tr>\n",
       "  </tbody>\n",
       "</table>\n",
       "<p>1000 rows × 5 columns</p>\n",
       "</div>"
      ],
      "text/plain": [
       "    Unnamed: 0          A          B          C          D\n",
       "0   2000-01-01   1.505938   1.297101  -1.799368  -0.787923\n",
       "1   2000-01-02   2.909821   2.344628  -1.242435   0.200375\n",
       "2   2000-01-03   4.446432   1.140608  -1.195935   0.678672\n",
       "3   2000-01-04   4.391076   1.205213  -0.712040   1.803608\n",
       "4   2000-01-05   6.218261   1.187357  -1.269336   0.514750\n",
       "..         ...        ...        ...        ...        ...\n",
       "995 2002-09-22 -18.132549 -55.012413 -52.945863 -20.105767\n",
       "996 2002-09-23 -17.289997 -57.129872 -52.151727 -19.008509\n",
       "997 2002-09-24 -16.640168 -56.032190 -51.750950 -19.587799\n",
       "998 2002-09-25 -16.568729 -55.249155 -51.775747 -18.506953\n",
       "999 2002-09-26 -16.733407 -54.355842 -52.223786 -17.671912\n",
       "\n",
       "[1000 rows x 5 columns]"
      ]
     },
     "execution_count": 100,
     "metadata": {},
     "output_type": "execute_result"
    }
   ],
   "source": [
    "pd.read_excel(\"foo.xlsx\", \"sheet1\", index_col=None, na_values=[\"NA\"])"
   ]
  },
  {
   "cell_type": "code",
   "execution_count": 6,
   "id": "8aa4c2e1",
   "metadata": {
    "ExecuteTime": {
     "end_time": "2022-04-13T10:18:31.390125Z",
     "start_time": "2022-04-13T10:18:31.383637Z"
    }
   },
   "outputs": [
    {
     "data": {
      "text/plain": [
       "a    2.391602\n",
       "b   -1.915499\n",
       "c    0.898386\n",
       "d   -0.807245\n",
       "e    0.223235\n",
       "dtype: float64"
      ]
     },
     "execution_count": 6,
     "metadata": {},
     "output_type": "execute_result"
    }
   ],
   "source": [
    "s = pd.Series(np.random.randn(5), index=[\"a\", \"b\", \"c\", \"d\", \"e\"])\n",
    "s"
   ]
  },
  {
   "cell_type": "code",
   "execution_count": 7,
   "id": "9e1b9083",
   "metadata": {
    "ExecuteTime": {
     "end_time": "2022-04-13T10:18:31.882278Z",
     "start_time": "2022-04-13T10:18:31.878277Z"
    }
   },
   "outputs": [
    {
     "data": {
      "text/plain": [
       "Index(['a', 'b', 'c', 'd', 'e'], dtype='object')"
      ]
     },
     "execution_count": 7,
     "metadata": {},
     "output_type": "execute_result"
    }
   ],
   "source": [
    "s.index"
   ]
  },
  {
   "cell_type": "code",
   "execution_count": 103,
   "id": "7d5e39df",
   "metadata": {
    "ExecuteTime": {
     "end_time": "2022-04-13T09:56:21.073443Z",
     "start_time": "2022-04-13T09:56:21.067440Z"
    }
   },
   "outputs": [
    {
     "data": {
      "text/plain": [
       "0   -0.200483\n",
       "1    0.997108\n",
       "2   -0.312030\n",
       "3    0.344857\n",
       "4   -1.054807\n",
       "dtype: float64"
      ]
     },
     "execution_count": 103,
     "metadata": {},
     "output_type": "execute_result"
    }
   ],
   "source": [
    "pd.Series(np.random.randn(5))"
   ]
  },
  {
   "cell_type": "code",
   "execution_count": 2,
   "id": "46b44f60",
   "metadata": {
    "ExecuteTime": {
     "end_time": "2022-04-13T10:13:28.042512Z",
     "start_time": "2022-04-13T10:13:28.031031Z"
    }
   },
   "outputs": [
    {
     "data": {
      "text/plain": [
       "b    1\n",
       "a    0\n",
       "c    2\n",
       "dtype: int64"
      ]
     },
     "execution_count": 2,
     "metadata": {},
     "output_type": "execute_result"
    }
   ],
   "source": [
    "d = {\"b\":1, \"a\":0, \"c\":2}\n",
    "pd.Series(d)"
   ]
  },
  {
   "cell_type": "code",
   "execution_count": 3,
   "id": "d236ead5",
   "metadata": {
    "ExecuteTime": {
     "end_time": "2022-04-13T10:15:34.550059Z",
     "start_time": "2022-04-13T10:15:34.543061Z"
    }
   },
   "outputs": [
    {
     "data": {
      "text/plain": [
       "a    0.0\n",
       "b    1.0\n",
       "c    2.0\n",
       "dtype: float64"
      ]
     },
     "execution_count": 3,
     "metadata": {},
     "output_type": "execute_result"
    }
   ],
   "source": [
    "d = {\"a\":0.0, \"b\":1.0, \"c\":2.0}\n",
    "pd.Series(d)"
   ]
  },
  {
   "cell_type": "code",
   "execution_count": 4,
   "id": "1633e719",
   "metadata": {
    "ExecuteTime": {
     "end_time": "2022-04-13T10:16:09.377471Z",
     "start_time": "2022-04-13T10:16:09.370470Z"
    }
   },
   "outputs": [
    {
     "data": {
      "text/plain": [
       "b    1.0\n",
       "c    2.0\n",
       "d    NaN\n",
       "a    0.0\n",
       "dtype: float64"
      ]
     },
     "execution_count": 4,
     "metadata": {},
     "output_type": "execute_result"
    }
   ],
   "source": [
    "pd.Series(d, index=[\"b\", \"c\", \"d\", \"a\"])"
   ]
  },
  {
   "cell_type": "code",
   "execution_count": 5,
   "id": "c5eb94e7",
   "metadata": {
    "ExecuteTime": {
     "end_time": "2022-04-13T10:17:24.370128Z",
     "start_time": "2022-04-13T10:17:24.364128Z"
    }
   },
   "outputs": [
    {
     "data": {
      "text/plain": [
       "a    5.0\n",
       "b    5.0\n",
       "c    5.0\n",
       "d    5.0\n",
       "e    5.0\n",
       "dtype: float64"
      ]
     },
     "execution_count": 5,
     "metadata": {},
     "output_type": "execute_result"
    }
   ],
   "source": [
    "pd.Series(5.0, index=[\"a\", \"b\", \"c\", \"d\", \"e\"])"
   ]
  },
  {
   "cell_type": "code",
   "execution_count": 8,
   "id": "3f0af557",
   "metadata": {
    "ExecuteTime": {
     "end_time": "2022-04-13T10:18:52.513477Z",
     "start_time": "2022-04-13T10:18:52.508492Z"
    }
   },
   "outputs": [
    {
     "data": {
      "text/plain": [
       "2.3916020590109497"
      ]
     },
     "execution_count": 8,
     "metadata": {},
     "output_type": "execute_result"
    }
   ],
   "source": [
    "s[0]"
   ]
  },
  {
   "cell_type": "code",
   "execution_count": 9,
   "id": "6e6b6ec4",
   "metadata": {
    "ExecuteTime": {
     "end_time": "2022-04-13T10:19:04.485256Z",
     "start_time": "2022-04-13T10:19:04.478256Z"
    }
   },
   "outputs": [
    {
     "data": {
      "text/plain": [
       "a    2.391602\n",
       "b   -1.915499\n",
       "c    0.898386\n",
       "dtype: float64"
      ]
     },
     "execution_count": 9,
     "metadata": {},
     "output_type": "execute_result"
    }
   ],
   "source": [
    "s[:3]"
   ]
  },
  {
   "cell_type": "code",
   "execution_count": 10,
   "id": "c8322b40",
   "metadata": {
    "ExecuteTime": {
     "end_time": "2022-04-13T10:19:30.332986Z",
     "start_time": "2022-04-13T10:19:30.302965Z"
    }
   },
   "outputs": [
    {
     "data": {
      "text/plain": [
       "a    2.391602\n",
       "c    0.898386\n",
       "dtype: float64"
      ]
     },
     "execution_count": 10,
     "metadata": {},
     "output_type": "execute_result"
    }
   ],
   "source": [
    "s[s > s.median()]"
   ]
  },
  {
   "cell_type": "code",
   "execution_count": 11,
   "id": "c559a2ee",
   "metadata": {
    "ExecuteTime": {
     "end_time": "2022-04-13T10:20:06.608662Z",
     "start_time": "2022-04-13T10:20:06.601654Z"
    }
   },
   "outputs": [
    {
     "data": {
      "text/plain": [
       "e    0.223235\n",
       "d   -0.807245\n",
       "b   -1.915499\n",
       "dtype: float64"
      ]
     },
     "execution_count": 11,
     "metadata": {},
     "output_type": "execute_result"
    }
   ],
   "source": [
    "s[[4, 3, 1]]"
   ]
  },
  {
   "cell_type": "code",
   "execution_count": 12,
   "id": "6e56e378",
   "metadata": {
    "ExecuteTime": {
     "end_time": "2022-04-13T10:20:19.442820Z",
     "start_time": "2022-04-13T10:20:19.435818Z"
    }
   },
   "outputs": [
    {
     "data": {
      "text/plain": [
       "a    10.930992\n",
       "b     0.147268\n",
       "c     2.455638\n",
       "d     0.446085\n",
       "e     1.250115\n",
       "dtype: float64"
      ]
     },
     "execution_count": 12,
     "metadata": {},
     "output_type": "execute_result"
    }
   ],
   "source": [
    "np.exp(s)"
   ]
  },
  {
   "cell_type": "code",
   "execution_count": 14,
   "id": "bda06b66",
   "metadata": {
    "ExecuteTime": {
     "end_time": "2022-04-13T10:21:23.024585Z",
     "start_time": "2022-04-13T10:21:23.020592Z"
    }
   },
   "outputs": [
    {
     "data": {
      "text/plain": [
       "dtype('float64')"
      ]
     },
     "execution_count": 14,
     "metadata": {},
     "output_type": "execute_result"
    }
   ],
   "source": [
    "s.dtype"
   ]
  },
  {
   "cell_type": "code",
   "execution_count": 15,
   "id": "b0701a10",
   "metadata": {
    "ExecuteTime": {
     "end_time": "2022-04-13T10:21:36.481676Z",
     "start_time": "2022-04-13T10:21:36.477172Z"
    }
   },
   "outputs": [
    {
     "data": {
      "text/plain": [
       "<PandasArray>\n",
       "[ 2.3916020590109497, -1.9154988874598218,  0.8983864917059566,\n",
       "  -0.807245317582255, 0.22323533087162073]\n",
       "Length: 5, dtype: float64"
      ]
     },
     "execution_count": 15,
     "metadata": {},
     "output_type": "execute_result"
    }
   ],
   "source": [
    "s.array"
   ]
  },
  {
   "cell_type": "code",
   "execution_count": 16,
   "id": "ba41d6de",
   "metadata": {
    "ExecuteTime": {
     "end_time": "2022-04-13T10:21:59.631772Z",
     "start_time": "2022-04-13T10:21:59.625271Z"
    }
   },
   "outputs": [
    {
     "data": {
      "text/plain": [
       "array([ 2.39160206, -1.91549889,  0.89838649, -0.80724532,  0.22323533])"
      ]
     },
     "execution_count": 16,
     "metadata": {},
     "output_type": "execute_result"
    }
   ],
   "source": [
    "s.to_numpy()"
   ]
  },
  {
   "cell_type": "code",
   "execution_count": null,
   "id": "8e5d2ca0",
   "metadata": {},
   "outputs": [],
   "source": []
  }
 ],
 "metadata": {
  "kernelspec": {
   "display_name": "Python 3",
   "language": "python",
   "name": "python3"
  },
  "language_info": {
   "codemirror_mode": {
    "name": "ipython",
    "version": 3
   },
   "file_extension": ".py",
   "mimetype": "text/x-python",
   "name": "python",
   "nbconvert_exporter": "python",
   "pygments_lexer": "ipython3",
   "version": "3.8.8"
  },
  "toc": {
   "base_numbering": 1,
   "nav_menu": {},
   "number_sections": true,
   "sideBar": true,
   "skip_h1_title": false,
   "title_cell": "Table of Contents",
   "title_sidebar": "Contents",
   "toc_cell": false,
   "toc_position": {},
   "toc_section_display": true,
   "toc_window_display": false
  },
  "varInspector": {
   "cols": {
    "lenName": 16,
    "lenType": 16,
    "lenVar": 40
   },
   "kernels_config": {
    "python": {
     "delete_cmd_postfix": "",
     "delete_cmd_prefix": "del ",
     "library": "var_list.py",
     "varRefreshCmd": "print(var_dic_list())"
    },
    "r": {
     "delete_cmd_postfix": ") ",
     "delete_cmd_prefix": "rm(",
     "library": "var_list.r",
     "varRefreshCmd": "cat(var_dic_list()) "
    }
   },
   "types_to_exclude": [
    "module",
    "function",
    "builtin_function_or_method",
    "instance",
    "_Feature"
   ],
   "window_display": false
  }
 },
 "nbformat": 4,
 "nbformat_minor": 5
}
