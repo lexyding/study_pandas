{
 "cells": [
  {
   "cell_type": "markdown",
   "id": "63cd8e85",
   "metadata": {},
   "source": [
    "1. 连接数据库\n",
    "2. 读取sql文件夹\n",
    "3. 运行sql\n",
    "4. 存储结果\n",
    "5. 连接邮箱\n",
    "6. 发送邮件"
   ]
  },
  {
   "cell_type": "code",
   "execution_count": 1,
   "id": "0647ab32",
   "metadata": {
    "ExecuteTime": {
     "end_time": "2022-04-29T09:42:38.559626Z",
     "start_time": "2022-04-29T09:42:37.956652Z"
    }
   },
   "outputs": [],
   "source": [
    "import os\n",
    "import pandas as pd\n",
    "import numpy as np\n",
    "import pymysql"
   ]
  },
  {
   "cell_type": "code",
   "execution_count": null,
   "id": "63d10737",
   "metadata": {},
   "outputs": [],
   "source": [
    "class AutoEmail:\n",
    "    def __init__(self, path, host, user, password, database):\n",
    "        self.path = path\n",
    "        self.host = host\n",
    "        self.user = user\n",
    "        self.password = password\n",
    "        self.database = database\n",
    "        \n",
    "    def get_cursor():\n",
    "        connection = pymysql.connect(host=self.host, \n",
    "                                     user=self.user, \n",
    "                                     password=self.password,\n",
    "                                     database=self.database\n",
    "                                    )\n",
    "        \n",
    "        cursor = connetion.cursor()\n",
    "        \n",
    "        return cursor\n",
    "    \n",
    "    def get_path():\n",
    "        pwd_path = os.getcwd()\n",
    "        pwd_path = os.path.join(pwd_path, \"sqls\")\n",
    "        \n",
    "        sqls_path = []\n",
    "        for root, dirs, files in os.walk(pwd_path):\n",
    "                files = files\n",
    "\n",
    "        for files in files:\n",
    "            sql_path = os.path.join(pwd_path, files)\n",
    "            sqls_path.append(sql_path)\n",
    "        \n",
    "        return sqls_path                \n",
    "        \n",
    "    def get_sqls(self):\n",
    "        sqls = []\n",
    "        for sql in sqls_path:\n",
    "            sql = pd.read_sql(sql, get_cursor.cursor)\n",
    "            sqls.append(sql)\n",
    "        \n",
    "        return sqls\n",
    "            "
   ]
  }
 ],
 "metadata": {
  "kernelspec": {
   "display_name": "Python 3",
   "language": "python",
   "name": "python3"
  },
  "language_info": {
   "codemirror_mode": {
    "name": "ipython",
    "version": 3
   },
   "file_extension": ".py",
   "mimetype": "text/x-python",
   "name": "python",
   "nbconvert_exporter": "python",
   "pygments_lexer": "ipython3",
   "version": "3.8.8"
  },
  "toc": {
   "base_numbering": 1,
   "nav_menu": {},
   "number_sections": true,
   "sideBar": true,
   "skip_h1_title": false,
   "title_cell": "Table of Contents",
   "title_sidebar": "Contents",
   "toc_cell": false,
   "toc_position": {},
   "toc_section_display": true,
   "toc_window_display": false
  },
  "varInspector": {
   "cols": {
    "lenName": 16,
    "lenType": 16,
    "lenVar": 40
   },
   "kernels_config": {
    "python": {
     "delete_cmd_postfix": "",
     "delete_cmd_prefix": "del ",
     "library": "var_list.py",
     "varRefreshCmd": "print(var_dic_list())"
    },
    "r": {
     "delete_cmd_postfix": ") ",
     "delete_cmd_prefix": "rm(",
     "library": "var_list.r",
     "varRefreshCmd": "cat(var_dic_list()) "
    }
   },
   "types_to_exclude": [
    "module",
    "function",
    "builtin_function_or_method",
    "instance",
    "_Feature"
   ],
   "window_display": false
  }
 },
 "nbformat": 4,
 "nbformat_minor": 5
}
