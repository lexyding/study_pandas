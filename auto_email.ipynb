{
 "cells": [
  {
   "cell_type": "markdown",
   "id": "9736fde6",
   "metadata": {},
   "source": [
    "1. 连接数据库\n",
    "2. 读取sql文件夹\n",
    "3. 运行sql\n",
    "4. 存储结果\n",
    "5. 连接邮箱\n",
    "6. 发送邮件"
   ]
  },
  {
   "cell_type": "code",
   "execution_count": 1,
   "id": "fe53c62f",
   "metadata": {
    "ExecuteTime": {
     "end_time": "2022-05-16T04:28:31.741983Z",
     "start_time": "2022-05-16T04:28:31.478973Z"
    }
   },
   "outputs": [],
   "source": [
    "import os\n",
    "import pandas as pd\n",
    "import numpy as np\n",
    "import pymysql"
   ]
  },
  {
   "cell_type": "code",
   "execution_count": 113,
   "id": "841bc18e",
   "metadata": {
    "ExecuteTime": {
     "end_time": "2022-05-16T05:49:39.100451Z",
     "start_time": "2022-05-16T05:49:39.084464Z"
    },
    "code_folding": []
   },
   "outputs": [],
   "source": [
    "class AutoEmail:\n",
    "    def __init__(self, path, host, user, password, database, port):\n",
    "        self.path = path\n",
    "        self.host = host\n",
    "        self.user = user\n",
    "        self.password = password\n",
    "        self.database = database\n",
    "        self.port=port\n",
    "        \n",
    "    def get_cursor(self):\n",
    "        connection = pymysql.connect(host=self.host, \n",
    "                                     user=self.user, \n",
    "                                     password=self.password,\n",
    "                                     database=self.database, \n",
    "                                     port=self.port\n",
    "                                    )\n",
    "        \n",
    "        cursor = connection.cursor()\n",
    "        \n",
    "        return connection\n",
    "    \n",
    "    \n",
    "    def get_path(self):\n",
    "        pwd_path = os.getcwd()\n",
    "        pwd_path = os.path.join(pwd_path, \"sqls\")\n",
    "        \n",
    "        sqls_path = []\n",
    "        for root, dirs, files in os.walk(pwd_path):\n",
    "                files = files\n",
    "\n",
    "        for files in files:\n",
    "            sql_path = os.path.join(pwd_path, files)\n",
    "            sqls_path.append(sql_path)\n",
    "            \n",
    "#         print(sqls_path)\n",
    "        return sqls_path                \n",
    "        \n",
    "    def get_data(self):\n",
    "        sqls_path = self.get_path()\n",
    "        connection = self.get_cursor()\n",
    "        for sql in sqls_path:\n",
    "            with open(sql, \"r\", encoding='UTF-8')as f:\n",
    "                res = f.read()\n",
    "#                 print(res)\n",
    "                    \n",
    "        data = pd.read_sql(res, connection)\n",
    "        return data\n",
    "    \n",
    "    def data_pivot(self):\n",
    "        data = self.get_data()\n",
    "        data_pivot = data.pivot_table(data, index=['f_serveridofevent', 'country', 'first_date'], \n",
    "                              columns=['retention_day'],aggfunc={'uid':len})\n",
    "        data_pivot = data_pivot.droplevel(axis=1, level=0).reset_index()\n",
    "        \n",
    "        data_pivot = data_pivot.iloc[:,[0, 1, 2, 3, 4, 5, 6, 7, 8, 9,16]]\n",
    "        \n",
    "        for index in [1, 2, 3, 4, 5, 6,13]:\n",
    "#           fill 0\n",
    "            data_pivot[\"retention_date{}\".format(index)] = data_pivot['first_date']+pd.Timedelta(days=index)\n",
    "            data_pivot[\"data{}\".format(index)] = [0 if i < pd.Timestamp('2022-05-15') else np.nan for i in data_pivot[\"retention_date{}\".format(index)]]\n",
    "            data_pivot[index].fillna(value=data_pivot[\"data{}\".format(index)], inplace=True)\n",
    "#           get day 0s users\n",
    "            data_pivot[\"0_{}\".format(index)]=[0 if pd.isna(i) else np.nan for i in data_pivot[index]]\n",
    "            data_pivot[\"0_{}\".format(index)].fillna(data_pivot[0], inplace=True)\n",
    "        \n",
    "#       groupby \n",
    "        data_groupby = data_pivot.groupby(by=['f_serveridofevent', 'country']).sum()\n",
    "        data_groupby.reset_index(inplace=True)\n",
    "\n",
    "#           rentention_rate            \n",
    "        for index in [1, 2, 3, 4, 5, 6,13]:\n",
    "            data_groupby[\"day{}\".format(index)] = data_groupby[index]/data_groupby[\"0_{}\".format(index)]\n",
    "        \n",
    "        data1 = data_groupby.loc[:,['f_serveridofevent', 'country', 0, 'day1', 'day2', 'day3', 'day4', 'day5', 'day6', 'day13']]\n",
    "        data1.rename(columns={0:'day0'}, inplace=True)\n",
    "        data1['user_percent'] = data1['day0']/data1.groupby(by=['f_serveridofevent'])['day0'].transform('sum')\n",
    "        \n",
    "        data2 = data\n",
    "        data2['pay_user'] = data2['price'].apply(lambda x: 1 if x>0 else 0)\n",
    "        data2 = data2.groupby(by=['f_serveridofevent', 'country'])['price', 'pay_user'].sum().reset_index()\n",
    "        \n",
    "        data_merge = data2.merge(data1, on=['f_serveridofevent', 'country'], how='left')\n",
    "        \n",
    "        data_merge['pay_rate'] = data_merge['pay_user']/data_merge['day0']\n",
    "        data_merge['arppu'] = data_merge['price']/data_merge['pay_user']\n",
    "        data_merge['arpu'] = data_merge['pay_rate']*data_merge['arppu']\n",
    "        \n",
    "        return data_merge\n",
    "    \n",
    "    def decorate_data(self):\n",
    "        \n"
   ]
  },
  {
   "cell_type": "code",
   "execution_count": 114,
   "id": "30376aa9",
   "metadata": {
    "ExecuteTime": {
     "end_time": "2022-05-16T05:49:39.972087Z",
     "start_time": "2022-05-16T05:49:39.968087Z"
    }
   },
   "outputs": [],
   "source": [
    "AutoEmail=AutoEmail(path='E:\\Github\\study_pandas', host='47.243.228.210', \n",
    "                    user='dingyanlin', password='dingdingding123', database='fact_20000073_11', port=9030)"
   ]
  },
  {
   "cell_type": "code",
   "execution_count": 15,
   "id": "47224817",
   "metadata": {
    "ExecuteTime": {
     "end_time": "2022-05-16T04:39:32.511863Z",
     "start_time": "2022-05-16T04:39:32.506862Z"
    },
    "scrolled": true
   },
   "outputs": [
    {
     "data": {
      "text/plain": [
       "['E:\\\\Github\\\\study_pandas\\\\sqls\\\\1.sql']"
      ]
     },
     "execution_count": 15,
     "metadata": {},
     "output_type": "execute_result"
    }
   ],
   "source": [
    "AutoEmail.get_path()"
   ]
  },
  {
   "cell_type": "code",
   "execution_count": 58,
   "id": "dccbe91b",
   "metadata": {
    "ExecuteTime": {
     "end_time": "2022-05-16T05:11:29.303761Z",
     "start_time": "2022-05-16T05:10:58.094229Z"
    }
   },
   "outputs": [],
   "source": [
    "data = AutoEmail.get_data()"
   ]
  },
  {
   "cell_type": "code",
   "execution_count": 59,
   "id": "a3b130a9",
   "metadata": {
    "ExecuteTime": {
     "end_time": "2022-05-16T05:12:05.725355Z",
     "start_time": "2022-05-16T05:12:05.707360Z"
    }
   },
   "outputs": [
    {
     "data": {
      "text/html": [
       "<div>\n",
       "<style scoped>\n",
       "    .dataframe tbody tr th:only-of-type {\n",
       "        vertical-align: middle;\n",
       "    }\n",
       "\n",
       "    .dataframe tbody tr th {\n",
       "        vertical-align: top;\n",
       "    }\n",
       "\n",
       "    .dataframe thead th {\n",
       "        text-align: right;\n",
       "    }\n",
       "</style>\n",
       "<table border=\"1\" class=\"dataframe\">\n",
       "  <thead>\n",
       "    <tr style=\"text-align: right;\">\n",
       "      <th></th>\n",
       "      <th>date</th>\n",
       "      <th>first_date</th>\n",
       "      <th>retention_day</th>\n",
       "      <th>l_baselevel</th>\n",
       "      <th>country</th>\n",
       "      <th>network</th>\n",
       "      <th>f_serveridofevent</th>\n",
       "      <th>uid</th>\n",
       "      <th>price</th>\n",
       "      <th>total_price</th>\n",
       "      <th>ac_price_tag</th>\n",
       "    </tr>\n",
       "  </thead>\n",
       "  <tbody>\n",
       "    <tr>\n",
       "      <th>0</th>\n",
       "      <td>2022-04-21</td>\n",
       "      <td>2022-04-21</td>\n",
       "      <td>0</td>\n",
       "      <td>1</td>\n",
       "      <td>us</td>\n",
       "      <td>TikTok Ads</td>\n",
       "      <td>3</td>\n",
       "      <td>100033873000003</td>\n",
       "      <td>0.0</td>\n",
       "      <td>0.00</td>\n",
       "      <td>未付费</td>\n",
       "    </tr>\n",
       "    <tr>\n",
       "      <th>1</th>\n",
       "      <td>2022-04-21</td>\n",
       "      <td>2022-04-21</td>\n",
       "      <td>0</td>\n",
       "      <td>0</td>\n",
       "      <td>ph</td>\n",
       "      <td>Unattributed</td>\n",
       "      <td>3</td>\n",
       "      <td>100062273000003</td>\n",
       "      <td>0.0</td>\n",
       "      <td>0.00</td>\n",
       "      <td>未付费</td>\n",
       "    </tr>\n",
       "    <tr>\n",
       "      <th>2</th>\n",
       "      <td>2022-04-21</td>\n",
       "      <td>2022-04-21</td>\n",
       "      <td>0</td>\n",
       "      <td>4</td>\n",
       "      <td>mx</td>\n",
       "      <td>Unattributed</td>\n",
       "      <td>3</td>\n",
       "      <td>100182728000003</td>\n",
       "      <td>0.0</td>\n",
       "      <td>0.00</td>\n",
       "      <td>未付费</td>\n",
       "    </tr>\n",
       "    <tr>\n",
       "      <th>3</th>\n",
       "      <td>2022-04-21</td>\n",
       "      <td>2022-04-21</td>\n",
       "      <td>0</td>\n",
       "      <td>6</td>\n",
       "      <td>in</td>\n",
       "      <td>Unattributed</td>\n",
       "      <td>3</td>\n",
       "      <td>100202390000003</td>\n",
       "      <td>0.0</td>\n",
       "      <td>0.00</td>\n",
       "      <td>未付费</td>\n",
       "    </tr>\n",
       "    <tr>\n",
       "      <th>4</th>\n",
       "      <td>2022-04-21</td>\n",
       "      <td>2022-04-21</td>\n",
       "      <td>0</td>\n",
       "      <td>4</td>\n",
       "      <td>pk</td>\n",
       "      <td>Organic</td>\n",
       "      <td>3</td>\n",
       "      <td>100441919000003</td>\n",
       "      <td>0.0</td>\n",
       "      <td>0.00</td>\n",
       "      <td>未付费</td>\n",
       "    </tr>\n",
       "    <tr>\n",
       "      <th>...</th>\n",
       "      <td>...</td>\n",
       "      <td>...</td>\n",
       "      <td>...</td>\n",
       "      <td>...</td>\n",
       "      <td>...</td>\n",
       "      <td>...</td>\n",
       "      <td>...</td>\n",
       "      <td>...</td>\n",
       "      <td>...</td>\n",
       "      <td>...</td>\n",
       "      <td>...</td>\n",
       "    </tr>\n",
       "    <tr>\n",
       "      <th>281892</th>\n",
       "      <td>2022-05-14</td>\n",
       "      <td>2022-04-21</td>\n",
       "      <td>23</td>\n",
       "      <td>11</td>\n",
       "      <td>gb</td>\n",
       "      <td>Organic</td>\n",
       "      <td>3</td>\n",
       "      <td>92360298000003</td>\n",
       "      <td>0.0</td>\n",
       "      <td>0.99</td>\n",
       "      <td>(0,1]</td>\n",
       "    </tr>\n",
       "    <tr>\n",
       "      <th>281893</th>\n",
       "      <td>2022-05-14</td>\n",
       "      <td>2022-04-21</td>\n",
       "      <td>23</td>\n",
       "      <td>14</td>\n",
       "      <td>in</td>\n",
       "      <td>Unattributed</td>\n",
       "      <td>3</td>\n",
       "      <td>92558383000003</td>\n",
       "      <td>0.0</td>\n",
       "      <td>1.98</td>\n",
       "      <td>(1,10]</td>\n",
       "    </tr>\n",
       "    <tr>\n",
       "      <th>281894</th>\n",
       "      <td>2022-05-14</td>\n",
       "      <td>2022-05-01</td>\n",
       "      <td>13</td>\n",
       "      <td>7</td>\n",
       "      <td>None</td>\n",
       "      <td>None</td>\n",
       "      <td>4</td>\n",
       "      <td>93287731000004</td>\n",
       "      <td>0.0</td>\n",
       "      <td>0.00</td>\n",
       "      <td>未付费</td>\n",
       "    </tr>\n",
       "    <tr>\n",
       "      <th>281895</th>\n",
       "      <td>2022-05-14</td>\n",
       "      <td>2022-05-01</td>\n",
       "      <td>13</td>\n",
       "      <td>12</td>\n",
       "      <td>de</td>\n",
       "      <td>Organic</td>\n",
       "      <td>4</td>\n",
       "      <td>93388203000004</td>\n",
       "      <td>0.0</td>\n",
       "      <td>0.00</td>\n",
       "      <td>未付费</td>\n",
       "    </tr>\n",
       "    <tr>\n",
       "      <th>281896</th>\n",
       "      <td>2022-05-14</td>\n",
       "      <td>2022-05-01</td>\n",
       "      <td>13</td>\n",
       "      <td>8</td>\n",
       "      <td>fr</td>\n",
       "      <td>Google Ads ACI</td>\n",
       "      <td>4</td>\n",
       "      <td>95193139000004</td>\n",
       "      <td>0.0</td>\n",
       "      <td>0.00</td>\n",
       "      <td>未付费</td>\n",
       "    </tr>\n",
       "  </tbody>\n",
       "</table>\n",
       "<p>281897 rows × 11 columns</p>\n",
       "</div>"
      ],
      "text/plain": [
       "              date  first_date  retention_day  l_baselevel country  \\\n",
       "0       2022-04-21  2022-04-21              0            1      us   \n",
       "1       2022-04-21  2022-04-21              0            0      ph   \n",
       "2       2022-04-21  2022-04-21              0            4      mx   \n",
       "3       2022-04-21  2022-04-21              0            6      in   \n",
       "4       2022-04-21  2022-04-21              0            4      pk   \n",
       "...            ...         ...            ...          ...     ...   \n",
       "281892  2022-05-14  2022-04-21             23           11      gb   \n",
       "281893  2022-05-14  2022-04-21             23           14      in   \n",
       "281894  2022-05-14  2022-05-01             13            7    None   \n",
       "281895  2022-05-14  2022-05-01             13           12      de   \n",
       "281896  2022-05-14  2022-05-01             13            8      fr   \n",
       "\n",
       "               network f_serveridofevent              uid  price  total_price  \\\n",
       "0           TikTok Ads                 3  100033873000003    0.0         0.00   \n",
       "1         Unattributed                 3  100062273000003    0.0         0.00   \n",
       "2         Unattributed                 3  100182728000003    0.0         0.00   \n",
       "3         Unattributed                 3  100202390000003    0.0         0.00   \n",
       "4              Organic                 3  100441919000003    0.0         0.00   \n",
       "...                ...               ...              ...    ...          ...   \n",
       "281892         Organic                 3   92360298000003    0.0         0.99   \n",
       "281893    Unattributed                 3   92558383000003    0.0         1.98   \n",
       "281894            None                 4   93287731000004    0.0         0.00   \n",
       "281895         Organic                 4   93388203000004    0.0         0.00   \n",
       "281896  Google Ads ACI                 4   95193139000004    0.0         0.00   \n",
       "\n",
       "       ac_price_tag  \n",
       "0               未付费  \n",
       "1               未付费  \n",
       "2               未付费  \n",
       "3               未付费  \n",
       "4               未付费  \n",
       "...             ...  \n",
       "281892        (0,1]  \n",
       "281893       (1,10]  \n",
       "281894          未付费  \n",
       "281895          未付费  \n",
       "281896          未付费  \n",
       "\n",
       "[281897 rows x 11 columns]"
      ]
     },
     "execution_count": 59,
     "metadata": {},
     "output_type": "execute_result"
    }
   ],
   "source": [
    "data"
   ]
  },
  {
   "cell_type": "code",
   "execution_count": 115,
   "id": "78771147",
   "metadata": {
    "ExecuteTime": {
     "end_time": "2022-05-16T05:50:20.857517Z",
     "start_time": "2022-05-16T05:49:50.858115Z"
    }
   },
   "outputs": [
    {
     "name": "stderr",
     "output_type": "stream",
     "text": [
      "<ipython-input-113-4c55c3e620b2>:80: FutureWarning: Indexing with multiple keys (implicitly converted to a tuple of keys) will be deprecated, use a list instead.\n",
      "  data2 = data2.groupby(by=['f_serveridofevent', 'country'])['price', 'pay_user'].sum().reset_index()\n"
     ]
    }
   ],
   "source": [
    "data_merge = AutoEmail.data_pivot()"
   ]
  },
  {
   "cell_type": "code",
   "execution_count": 61,
   "id": "0aa7d1a1",
   "metadata": {
    "ExecuteTime": {
     "end_time": "2022-05-16T05:15:12.271930Z",
     "start_time": "2022-05-16T05:15:12.169874Z"
    }
   },
   "outputs": [],
   "source": [
    "df['pay_user'] = df['price'].apply(lambda x: 1 if x>0 else 0)"
   ]
  },
  {
   "cell_type": "code",
   "execution_count": 68,
   "id": "ecd67afc",
   "metadata": {
    "ExecuteTime": {
     "end_time": "2022-05-16T05:21:48.339641Z",
     "start_time": "2022-05-16T05:21:48.276642Z"
    }
   },
   "outputs": [
    {
     "name": "stderr",
     "output_type": "stream",
     "text": [
      "<ipython-input-68-cc6d9208d37c>:1: FutureWarning: Indexing with multiple keys (implicitly converted to a tuple of keys) will be deprecated, use a list instead.\n",
      "  df = df.groupby(by=['f_serveridofevent', 'country'])['price', 'pay_user'].sum().reset_index()\n"
     ]
    }
   ],
   "source": [
    "df = df.groupby(by=['f_serveridofevent', 'country'])['price', 'pay_user'].sum().reset_index()"
   ]
  },
  {
   "cell_type": "code",
   "execution_count": 104,
   "id": "e7dd3e75",
   "metadata": {
    "ExecuteTime": {
     "end_time": "2022-05-16T05:41:12.040806Z",
     "start_time": "2022-05-16T05:40:44.308614Z"
    }
   },
   "outputs": [],
   "source": [
    "df1 = AutoEmail.data_pivot()"
   ]
  },
  {
   "cell_type": "code",
   "execution_count": 107,
   "id": "5e153a8d",
   "metadata": {
    "ExecuteTime": {
     "end_time": "2022-05-16T05:42:04.833794Z",
     "start_time": "2022-05-16T05:42:04.826781Z"
    }
   },
   "outputs": [],
   "source": [
    "df3 = df1.merge(df, on=['f_serveridofevent', 'country'], how='left')"
   ]
  },
  {
   "cell_type": "code",
   "execution_count": 112,
   "id": "ed732bad",
   "metadata": {
    "ExecuteTime": {
     "end_time": "2022-05-16T05:47:20.048485Z",
     "start_time": "2022-05-16T05:47:20.025513Z"
    }
   },
   "outputs": [
    {
     "data": {
      "text/html": [
       "<div>\n",
       "<style scoped>\n",
       "    .dataframe tbody tr th:only-of-type {\n",
       "        vertical-align: middle;\n",
       "    }\n",
       "\n",
       "    .dataframe tbody tr th {\n",
       "        vertical-align: top;\n",
       "    }\n",
       "\n",
       "    .dataframe thead th {\n",
       "        text-align: right;\n",
       "    }\n",
       "</style>\n",
       "<table border=\"1\" class=\"dataframe\">\n",
       "  <thead>\n",
       "    <tr style=\"text-align: right;\">\n",
       "      <th></th>\n",
       "      <th>f_serveridofevent</th>\n",
       "      <th>country</th>\n",
       "      <th>price</th>\n",
       "      <th>pay_user</th>\n",
       "      <th>day0</th>\n",
       "      <th>day1</th>\n",
       "      <th>day2</th>\n",
       "      <th>day3</th>\n",
       "      <th>day4</th>\n",
       "      <th>day5</th>\n",
       "      <th>day6</th>\n",
       "      <th>day13</th>\n",
       "      <th>user_percent</th>\n",
       "    </tr>\n",
       "  </thead>\n",
       "  <tbody>\n",
       "    <tr>\n",
       "      <th>0</th>\n",
       "      <td>3</td>\n",
       "      <td>ad</td>\n",
       "      <td>0.00</td>\n",
       "      <td>0</td>\n",
       "      <td>2.0</td>\n",
       "      <td>0.000000</td>\n",
       "      <td>0.000000</td>\n",
       "      <td>0.000000</td>\n",
       "      <td>0.000000</td>\n",
       "      <td>0.000000</td>\n",
       "      <td>0.000000</td>\n",
       "      <td>0.000000</td>\n",
       "      <td>0.000034</td>\n",
       "    </tr>\n",
       "    <tr>\n",
       "      <th>1</th>\n",
       "      <td>3</td>\n",
       "      <td>ae</td>\n",
       "      <td>0.00</td>\n",
       "      <td>0</td>\n",
       "      <td>421.0</td>\n",
       "      <td>0.142518</td>\n",
       "      <td>0.085714</td>\n",
       "      <td>0.078759</td>\n",
       "      <td>0.047962</td>\n",
       "      <td>0.045564</td>\n",
       "      <td>0.033573</td>\n",
       "      <td>0.016260</td>\n",
       "      <td>0.007100</td>\n",
       "    </tr>\n",
       "    <tr>\n",
       "      <th>2</th>\n",
       "      <td>3</td>\n",
       "      <td>af</td>\n",
       "      <td>0.00</td>\n",
       "      <td>0</td>\n",
       "      <td>97.0</td>\n",
       "      <td>0.145833</td>\n",
       "      <td>0.083333</td>\n",
       "      <td>0.125000</td>\n",
       "      <td>0.042553</td>\n",
       "      <td>0.053191</td>\n",
       "      <td>0.043478</td>\n",
       "      <td>0.000000</td>\n",
       "      <td>0.001636</td>\n",
       "    </tr>\n",
       "    <tr>\n",
       "      <th>3</th>\n",
       "      <td>3</td>\n",
       "      <td>ag</td>\n",
       "      <td>0.00</td>\n",
       "      <td>0</td>\n",
       "      <td>3.0</td>\n",
       "      <td>0.000000</td>\n",
       "      <td>0.000000</td>\n",
       "      <td>0.000000</td>\n",
       "      <td>0.333333</td>\n",
       "      <td>0.000000</td>\n",
       "      <td>0.000000</td>\n",
       "      <td>0.000000</td>\n",
       "      <td>0.000051</td>\n",
       "    </tr>\n",
       "    <tr>\n",
       "      <th>4</th>\n",
       "      <td>3</td>\n",
       "      <td>ai</td>\n",
       "      <td>0.00</td>\n",
       "      <td>0</td>\n",
       "      <td>1.0</td>\n",
       "      <td>0.000000</td>\n",
       "      <td>0.000000</td>\n",
       "      <td>0.000000</td>\n",
       "      <td>0.000000</td>\n",
       "      <td>0.000000</td>\n",
       "      <td>0.000000</td>\n",
       "      <td>0.000000</td>\n",
       "      <td>0.000017</td>\n",
       "    </tr>\n",
       "    <tr>\n",
       "      <th>...</th>\n",
       "      <td>...</td>\n",
       "      <td>...</td>\n",
       "      <td>...</td>\n",
       "      <td>...</td>\n",
       "      <td>...</td>\n",
       "      <td>...</td>\n",
       "      <td>...</td>\n",
       "      <td>...</td>\n",
       "      <td>...</td>\n",
       "      <td>...</td>\n",
       "      <td>...</td>\n",
       "      <td>...</td>\n",
       "      <td>...</td>\n",
       "    </tr>\n",
       "    <tr>\n",
       "      <th>393</th>\n",
       "      <td>4</td>\n",
       "      <td>vn</td>\n",
       "      <td>1.98</td>\n",
       "      <td>1</td>\n",
       "      <td>7.0</td>\n",
       "      <td>0.166667</td>\n",
       "      <td>0.000000</td>\n",
       "      <td>0.000000</td>\n",
       "      <td>0.000000</td>\n",
       "      <td>0.000000</td>\n",
       "      <td>0.000000</td>\n",
       "      <td>0.000000</td>\n",
       "      <td>0.000080</td>\n",
       "    </tr>\n",
       "    <tr>\n",
       "      <th>394</th>\n",
       "      <td>4</td>\n",
       "      <td>ye</td>\n",
       "      <td>0.00</td>\n",
       "      <td>0</td>\n",
       "      <td>23.0</td>\n",
       "      <td>0.350000</td>\n",
       "      <td>0.300000</td>\n",
       "      <td>0.157895</td>\n",
       "      <td>0.166667</td>\n",
       "      <td>0.111111</td>\n",
       "      <td>0.133333</td>\n",
       "      <td>0.333333</td>\n",
       "      <td>0.000263</td>\n",
       "    </tr>\n",
       "    <tr>\n",
       "      <th>395</th>\n",
       "      <td>4</td>\n",
       "      <td>za</td>\n",
       "      <td>54.65</td>\n",
       "      <td>27</td>\n",
       "      <td>1337.0</td>\n",
       "      <td>0.246522</td>\n",
       "      <td>0.128594</td>\n",
       "      <td>0.102881</td>\n",
       "      <td>0.077366</td>\n",
       "      <td>0.074539</td>\n",
       "      <td>0.069172</td>\n",
       "      <td>0.054545</td>\n",
       "      <td>0.015313</td>\n",
       "    </tr>\n",
       "    <tr>\n",
       "      <th>396</th>\n",
       "      <td>4</td>\n",
       "      <td>zm</td>\n",
       "      <td>0.00</td>\n",
       "      <td>0</td>\n",
       "      <td>12.0</td>\n",
       "      <td>0.000000</td>\n",
       "      <td>0.090909</td>\n",
       "      <td>0.000000</td>\n",
       "      <td>0.000000</td>\n",
       "      <td>0.000000</td>\n",
       "      <td>0.000000</td>\n",
       "      <td>0.000000</td>\n",
       "      <td>0.000137</td>\n",
       "    </tr>\n",
       "    <tr>\n",
       "      <th>397</th>\n",
       "      <td>4</td>\n",
       "      <td>zw</td>\n",
       "      <td>0.00</td>\n",
       "      <td>0</td>\n",
       "      <td>10.0</td>\n",
       "      <td>0.222222</td>\n",
       "      <td>0.111111</td>\n",
       "      <td>0.125000</td>\n",
       "      <td>0.000000</td>\n",
       "      <td>0.125000</td>\n",
       "      <td>0.125000</td>\n",
       "      <td>0.000000</td>\n",
       "      <td>0.000115</td>\n",
       "    </tr>\n",
       "  </tbody>\n",
       "</table>\n",
       "<p>398 rows × 13 columns</p>\n",
       "</div>"
      ],
      "text/plain": [
       "    f_serveridofevent country  price  pay_user    day0      day1      day2  \\\n",
       "0                   3      ad   0.00         0     2.0  0.000000  0.000000   \n",
       "1                   3      ae   0.00         0   421.0  0.142518  0.085714   \n",
       "2                   3      af   0.00         0    97.0  0.145833  0.083333   \n",
       "3                   3      ag   0.00         0     3.0  0.000000  0.000000   \n",
       "4                   3      ai   0.00         0     1.0  0.000000  0.000000   \n",
       "..                ...     ...    ...       ...     ...       ...       ...   \n",
       "393                 4      vn   1.98         1     7.0  0.166667  0.000000   \n",
       "394                 4      ye   0.00         0    23.0  0.350000  0.300000   \n",
       "395                 4      za  54.65        27  1337.0  0.246522  0.128594   \n",
       "396                 4      zm   0.00         0    12.0  0.000000  0.090909   \n",
       "397                 4      zw   0.00         0    10.0  0.222222  0.111111   \n",
       "\n",
       "         day3      day4      day5      day6     day13  user_percent  \n",
       "0    0.000000  0.000000  0.000000  0.000000  0.000000      0.000034  \n",
       "1    0.078759  0.047962  0.045564  0.033573  0.016260      0.007100  \n",
       "2    0.125000  0.042553  0.053191  0.043478  0.000000      0.001636  \n",
       "3    0.000000  0.333333  0.000000  0.000000  0.000000      0.000051  \n",
       "4    0.000000  0.000000  0.000000  0.000000  0.000000      0.000017  \n",
       "..        ...       ...       ...       ...       ...           ...  \n",
       "393  0.000000  0.000000  0.000000  0.000000  0.000000      0.000080  \n",
       "394  0.157895  0.166667  0.111111  0.133333  0.333333      0.000263  \n",
       "395  0.102881  0.077366  0.074539  0.069172  0.054545      0.015313  \n",
       "396  0.000000  0.000000  0.000000  0.000000  0.000000      0.000137  \n",
       "397  0.125000  0.000000  0.125000  0.125000  0.000000      0.000115  \n",
       "\n",
       "[398 rows x 13 columns]"
      ]
     },
     "execution_count": 112,
     "metadata": {},
     "output_type": "execute_result"
    }
   ],
   "source": [
    "data_res"
   ]
  },
  {
   "cell_type": "code",
   "execution_count": 21,
   "id": "1e5fb09a",
   "metadata": {
    "ExecuteTime": {
     "end_time": "2022-05-16T04:42:34.053764Z",
     "start_time": "2022-05-16T04:42:33.875764Z"
    }
   },
   "outputs": [],
   "source": [
    "data.to_excel('test.xlsx', index=False, engine='openpyxl')"
   ]
  },
  {
   "cell_type": "code",
   "execution_count": 64,
   "id": "4e95b737",
   "metadata": {
    "ExecuteTime": {
     "end_time": "2022-05-16T05:16:38.722109Z",
     "start_time": "2022-05-16T05:16:36.805056Z"
    }
   },
   "outputs": [],
   "source": [
    "data_test.to_excel('test2.xlsx', index=False, engine='openpyxl')"
   ]
  },
  {
   "cell_type": "code",
   "execution_count": 108,
   "id": "cb5b764b",
   "metadata": {
    "ExecuteTime": {
     "end_time": "2022-05-16T05:42:13.340221Z",
     "start_time": "2022-05-16T05:42:13.241223Z"
    }
   },
   "outputs": [],
   "source": [
    "df3.to_excel('test3.xlsx', index=False, engine='openpyxl')"
   ]
  },
  {
   "cell_type": "code",
   "execution_count": 117,
   "id": "7a6900e6",
   "metadata": {
    "ExecuteTime": {
     "end_time": "2022-05-16T05:51:53.752390Z",
     "start_time": "2022-05-16T05:51:53.645315Z"
    }
   },
   "outputs": [],
   "source": [
    "data_merge.to_excel('merge.xlsx', index=False, engine='openpyxl')"
   ]
  },
  {
   "cell_type": "code",
   "execution_count": null,
   "id": "c737aefc",
   "metadata": {},
   "outputs": [],
   "source": []
  }
 ],
 "metadata": {
  "kernelspec": {
   "display_name": "Python 3",
   "language": "python",
   "name": "python3"
  },
  "language_info": {
   "codemirror_mode": {
    "name": "ipython",
    "version": 3
   },
   "file_extension": ".py",
   "mimetype": "text/x-python",
   "name": "python",
   "nbconvert_exporter": "python",
   "pygments_lexer": "ipython3",
   "version": "3.8.8"
  },
  "toc": {
   "base_numbering": 1,
   "nav_menu": {},
   "number_sections": true,
   "sideBar": true,
   "skip_h1_title": false,
   "title_cell": "Table of Contents",
   "title_sidebar": "Contents",
   "toc_cell": false,
   "toc_position": {},
   "toc_section_display": true,
   "toc_window_display": false
  },
  "varInspector": {
   "cols": {
    "lenName": 16,
    "lenType": 16,
    "lenVar": 40
   },
   "kernels_config": {
    "python": {
     "delete_cmd_postfix": "",
     "delete_cmd_prefix": "del ",
     "library": "var_list.py",
     "varRefreshCmd": "print(var_dic_list())"
    },
    "r": {
     "delete_cmd_postfix": ") ",
     "delete_cmd_prefix": "rm(",
     "library": "var_list.r",
     "varRefreshCmd": "cat(var_dic_list()) "
    }
   },
   "types_to_exclude": [
    "module",
    "function",
    "builtin_function_or_method",
    "instance",
    "_Feature"
   ],
   "window_display": false
  }
 },
 "nbformat": 4,
 "nbformat_minor": 5
}
